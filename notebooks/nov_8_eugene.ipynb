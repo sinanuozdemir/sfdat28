{
 "cells": [
  {
   "cell_type": "code",
   "execution_count": 23,
   "metadata": {
    "collapsed": true
   },
   "outputs": [],
   "source": [
    "from sklearn import metrics\n",
    "import numpy as np\n",
    "import pandas as pd\n",
    "import requests\n",
    "%matplotlib inline\n",
    "import matplotlib.pyplot as plt\n",
    "import seaborn as sns"
   ]
  },
  {
   "cell_type": "code",
   "execution_count": 30,
   "metadata": {
    "collapsed": false
   },
   "outputs": [],
   "source": [
    "r = requests.get('https://www.strava.com/api/v3/athlete', data={'access_token': '1a870acccbdde888dacddbcb4c0f14bd55df8ddf'})"
   ]
  },
  {
   "cell_type": "code",
   "execution_count": 34,
   "metadata": {
    "collapsed": false
   },
   "outputs": [
    {
     "data": {
      "text/plain": [
       "{u'athlete_type': 0,\n",
       " u'badge_type_id': 0,\n",
       " u'bikes': [{u'distance': 271861.0,\n",
       "   u'id': u'b1443262',\n",
       "   u'name': u'Cannondale Slice 4 Rival',\n",
       "   u'primary': False,\n",
       "   u'resource_state': 2},\n",
       "  {u'distance': 7136859.0,\n",
       "   u'id': u'b1314028',\n",
       "   u'name': u'Fuji Altamira 3.0 LE 2012',\n",
       "   u'primary': True,\n",
       "   u'resource_state': 2}],\n",
       " u'city': u'San Francisco',\n",
       " u'clubs': [{u'city': u'San Francisco',\n",
       "   u'country': u'United States',\n",
       "   u'cover_photo': u'https://dgalywyr863hv.cloudfront.net/pictures/clubs/15879/4453767/5/large.jpg',\n",
       "   u'cover_photo_small': u'https://dgalywyr863hv.cloudfront.net/pictures/clubs/15879/4453767/5/small.jpg',\n",
       "   u'featured': False,\n",
       "   u'id': 15879,\n",
       "   u'member_count': 1095,\n",
       "   u'name': u'San Francisco Running Company',\n",
       "   u'private': False,\n",
       "   u'profile': u'https://dgalywyr863hv.cloudfront.net/pictures/clubs/15879/314178/1/large.jpg',\n",
       "   u'profile_medium': u'https://dgalywyr863hv.cloudfront.net/pictures/clubs/15879/314178/1/medium.jpg',\n",
       "   u'resource_state': 2,\n",
       "   u'sport_type': u'running',\n",
       "   u'state': u'California',\n",
       "   u'url': u'san-francisco-running-company',\n",
       "   u'verified': True},\n",
       "  {u'city': u'Palo Alto',\n",
       "   u'country': u'United States',\n",
       "   u'cover_photo': None,\n",
       "   u'cover_photo_small': None,\n",
       "   u'featured': False,\n",
       "   u'id': 2052,\n",
       "   u'member_count': 42,\n",
       "   u'name': u'SurveyMonkey',\n",
       "   u'private': False,\n",
       "   u'profile': u'https://dgalywyr863hv.cloudfront.net/pictures/clubs/2052/21885/1/large.jpg',\n",
       "   u'profile_medium': u'https://dgalywyr863hv.cloudfront.net/pictures/clubs/2052/21885/1/medium.jpg',\n",
       "   u'resource_state': 2,\n",
       "   u'sport_type': u'cycling',\n",
       "   u'state': u'California',\n",
       "   u'url': u'surveymonkey',\n",
       "   u'verified': False},\n",
       "  {u'city': u'San Francisco',\n",
       "   u'country': u'United States',\n",
       "   u'cover_photo': None,\n",
       "   u'cover_photo_small': None,\n",
       "   u'featured': False,\n",
       "   u'id': 220,\n",
       "   u'member_count': 456,\n",
       "   u'name': u'Golden Gate Triathlon Club',\n",
       "   u'private': False,\n",
       "   u'profile': u'https://dgalywyr863hv.cloudfront.net/pictures/clubs/220/596/3/large.jpg',\n",
       "   u'profile_medium': u'https://dgalywyr863hv.cloudfront.net/pictures/clubs/220/596/3/medium.jpg',\n",
       "   u'resource_state': 2,\n",
       "   u'sport_type': u'triathlon',\n",
       "   u'state': u'California',\n",
       "   u'url': u'golden-gate-triathlon-club',\n",
       "   u'verified': False},\n",
       "  {u'city': u'San Francisco',\n",
       "   u'country': u'United States',\n",
       "   u'cover_photo': None,\n",
       "   u'cover_photo_small': None,\n",
       "   u'featured': False,\n",
       "   u'id': 9,\n",
       "   u'member_count': 824,\n",
       "   u'name': u'SF2G',\n",
       "   u'private': False,\n",
       "   u'profile': u'https://dgalywyr863hv.cloudfront.net/pictures/clubs/9/552/2/large.jpg',\n",
       "   u'profile_medium': u'https://dgalywyr863hv.cloudfront.net/pictures/clubs/9/552/2/medium.jpg',\n",
       "   u'resource_state': 2,\n",
       "   u'sport_type': u'cycling',\n",
       "   u'state': u'California',\n",
       "   u'url': u'sf2g',\n",
       "   u'verified': False},\n",
       "  {u'city': u'San Francisco',\n",
       "   u'country': u'United States',\n",
       "   u'cover_photo': None,\n",
       "   u'cover_photo_small': None,\n",
       "   u'featured': False,\n",
       "   u'id': 148324,\n",
       "   u'member_count': 36,\n",
       "   u'name': u'Slack',\n",
       "   u'private': False,\n",
       "   u'profile': u'https://dgalywyr863hv.cloudfront.net/pictures/clubs/148324/2971770/1/large.jpg',\n",
       "   u'profile_medium': u'https://dgalywyr863hv.cloudfront.net/pictures/clubs/148324/2971770/1/medium.jpg',\n",
       "   u'resource_state': 2,\n",
       "   u'sport_type': u'cycling',\n",
       "   u'state': u'California',\n",
       "   u'url': u'slack',\n",
       "   u'verified': False},\n",
       "  {u'city': u'San Francisco',\n",
       "   u'country': u'United States',\n",
       "   u'cover_photo': u'https://dgalywyr863hv.cloudfront.net/pictures/clubs/207515/4551525/1/large.jpg',\n",
       "   u'cover_photo_small': u'https://dgalywyr863hv.cloudfront.net/pictures/clubs/207515/4551525/1/small.jpg',\n",
       "   u'featured': False,\n",
       "   u'id': 207515,\n",
       "   u'member_count': 11,\n",
       "   u'name': u'Blood, Slack, and Tears',\n",
       "   u'private': False,\n",
       "   u'profile': u'https://dgalywyr863hv.cloudfront.net/pictures/clubs/207515/4551517/1/large.jpg',\n",
       "   u'profile_medium': u'https://dgalywyr863hv.cloudfront.net/pictures/clubs/207515/4551517/1/medium.jpg',\n",
       "   u'resource_state': 2,\n",
       "   u'sport_type': u'running',\n",
       "   u'state': u'California',\n",
       "   u'url': u'slackstars',\n",
       "   u'verified': False}],\n",
       " u'country': u'United States',\n",
       " u'created_at': u'2011-07-29T16:39:08Z',\n",
       " u'date_preference': u'%m/%d/%Y',\n",
       " u'email': u'eugene.berson@gmail.com',\n",
       " u'firstname': u'Eugene',\n",
       " u'follower': None,\n",
       " u'follower_count': 110,\n",
       " u'friend': None,\n",
       " u'friend_count': 109,\n",
       " u'ftp': None,\n",
       " u'id': 117433,\n",
       " u'lastname': u'Berson',\n",
       " u'measurement_preference': u'feet',\n",
       " u'mutual_friend_count': 0,\n",
       " u'premium': False,\n",
       " u'profile': u'https://dgalywyr863hv.cloudfront.net/pictures/athletes/117433/851602/2/large.jpg',\n",
       " u'profile_medium': u'https://dgalywyr863hv.cloudfront.net/pictures/athletes/117433/851602/2/medium.jpg',\n",
       " u'resource_state': 3,\n",
       " u'sex': u'M',\n",
       " u'shoes': [{u'distance': 385463.0,\n",
       "   u'id': u'g375794',\n",
       "   u'name': u'Newton Gravitas',\n",
       "   u'primary': True,\n",
       "   u'resource_state': 2}],\n",
       " u'state': u'CA',\n",
       " u'updated_at': u'2016-01-01T21:18:39Z',\n",
       " u'username': u'eberson',\n",
       " u'weight': 77.1107}"
      ]
     },
     "execution_count": 34,
     "metadata": {},
     "output_type": "execute_result"
    }
   ],
   "source": [
    "r.json()"
   ]
  },
  {
   "cell_type": "code",
   "execution_count": 48,
   "metadata": {
    "collapsed": false
   },
   "outputs": [],
   "source": [
    "def myfunction (x):\n",
    "    weight = x['weight']\n",
    "    city = x['city']\n",
    "    user_name = x['username']\n",
    "    shoe = x['shoes'][0]['name']\n",
    "    sex = x['sex']\n",
    "    return [sex, weight, city, user_name, shoe]"
   ]
  },
  {
   "cell_type": "code",
   "execution_count": 49,
   "metadata": {
    "collapsed": false
   },
   "outputs": [
    {
     "data": {
      "text/plain": [
       "[u'M', 77.1107, u'San Francisco', u'eberson', u'Newton Gravitas']"
      ]
     },
     "execution_count": 49,
     "metadata": {},
     "output_type": "execute_result"
    }
   ],
   "source": [
    "myfunction(r.json())"
   ]
  },
  {
   "cell_type": "code",
   "execution_count": null,
   "metadata": {
    "collapsed": true
   },
   "outputs": [],
   "source": []
  }
 ],
 "metadata": {
  "kernelspec": {
   "display_name": "Python [bersonenv]",
   "language": "python",
   "name": "Python [bersonenv]"
  },
  "language_info": {
   "codemirror_mode": {
    "name": "ipython",
    "version": 2
   },
   "file_extension": ".py",
   "mimetype": "text/x-python",
   "name": "python",
   "nbconvert_exporter": "python",
   "pygments_lexer": "ipython2",
   "version": "2.7.12"
  }
 },
 "nbformat": 4,
 "nbformat_minor": 0
}
