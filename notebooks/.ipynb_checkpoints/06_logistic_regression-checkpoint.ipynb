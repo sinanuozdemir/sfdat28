{
 "cells": [
  {
   "cell_type": "markdown",
   "metadata": {},
   "source": [
    "# Logistic Regression"
   ]
  },
  {
   "cell_type": "markdown",
   "metadata": {},
   "source": [
    "## Agenda\n",
    "\n",
    "1. Refresh your memory on how to do linear regression in scikit-learn\n",
    "2. Attempt to use linear regression for classification\n",
    "3. Show you why logistic regression is a better alternative for classification\n",
    "4. Brief overview of probability, odds, e, log, and log-odds\n",
    "5. Explain the form of logistic regression\n",
    "6. Explain how to interpret logistic regression coefficients\n",
    "7. Compare logistic regression with other models"
   ]
  },
  {
   "cell_type": "markdown",
   "metadata": {},
   "source": [
    "## Part 1: Predicting a Continuous Response"
   ]
  },
  {
   "cell_type": "code",
<<<<<<< HEAD
   "execution_count": 46,
=======
   "execution_count": 1,
>>>>>>> cb83766255735d60d81c4112b7d26b26ef7d2572
   "metadata": {
    "collapsed": false
   },
   "outputs": [],
   "source": [
    "# glass identification dataset\n",
    "import pandas as pd\n",
    "url = 'http://archive.ics.uci.edu/ml/machine-learning-databases/glass/glass.data'\n",
    "col_names = ['id','ri','na','mg','al','si','k','ca','ba','fe','glass_type']\n",
    "glass = pd.read_csv(url, names=col_names, index_col='id')\n",
    "glass['assorted'] = glass.glass_type.map({1:0, 2:0, 3:0, 4:0, 5:1, 6:1, 7:1})"
   ]
  },
  {
   "cell_type": "code",
<<<<<<< HEAD
   "execution_count": 47,
=======
   "execution_count": 2,
>>>>>>> cb83766255735d60d81c4112b7d26b26ef7d2572
   "metadata": {
    "collapsed": false
   },
   "outputs": [
    {
     "data": {
      "text/html": [
       "<div>\n",
       "<table border=\"1\" class=\"dataframe\">\n",
       "  <thead>\n",
       "    <tr style=\"text-align: right;\">\n",
       "      <th></th>\n",
       "      <th>ri</th>\n",
       "      <th>na</th>\n",
       "      <th>mg</th>\n",
       "      <th>al</th>\n",
       "      <th>si</th>\n",
       "      <th>k</th>\n",
       "      <th>ca</th>\n",
       "      <th>ba</th>\n",
       "      <th>fe</th>\n",
       "      <th>glass_type</th>\n",
       "      <th>assorted</th>\n",
       "    </tr>\n",
       "    <tr>\n",
       "      <th>id</th>\n",
       "      <th></th>\n",
       "      <th></th>\n",
       "      <th></th>\n",
       "      <th></th>\n",
       "      <th></th>\n",
       "      <th></th>\n",
       "      <th></th>\n",
       "      <th></th>\n",
       "      <th></th>\n",
       "      <th></th>\n",
       "      <th></th>\n",
       "    </tr>\n",
       "  </thead>\n",
       "  <tbody>\n",
       "    <tr>\n",
       "      <th>1</th>\n",
       "      <td>1.52101</td>\n",
       "      <td>13.64</td>\n",
       "      <td>4.49</td>\n",
       "      <td>1.10</td>\n",
       "      <td>71.78</td>\n",
       "      <td>0.06</td>\n",
       "      <td>8.75</td>\n",
       "      <td>0.0</td>\n",
       "      <td>0.0</td>\n",
       "      <td>1</td>\n",
       "      <td>0</td>\n",
       "    </tr>\n",
       "    <tr>\n",
       "      <th>2</th>\n",
       "      <td>1.51761</td>\n",
       "      <td>13.89</td>\n",
       "      <td>3.60</td>\n",
       "      <td>1.36</td>\n",
       "      <td>72.73</td>\n",
       "      <td>0.48</td>\n",
       "      <td>7.83</td>\n",
       "      <td>0.0</td>\n",
       "      <td>0.0</td>\n",
       "      <td>1</td>\n",
       "      <td>0</td>\n",
       "    </tr>\n",
       "    <tr>\n",
       "      <th>3</th>\n",
       "      <td>1.51618</td>\n",
       "      <td>13.53</td>\n",
       "      <td>3.55</td>\n",
       "      <td>1.54</td>\n",
       "      <td>72.99</td>\n",
       "      <td>0.39</td>\n",
       "      <td>7.78</td>\n",
       "      <td>0.0</td>\n",
       "      <td>0.0</td>\n",
       "      <td>1</td>\n",
       "      <td>0</td>\n",
       "    </tr>\n",
       "    <tr>\n",
       "      <th>4</th>\n",
       "      <td>1.51766</td>\n",
       "      <td>13.21</td>\n",
       "      <td>3.69</td>\n",
       "      <td>1.29</td>\n",
       "      <td>72.61</td>\n",
       "      <td>0.57</td>\n",
       "      <td>8.22</td>\n",
       "      <td>0.0</td>\n",
       "      <td>0.0</td>\n",
       "      <td>1</td>\n",
       "      <td>0</td>\n",
       "    </tr>\n",
       "    <tr>\n",
       "      <th>5</th>\n",
       "      <td>1.51742</td>\n",
       "      <td>13.27</td>\n",
       "      <td>3.62</td>\n",
       "      <td>1.24</td>\n",
       "      <td>73.08</td>\n",
       "      <td>0.55</td>\n",
       "      <td>8.07</td>\n",
       "      <td>0.0</td>\n",
       "      <td>0.0</td>\n",
       "      <td>1</td>\n",
       "      <td>0</td>\n",
       "    </tr>\n",
       "  </tbody>\n",
       "</table>\n",
       "</div>"
      ],
      "text/plain": [
       "         ri     na    mg    al     si     k    ca   ba   fe  glass_type  \\\n",
       "id                                                                        \n",
       "1   1.52101  13.64  4.49  1.10  71.78  0.06  8.75  0.0  0.0           1   \n",
       "2   1.51761  13.89  3.60  1.36  72.73  0.48  7.83  0.0  0.0           1   \n",
       "3   1.51618  13.53  3.55  1.54  72.99  0.39  7.78  0.0  0.0           1   \n",
       "4   1.51766  13.21  3.69  1.29  72.61  0.57  8.22  0.0  0.0           1   \n",
       "5   1.51742  13.27  3.62  1.24  73.08  0.55  8.07  0.0  0.0           1   \n",
       "\n",
       "    assorted  \n",
       "id            \n",
       "1          0  \n",
       "2          0  \n",
       "3          0  \n",
       "4          0  \n",
       "5          0  "
      ]
     },
<<<<<<< HEAD
     "execution_count": 47,
=======
     "execution_count": 2,
>>>>>>> cb83766255735d60d81c4112b7d26b26ef7d2572
     "metadata": {},
     "output_type": "execute_result"
    }
   ],
   "source": [
    "glass.head()"
   ]
  },
  {
   "cell_type": "markdown",
   "metadata": {},
   "source": [
    "Pretend that we want to predict **ri**, and our only feature is **al**. How would we do it using machine learning? We would frame it as a regression problem, and use a linear regression model with **al** as the only feature and **ri** as the response.\n",
    "\n",
    "How would we **visualize** this model? Create a scatter plot with **al** on the x-axis and **ri** on the y-axis, and draw the line of best fit."
   ]
  },
  {
   "cell_type": "code",
<<<<<<< HEAD
   "execution_count": 48,
   "metadata": {
    "collapsed": false
   },
   "outputs": [],
=======
   "execution_count": 3,
   "metadata": {
    "collapsed": false
   },
   "outputs": [
    {
     "name": "stderr",
     "output_type": "stream",
     "text": [
      "/Users/sinanozdemir/anaconda/envs/sfdat28/lib/python2.7/site-packages/matplotlib/font_manager.py:273: UserWarning: Matplotlib is building the font cache using fc-list. This may take a moment.\n",
      "  warnings.warn('Matplotlib is building the font cache using fc-list. This may take a moment.')\n"
     ]
    }
   ],
>>>>>>> cb83766255735d60d81c4112b7d26b26ef7d2572
   "source": [
    "import seaborn as sns\n",
    "import matplotlib.pyplot as plt\n",
    "%matplotlib inline"
   ]
  },
  {
   "cell_type": "code",
<<<<<<< HEAD
   "execution_count": 49,
=======
   "execution_count": 4,
>>>>>>> cb83766255735d60d81c4112b7d26b26ef7d2572
   "metadata": {
    "collapsed": false
   },
   "outputs": [
    {
     "data": {
      "text/plain": [
<<<<<<< HEAD
       "<seaborn.axisgrid.FacetGrid at 0x12ec7a6d0>"
      ]
     },
     "execution_count": 49,
=======
       "<seaborn.axisgrid.FacetGrid at 0x1044cb850>"
      ]
     },
     "execution_count": 4,
>>>>>>> cb83766255735d60d81c4112b7d26b26ef7d2572
     "metadata": {},
     "output_type": "execute_result"
    },
    {
     "data": {
<<<<<<< HEAD
      "image/png": "iVBORw0KGgoAAAANSUhEUgAAAWEAAAFhCAYAAACh/xvXAAAABHNCSVQICAgIfAhkiAAAAAlwSFlz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\nCYuI+EhJWETER/8/CKsg8nZYJSAAAAAASUVORK5CYII=\n",
      "text/plain": [
       "<matplotlib.figure.Figure at 0x12ec7acd0>"
=======
      "image/png": "iVBORw0KGgoAAAANSUhEUgAAAekAAAHsCAYAAAD2A1UkAAAABHNCSVQICAgIfAhkiAAAAAlwSFlz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\n",
      "text/plain": [
       "<matplotlib.figure.Figure at 0x116715b50>"
>>>>>>> cb83766255735d60d81c4112b7d26b26ef7d2572
      ]
     },
     "metadata": {},
     "output_type": "display_data"
    }
   ],
   "source": [
    "sns.lmplot(x='al', y='ri', data=glass, ci=None)"
   ]
  },
  {
   "cell_type": "markdown",
   "metadata": {},
   "source": [
    "If we had an **al** value of 2, what would we predict for **ri**? Roughly 1.517.\n",
    "\n"
   ]
  },
  {
   "cell_type": "code",
<<<<<<< HEAD
   "execution_count": 51,
=======
   "execution_count": 5,
>>>>>>> cb83766255735d60d81c4112b7d26b26ef7d2572
   "metadata": {
    "collapsed": false
   },
   "outputs": [
    {
     "data": {
      "text/plain": [
<<<<<<< HEAD
       "<matplotlib.axes._subplots.AxesSubplot at 0x130c7e250>"
      ]
     },
     "execution_count": 51,
=======
       "<matplotlib.axes._subplots.AxesSubplot at 0x11675ee50>"
      ]
     },
     "execution_count": 5,
>>>>>>> cb83766255735d60d81c4112b7d26b26ef7d2572
     "metadata": {},
     "output_type": "execute_result"
    },
    {
     "data": {
<<<<<<< HEAD
      "image/png": "iVBORw0KGgoAAAANSUhEUgAAAY0AAAEMCAYAAAA4S+qsAAAABHNCSVQICAgIfAhkiAAAAAlwSFlz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\nwnqfAAAAAElFTkSuQmCC\n",
      "text/plain": [
       "<matplotlib.figure.Figure at 0x130c8f150>"
=======
      "image/png": "iVBORw0KGgoAAAANSUhEUgAAAigAAAF9CAYAAAAuppNcAAAABHNCSVQICAgIfAhkiAAAAAlwSFlz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\nIiIiIo7z/wGdl3N/Y9pF6wAAAABJRU5ErkJggg==\n",
      "text/plain": [
       "<matplotlib.figure.Figure at 0x116224e50>"
>>>>>>> cb83766255735d60d81c4112b7d26b26ef7d2572
      ]
     },
     "metadata": {},
     "output_type": "display_data"
    }
   ],
   "source": [
    "# Exercise: Draw the scatter plot using Pandas.\n",
    "\n",
    "\n",
    "\n",
    "\n",
    "\n",
    "\n",
    "\n",
    "\n",
    "\n",
    "\n",
    "\n",
    "\n",
    "\n",
    "\n",
    "\n",
    "\n",
    "# scatter plot using Pandas\n",
    "glass.plot(kind='scatter', x='al', y='ri')"
   ]
  },
  {
   "cell_type": "code",
   "execution_count": null,
   "metadata": {
    "collapsed": false
   },
   "outputs": [],
   "source": []
  },
  {
   "cell_type": "code",
<<<<<<< HEAD
   "execution_count": 53,
=======
   "execution_count": 6,
>>>>>>> cb83766255735d60d81c4112b7d26b26ef7d2572
   "metadata": {
    "collapsed": false
   },
   "outputs": [
    {
     "data": {
      "text/plain": [
       "LinearRegression(copy_X=True, fit_intercept=True, n_jobs=1, normalize=False)"
      ]
     },
<<<<<<< HEAD
     "execution_count": 53,
=======
     "execution_count": 6,
>>>>>>> cb83766255735d60d81c4112b7d26b26ef7d2572
     "metadata": {},
     "output_type": "execute_result"
    }
   ],
   "source": [
    "# fit a linear regression model to predict ri from al\n",
    "from sklearn.linear_model import LinearRegression\n",
    "linreg = LinearRegression()\n",
    "feature_cols = ['al']\n",
    "X = glass[feature_cols]\n",
    "y = glass.ri\n",
    "linreg.fit(X, y)"
   ]
  },
  {
   "cell_type": "code",
<<<<<<< HEAD
   "execution_count": 54,
=======
   "execution_count": 7,
>>>>>>> cb83766255735d60d81c4112b7d26b26ef7d2572
   "metadata": {
    "collapsed": false
   },
   "outputs": [
    {
     "name": "stdout",
     "output_type": "stream",
     "text": [
      "1.52194533024\n",
      "[-0.00247761]\n"
     ]
    }
   ],
   "source": [
    "# look at the coefficients to get the equation for the line, but then how do you plot the line?\n",
    "print linreg.intercept_\n",
    "print linreg.coef_"
   ]
  },
  {
   "cell_type": "code",
<<<<<<< HEAD
   "execution_count": 55,
=======
   "execution_count": 8,
>>>>>>> cb83766255735d60d81c4112b7d26b26ef7d2572
   "metadata": {
    "collapsed": false
   },
   "outputs": [
    {
     "name": "stdout",
     "output_type": "stream",
     "text": [
      "[ 1.51946772]\n",
      "[ 1.51699012]\n",
      "[ 1.51451251]\n"
     ]
    }
   ],
   "source": [
    "# you could make predictions for arbitrary points, and then plot a line connecting them\n",
    "print linreg.predict(1)\n",
    "print linreg.predict(2)\n",
    "print linreg.predict(3)"
   ]
  },
  {
   "cell_type": "code",
<<<<<<< HEAD
   "execution_count": 56,
=======
   "execution_count": 9,
>>>>>>> cb83766255735d60d81c4112b7d26b26ef7d2572
   "metadata": {
    "collapsed": false
   },
   "outputs": [
    {
     "data": {
      "text/plain": [
<<<<<<< HEAD
       "[<matplotlib.lines.Line2D at 0x130d3f510>]"
      ]
     },
     "execution_count": 56,
=======
       "[<matplotlib.lines.Line2D at 0x11782b650>]"
      ]
     },
     "execution_count": 9,
>>>>>>> cb83766255735d60d81c4112b7d26b26ef7d2572
     "metadata": {},
     "output_type": "execute_result"
    },
    {
     "data": {
<<<<<<< HEAD
      "image/png": "iVBORw0KGgoAAAANSUhEUgAAAX4AAAD9CAYAAAC7iRw+AAAABHNCSVQICAgIfAhkiAAAAAlwSFlz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\n",
      "text/plain": [
       "<matplotlib.figure.Figure at 0x130d3fc90>"
=======
      "image/png": "iVBORw0KGgoAAAANSUhEUgAAAhMAAAFoCAYAAADtrnm7AAAABHNCSVQICAgIfAhkiAAAAAlwSFlz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\nUTIhIiIinvz/JjLFU0rUQ8oAAAAASUVORK5CYII=\n",
      "text/plain": [
       "<matplotlib.figure.Figure at 0x11782ba10>"
>>>>>>> cb83766255735d60d81c4112b7d26b26ef7d2572
      ]
     },
     "metadata": {},
     "output_type": "display_data"
    }
   ],
   "source": [
    "# or you could make predictions for all values of X, and then plot those predictions connected by a line\n",
    "ri_pred = linreg.predict(X)\n",
    "\n",
    "# draw regression line with matplotlib and pandas\n",
    "plt.scatter(glass.al, glass.ri)\n",
    "plt.plot(glass.al, ri_pred, color='red')"
   ]
  },
  {
   "cell_type": "code",
   "execution_count": null,
   "metadata": {
    "collapsed": false
   },
   "outputs": [],
   "source": []
  },
  {
   "cell_type": "markdown",
   "metadata": {},
   "source": [
    "### Refresher: interpreting linear regression coefficients"
   ]
  },
  {
   "cell_type": "markdown",
   "metadata": {},
   "source": [
    "Linear regression equation: $y = \\beta_0 + \\beta_1x$"
   ]
  },
  {
   "cell_type": "code",
   "execution_count": null,
   "metadata": {
    "collapsed": false
   },
   "outputs": [],
   "source": []
  },
  {
   "cell_type": "code",
   "execution_count": 57,
   "metadata": {
    "collapsed": false
   },
   "outputs": [
    {
     "data": {
      "text/plain": [
       "array([ 1.51699012])"
      ]
     },
     "execution_count": 57,
     "metadata": {},
     "output_type": "execute_result"
    }
   ],
   "source": [
    "# compute prediction for al=2 using the predict method\n",
    "linreg.predict(2)"
   ]
  },
  {
   "cell_type": "code",
   "execution_count": 61,
   "metadata": {
    "collapsed": false
   },
   "outputs": [
    {
     "data": {
      "text/html": [
       "<div>\n",
       "<table border=\"1\" class=\"dataframe\">\n",
       "  <thead>\n",
       "    <tr style=\"text-align: right;\">\n",
       "      <th></th>\n",
       "      <th>feature</th>\n",
       "      <th>coef</th>\n",
       "    </tr>\n",
       "  </thead>\n",
       "  <tbody>\n",
       "    <tr>\n",
       "      <th>0</th>\n",
       "      <td>al</td>\n",
       "      <td>-0.002478</td>\n",
       "    </tr>\n",
       "  </tbody>\n",
       "</table>\n",
       "</div>"
      ],
      "text/plain": [
       "  feature      coef\n",
       "0      al -0.002478"
      ]
     },
     "execution_count": 61,
     "metadata": {},
     "output_type": "execute_result"
    }
   ],
   "source": [
    "# examine coefficient for al\n",
    "pd.DataFrame(zip(feature_cols, linreg.coef_), columns=['feature', 'coef'])"
   ]
  },
  {
   "cell_type": "code",
   "execution_count": 121,
   "metadata": {
    "collapsed": true
   },
   "outputs": [],
   "source": [
    "# Note that we can't use a cross_val_score if we want to investigate variable relationships"
   ]
  },
  {
   "cell_type": "markdown",
   "metadata": {},
   "source": [
    "**Interpretation:** A 1 unit increase in 'al' is associated with a 0.0025 unit decrease in 'ri'."
   ]
  },
  {
   "cell_type": "code",
   "execution_count": 62,
   "metadata": {
    "collapsed": false
   },
   "outputs": [
    {
     "data": {
      "text/plain": [
       "array([ 1.51451251])"
      ]
     },
     "execution_count": 62,
     "metadata": {},
     "output_type": "execute_result"
    }
   ],
   "source": [
    "# compute prediction for al=3 using the predict method\n",
    "linreg.predict(3)"
   ]
  },
  {
   "cell_type": "code",
   "execution_count": null,
   "metadata": {
    "collapsed": false
   },
   "outputs": [],
   "source": []
  },
  {
   "cell_type": "markdown",
   "metadata": {},
   "source": [
    "## Part 2: Predicting a Categorical Response"
   ]
  },
  {
   "cell_type": "markdown",
   "metadata": {},
   "source": [
    "Let's change our task, so that we're predicting **assorted** using **al**. Let's visualize the relationship to figure out how to do this:"
   ]
  },
  {
   "cell_type": "code",
   "execution_count": 63,
   "metadata": {
    "collapsed": false
   },
   "outputs": [
    {
     "data": {
      "text/plain": [
       "<matplotlib.collections.PathCollection at 0x1323058d0>"
      ]
     },
     "execution_count": 63,
     "metadata": {},
     "output_type": "execute_result"
    },
    {
     "data": {
      "image/png": "iVBORw0KGgoAAAANSUhEUgAAAX8AAAECCAYAAAAW+Nd4AAAABHNCSVQICAgIfAhkiAAAAAlwSFlz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\nFJS2tAAAAABJRU5ErkJggg==\n",
      "text/plain": [
       "<matplotlib.figure.Figure at 0x130db5fd0>"
      ]
     },
     "metadata": {},
     "output_type": "display_data"
    }
   ],
   "source": [
    "plt.scatter(glass.al, glass.assorted)"
   ]
  },
  {
   "cell_type": "markdown",
   "metadata": {},
   "source": [
    "Let's draw a **regression line**, like we did before:"
   ]
  },
  {
   "cell_type": "code",
   "execution_count": 64,
   "metadata": {
    "collapsed": false
   },
   "outputs": [],
   "source": [
    "# fit a linear regression model and store the predictions\n",
    "feature_cols = ['al']\n",
    "X = glass[feature_cols]\n",
    "y = glass.assorted\n",
    "linreg.fit(X, y)\n",
    "assorted_pred = linreg.predict(X)"
   ]
  },
  {
   "cell_type": "code",
   "execution_count": 65,
   "metadata": {
    "collapsed": false
   },
   "outputs": [
    {
     "data": {
      "text/plain": [
       "[<matplotlib.lines.Line2D at 0x132156310>]"
      ]
     },
     "execution_count": 65,
     "metadata": {},
     "output_type": "execute_result"
    },
    {
     "data": {
      "image/png": "iVBORw0KGgoAAAANSUhEUgAAAX8AAAECCAYAAAAW+Nd4AAAABHNCSVQICAgIfAhkiAAAAAlwSFlz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\nRK5CYII=\n",
      "text/plain": [
       "<matplotlib.figure.Figure at 0x132156390>"
      ]
     },
     "metadata": {},
     "output_type": "display_data"
    }
   ],
   "source": [
    "# scatter plot that includes the regression line\n",
    "plt.scatter(glass.al, glass.assorted)\n",
    "plt.plot(glass.al, assorted_pred, color='red')"
   ]
  },
  {
   "cell_type": "markdown",
   "metadata": {},
   "source": [
    "If **al=3**, what class do we predict for assorted? **1**\n",
    "\n",
    "If **al=1.5**, what class do we predict for assorted? **0**\n",
    "\n",
    "So, we predict the 0 class for **lower** values of al, and the 1 class for **higher** values of al. What's our cutoff value? Around **al=2**, because that's where the linear regression line crosses the midpoint between predicting class 0 and class 1.\n",
    "\n",
    "So, we'll say that if **assorted_pred >= 0.5**, we predict a class of **1**, else we predict a class of **0**."
   ]
  },
  {
   "cell_type": "code",
   "execution_count": 66,
   "metadata": {
    "collapsed": false
   },
   "outputs": [],
   "source": [
    "# understanding np.where\n",
    "import numpy as np\n",
    "nums = np.array([5, 15, 8])"
   ]
  },
  {
   "cell_type": "code",
   "execution_count": 67,
   "metadata": {
    "collapsed": false
   },
   "outputs": [
    {
     "data": {
      "text/plain": [
       "array(['small', 'big', 'small'], \n",
       "      dtype='|S5')"
      ]
     },
     "execution_count": 67,
     "metadata": {},
     "output_type": "execute_result"
    }
   ],
   "source": [
    "# np.where returns the first value if the condition is True, and the second value if the condition is False\n",
    "np.where(nums > 10, 'big', 'small')"
   ]
  },
  {
   "cell_type": "code",
   "execution_count": 68,
   "metadata": {
    "collapsed": false
   },
   "outputs": [
    {
     "data": {
      "text/plain": [
       "array([ 0.06545853,  0.19576455,  0.28597641,  0.16068216,  0.13562331,\n",
       "        0.32607057,  0.08550561,  0.04039968,  0.20077632,  0.19576455])"
      ]
     },
     "execution_count": 68,
     "metadata": {},
     "output_type": "execute_result"
    }
   ],
   "source": [
    "# examine the predictions\n",
    "assorted_pred[:10]"
   ]
  },
  {
   "cell_type": "code",
   "execution_count": 69,
   "metadata": {
    "collapsed": false
   },
   "outputs": [
    {
     "data": {
      "text/plain": [
       "array([0, 0, 0, 0, 0, 0, 0, 0, 0, 0, 0, 0, 0, 0, 0, 0, 0, 0, 0, 0, 0, 0, 0,\n",
       "       0, 0, 0, 0, 0, 0, 0, 0, 0, 0, 0, 0, 0, 0, 0, 0, 0, 0, 0, 0, 0, 0, 0,\n",
       "       0, 0, 0, 0, 0, 0, 0, 0, 0, 0, 0, 0, 0, 0, 0, 0, 0, 0, 0, 0, 0, 0, 0,\n",
       "       0, 0, 0, 0, 0, 0, 0, 0, 0, 0, 0, 1, 0, 0, 0, 1, 0, 0, 0, 0, 0, 0, 0,\n",
       "       0, 0, 0, 0, 0, 0, 0, 0, 0, 0, 0, 0, 0, 0, 1, 0, 0, 0, 0, 0, 0, 0, 0,\n",
       "       0, 0, 0, 0, 0, 0, 0, 0, 0, 0, 0, 0, 0, 0, 0, 0, 0, 0, 0, 0, 0, 0, 0,\n",
       "       0, 0, 0, 0, 0, 0, 0, 0, 0, 0, 0, 0, 0, 0, 0, 0, 0, 0, 0, 0, 0, 0, 0,\n",
       "       0, 0, 1, 0, 0, 0, 0, 0, 0, 0, 1, 1, 0, 1, 0, 0, 0, 0, 0, 0, 0, 1, 0,\n",
       "       0, 0, 1, 0, 1, 0, 0, 1, 1, 1, 1, 1, 1, 1, 1, 1, 1, 0, 1, 1, 1, 0, 0,\n",
       "       0, 1, 1, 1, 1, 0, 1])"
      ]
     },
     "execution_count": 69,
     "metadata": {},
     "output_type": "execute_result"
    }
   ],
   "source": [
    "# transform predictions to 1 or 0\n",
    "assorted_pred_class = np.where(assorted_pred >= 0.5, 1, 0)\n",
    "assorted_pred_class"
   ]
  },
  {
   "cell_type": "code",
   "execution_count": 70,
   "metadata": {
    "collapsed": false
   },
   "outputs": [
    {
     "data": {
      "text/plain": [
       "[<matplotlib.lines.Line2D at 0x132413a10>]"
      ]
     },
     "execution_count": 70,
     "metadata": {},
     "output_type": "execute_result"
    },
    {
     "data": {
      "image/png": "iVBORw0KGgoAAAANSUhEUgAAAX8AAAECCAYAAAAW+Nd4AAAABHNCSVQICAgIfAhkiAAAAAlwSFlz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\ngiqIUP4CgUBQBRHKXyAQCKog/wcH/UmF4cXmAAAAAABJRU5ErkJggg==\n",
      "text/plain": [
       "<matplotlib.figure.Figure at 0x132413f10>"
      ]
     },
     "metadata": {},
     "output_type": "display_data"
    }
   ],
   "source": [
    "# plot the class predictions\n",
    "plt.scatter(glass.al, glass.assorted)\n",
    "plt.plot(glass.al, assorted_pred_class, color='red')"
   ]
  },
  {
   "cell_type": "markdown",
   "metadata": {},
   "source": [
    "What went wrong? This is a line plot, and it connects points in the order they are found. Let's sort the DataFrame by \"al\" to fix this:"
   ]
  },
  {
   "cell_type": "code",
   "execution_count": 71,
   "metadata": {
    "collapsed": false
   },
   "outputs": [
    {
     "name": "stderr",
     "output_type": "stream",
     "text": [
      "/Users/sinanozdemir/anaconda/envs/sfdat26-env/lib/python2.7/site-packages/ipykernel/__main__.py:5: FutureWarning: sort(columns=....) is deprecated, use sort_values(by=.....)\n"
     ]
    }
   ],
   "source": [
    "# add predicted class to DataFrame\n",
    "glass['assorted_pred_class'] = assorted_pred_class\n",
    "\n",
    "# sort DataFrame by al\n",
    "glass.sort('al', inplace=True)"
   ]
  },
  {
   "cell_type": "code",
   "execution_count": 72,
   "metadata": {
    "collapsed": false
   },
   "outputs": [
    {
     "data": {
      "text/plain": [
       "[<matplotlib.lines.Line2D at 0x13270ea50>]"
      ]
     },
     "execution_count": 72,
     "metadata": {},
     "output_type": "execute_result"
    },
    {
     "data": {
      "image/png": "iVBORw0KGgoAAAANSUhEUgAAAX8AAAECCAYAAAAW+Nd4AAAABHNCSVQICAgIfAhkiAAAAAlwSFlz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\nRU5ErkJggg==\n",
      "text/plain": [
       "<matplotlib.figure.Figure at 0x13270e6d0>"
      ]
     },
     "metadata": {},
     "output_type": "display_data"
    }
   ],
   "source": [
    "# plot the class predictions again\n",
    "plt.scatter(glass.al, glass.assorted)\n",
    "plt.plot(glass.al, glass.assorted_pred_class, color='red')"
   ]
  },
  {
   "cell_type": "markdown",
   "metadata": {},
   "source": [
    "## Part 3: Using Logistic Regression Instead\n",
    "\n",
    "Logistic regression can do what we just did, but better.."
   ]
  },
  {
   "cell_type": "code",
   "execution_count": 73,
   "metadata": {
    "collapsed": false
   },
   "outputs": [],
   "source": [
    "# fit a linear regression model and store the class predictions\n",
    "from sklearn.linear_model import LogisticRegression\n",
    "logreg = LogisticRegression()\n",
    "feature_cols = ['al']\n",
    "X = glass[feature_cols]\n",
    "y = glass.assorted\n",
    "logreg.fit(X, y)\n",
    "assorted_pred_class = logreg.predict(X)"
   ]
  },
  {
   "cell_type": "code",
   "execution_count": 74,
   "metadata": {
    "collapsed": false
   },
   "outputs": [
    {
     "data": {
      "text/plain": [
       "array([0, 0, 0, 0, 0, 0, 0, 0, 0, 0, 0, 0, 0, 0, 0, 0, 0, 0, 0, 0, 0, 0, 0,\n",
       "       0, 0, 0, 0, 0, 0, 0, 0, 0, 0, 0, 0, 0, 0, 0, 0, 0, 0, 0, 0, 0, 0, 0,\n",
       "       0, 0, 0, 0, 0, 0, 0, 0, 0, 0, 0, 0, 0, 0, 0, 0, 0, 0, 0, 0, 0, 0, 0,\n",
       "       0, 0, 0, 0, 0, 0, 0, 0, 0, 0, 0, 0, 0, 0, 0, 0, 0, 0, 0, 0, 0, 0, 0,\n",
       "       0, 0, 0, 0, 0, 0, 0, 0, 0, 0, 0, 0, 0, 0, 0, 0, 0, 0, 0, 0, 0, 0, 0,\n",
       "       0, 0, 0, 0, 0, 0, 0, 0, 0, 0, 0, 0, 0, 0, 0, 0, 0, 0, 0, 0, 0, 0, 0,\n",
       "       0, 0, 0, 0, 0, 0, 0, 0, 0, 0, 0, 0, 0, 0, 0, 0, 0, 0, 0, 0, 0, 0, 0,\n",
       "       0, 0, 0, 0, 0, 0, 0, 0, 0, 0, 0, 0, 0, 0, 0, 0, 0, 0, 0, 0, 0, 0, 0,\n",
       "       0, 0, 0, 0, 0, 0, 0, 1, 1, 1, 1, 1, 1, 1, 1, 1, 1, 1, 1, 1, 1, 1, 1,\n",
       "       1, 1, 1, 1, 1, 1, 1])"
      ]
     },
     "execution_count": 74,
     "metadata": {},
     "output_type": "execute_result"
    }
   ],
   "source": [
    "# print the class predictions\n",
    "assorted_pred_class"
   ]
  },
  {
   "cell_type": "code",
   "execution_count": 75,
   "metadata": {
    "collapsed": false
   },
   "outputs": [
    {
     "data": {
      "text/plain": [
       "[<matplotlib.lines.Line2D at 0x130ad3f90>]"
      ]
     },
     "execution_count": 75,
     "metadata": {},
     "output_type": "execute_result"
    },
    {
     "data": {
      "image/png": "iVBORw0KGgoAAAANSUhEUgAAAX8AAAECCAYAAAAW+Nd4AAAABHNCSVQICAgIfAhkiAAAAAlwSFlz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\naUMKfxGRNvT/AUbpkYIOEufSAAAAAElFTkSuQmCC\n",
      "text/plain": [
       "<matplotlib.figure.Figure at 0x1324b8d10>"
      ]
     },
     "metadata": {},
     "output_type": "display_data"
    }
   ],
   "source": [
    "# plot the class predictions\n",
    "plt.scatter(glass.al, glass.assorted)\n",
    "plt.plot(glass.al, assorted_pred_class, color='red')"
   ]
  },
  {
   "cell_type": "markdown",
   "metadata": {},
   "source": [
    "What if we wanted the **predicted probabilities** instead of just the **class predictions**, to understand how confident we are in a given prediction?"
   ]
  },
  {
   "cell_type": "code",
   "execution_count": 76,
   "metadata": {
    "collapsed": false
   },
   "outputs": [],
   "source": [
    "# store the predicted probabilites of class 1\n",
    "assorted_pred_prob = logreg.predict_proba(X)[:, 1]"
   ]
  },
  {
   "cell_type": "code",
   "execution_count": 77,
   "metadata": {
    "collapsed": false
   },
   "outputs": [
    {
     "data": {
      "text/plain": [
       "[<matplotlib.lines.Line2D at 0x1331ca9d0>]"
      ]
     },
     "execution_count": 77,
     "metadata": {},
     "output_type": "execute_result"
    },
    {
     "data": {
      "image/png": "iVBORw0KGgoAAAANSUhEUgAAAX8AAAECCAYAAAAW+Nd4AAAABHNCSVQICAgIfAhkiAAAAAlwSFlz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\nSMVfRCQNqfiLiKSh/wfOtFi4ctYpUwAAAABJRU5ErkJggg==\n",
      "text/plain": [
       "<matplotlib.figure.Figure at 0x1331caa50>"
      ]
     },
     "metadata": {},
     "output_type": "display_data"
    }
   ],
   "source": [
    "# plot the predicted probabilities\n",
    "plt.scatter(glass.al, glass.assorted)\n",
    "plt.plot(glass.al, assorted_pred_prob, color='red')"
   ]
  },
  {
   "cell_type": "code",
   "execution_count": 78,
   "metadata": {
    "collapsed": false
   },
   "outputs": [
    {
     "name": "stdout",
     "output_type": "stream",
     "text": [
      "[[ 0.89253652  0.10746348]]\n",
      "[[ 0.52645662  0.47354338]]\n",
      "[[ 0.12953623  0.87046377]]\n"
     ]
    }
   ],
   "source": [
    "# examine some example predictions\n",
    "print logreg.predict_proba(1)\n",
    "print logreg.predict_proba(2)\n",
    "print logreg.predict_proba(3)"
   ]
  },
  {
   "cell_type": "markdown",
   "metadata": {},
   "source": [
    "What is this? The first column indicates the predicted probability of **class 0**, and the second column indicates the predicted probability of **class 1**."
   ]
  },
  {
   "cell_type": "markdown",
   "metadata": {},
   "source": [
    "## Part 4: Probability, odds, e, log, log-odds\n",
    "\n",
    "$$probability = \\frac {one\\ outcome} {all\\ outcomes}$$\n",
    "\n",
    "$$odds = \\frac {one\\ outcome} {all\\ other\\ outcomes}$$\n",
    "\n",
    "Examples:\n",
    "\n",
    "- Dice roll of 1: probability = 1/6, odds = 1/5\n",
    "- Even dice roll: probability = 3/6, odds = 3/3 = 1\n",
    "- Dice roll less than 5: probability = 4/6, odds = 4/2 = 2\n",
    "\n",
    "$$odds = \\frac {probability} {1 - probability}$$"
   ]
  },
  {
   "cell_type": "code",
   "execution_count": 79,
   "metadata": {
    "collapsed": false
   },
   "outputs": [
    {
     "data": {
      "text/html": [
       "<div>\n",
       "<table border=\"1\" class=\"dataframe\">\n",
       "  <thead>\n",
       "    <tr style=\"text-align: right;\">\n",
       "      <th></th>\n",
       "      <th>probability</th>\n",
       "      <th>odds</th>\n",
       "    </tr>\n",
       "  </thead>\n",
       "  <tbody>\n",
       "    <tr>\n",
       "      <th>0</th>\n",
       "      <td>0.10</td>\n",
       "      <td>0.111111</td>\n",
       "    </tr>\n",
       "    <tr>\n",
       "      <th>1</th>\n",
       "      <td>0.20</td>\n",
       "      <td>0.250000</td>\n",
       "    </tr>\n",
       "    <tr>\n",
       "      <th>2</th>\n",
       "      <td>0.25</td>\n",
       "      <td>0.333333</td>\n",
       "    </tr>\n",
       "    <tr>\n",
       "      <th>3</th>\n",
       "      <td>0.50</td>\n",
       "      <td>1.000000</td>\n",
       "    </tr>\n",
       "    <tr>\n",
       "      <th>4</th>\n",
       "      <td>0.60</td>\n",
       "      <td>1.500000</td>\n",
       "    </tr>\n",
       "    <tr>\n",
       "      <th>5</th>\n",
       "      <td>0.80</td>\n",
       "      <td>4.000000</td>\n",
       "    </tr>\n",
       "    <tr>\n",
       "      <th>6</th>\n",
       "      <td>0.90</td>\n",
       "      <td>9.000000</td>\n",
       "    </tr>\n",
       "  </tbody>\n",
       "</table>\n",
       "</div>"
      ],
      "text/plain": [
       "   probability      odds\n",
       "0         0.10  0.111111\n",
       "1         0.20  0.250000\n",
       "2         0.25  0.333333\n",
       "3         0.50  1.000000\n",
       "4         0.60  1.500000\n",
       "5         0.80  4.000000\n",
       "6         0.90  9.000000"
      ]
     },
     "execution_count": 79,
     "metadata": {},
     "output_type": "execute_result"
    }
   ],
   "source": [
    "# create a table of probability versus odds\n",
    "table = pd.DataFrame({'probability':[0.1, 0.2, 0.25, 0.5, 0.6, 0.8, 0.9]})\n",
    "table['odds'] = table.probability/(1 - table.probability)\n",
    "table"
   ]
  },
  {
   "cell_type": "markdown",
   "metadata": {},
   "source": [
    "What is **e**? It is the base rate of growth shared by all continually growing processes:"
   ]
  },
  {
   "cell_type": "code",
   "execution_count": 81,
   "metadata": {
    "collapsed": false
   },
   "outputs": [
    {
     "data": {
      "text/plain": [
       "2.7182818284590451"
      ]
     },
     "execution_count": 81,
     "metadata": {},
     "output_type": "execute_result"
    }
   ],
   "source": [
    "# exponential function: e^1\n",
    "e = np.exp(1)\n",
    "e"
   ]
  },
  {
   "cell_type": "markdown",
   "metadata": {},
   "source": [
    "What is a **(natural) log**? It gives you the time needed to reach a certain level of growth:"
   ]
  },
  {
   "cell_type": "code",
   "execution_count": 82,
   "metadata": {
    "collapsed": false
   },
   "outputs": [
    {
     "data": {
      "text/plain": [
       "1.0"
      ]
     },
     "execution_count": 82,
     "metadata": {},
     "output_type": "execute_result"
    }
   ],
   "source": [
    "# time needed to grow 1 unit to 2.718 units\n",
    "np.log(e)"
   ]
  },
  {
   "cell_type": "markdown",
   "metadata": {},
   "source": [
    "It is also the **inverse** of the exponential function:"
   ]
  },
  {
   "cell_type": "code",
   "execution_count": 83,
   "metadata": {
    "collapsed": false
   },
   "outputs": [
    {
     "data": {
      "text/plain": [
       "5.0"
      ]
     },
     "execution_count": 83,
     "metadata": {},
     "output_type": "execute_result"
    }
   ],
   "source": [
    "np.log(np.exp(5))"
   ]
  },
  {
   "cell_type": "code",
   "execution_count": 85,
   "metadata": {
    "collapsed": false
   },
   "outputs": [
    {
     "data": {
      "text/html": [
       "<div>\n",
       "<table border=\"1\" class=\"dataframe\">\n",
       "  <thead>\n",
       "    <tr style=\"text-align: right;\">\n",
       "      <th></th>\n",
       "      <th>probability</th>\n",
       "      <th>odds</th>\n",
       "      <th>logodds</th>\n",
       "    </tr>\n",
       "  </thead>\n",
       "  <tbody>\n",
       "    <tr>\n",
       "      <th>0</th>\n",
       "      <td>0.10</td>\n",
       "      <td>0.111111</td>\n",
       "      <td>-2.197225</td>\n",
       "    </tr>\n",
       "    <tr>\n",
       "      <th>1</th>\n",
       "      <td>0.20</td>\n",
       "      <td>0.250000</td>\n",
       "      <td>-1.386294</td>\n",
       "    </tr>\n",
       "    <tr>\n",
       "      <th>2</th>\n",
       "      <td>0.25</td>\n",
       "      <td>0.333333</td>\n",
       "      <td>-1.098612</td>\n",
       "    </tr>\n",
       "    <tr>\n",
       "      <th>3</th>\n",
       "      <td>0.50</td>\n",
       "      <td>1.000000</td>\n",
       "      <td>0.000000</td>\n",
       "    </tr>\n",
       "    <tr>\n",
       "      <th>4</th>\n",
       "      <td>0.60</td>\n",
       "      <td>1.500000</td>\n",
       "      <td>0.405465</td>\n",
       "    </tr>\n",
       "    <tr>\n",
       "      <th>5</th>\n",
       "      <td>0.80</td>\n",
       "      <td>4.000000</td>\n",
       "      <td>1.386294</td>\n",
       "    </tr>\n",
       "    <tr>\n",
       "      <th>6</th>\n",
       "      <td>0.90</td>\n",
       "      <td>9.000000</td>\n",
       "      <td>2.197225</td>\n",
       "    </tr>\n",
       "  </tbody>\n",
       "</table>\n",
       "</div>"
      ],
      "text/plain": [
       "   probability      odds   logodds\n",
       "0         0.10  0.111111 -2.197225\n",
       "1         0.20  0.250000 -1.386294\n",
       "2         0.25  0.333333 -1.098612\n",
       "3         0.50  1.000000  0.000000\n",
       "4         0.60  1.500000  0.405465\n",
       "5         0.80  4.000000  1.386294\n",
       "6         0.90  9.000000  2.197225"
      ]
     },
     "execution_count": 85,
     "metadata": {},
     "output_type": "execute_result"
    }
   ],
   "source": [
    "# add log-odds to the table\n",
    "table['logodds'] = np.log(table.odds)\n",
    "table"
   ]
  },
  {
   "cell_type": "markdown",
   "metadata": {},
   "source": [
    "## Part 5: What is Logistic Regression?"
   ]
  },
  {
   "cell_type": "markdown",
   "metadata": {},
   "source": [
    "**Linear regression:** continuous response is modeled as a linear combination of the features:\n",
    "\n",
    "$$y = \\beta_0 + \\beta_1x$$\n",
    "\n",
    "**Logistic regression:** log-odds of a categorical response being \"true\" (1) is modeled as a linear combination of the features:\n",
    "\n",
    "$$\\log \\left({p\\over 1-p}\\right) = \\beta_0 + \\beta_1x$$\n",
    "\n",
    "This is called the **logit function**.\n",
    "\n",
    "Probability is sometimes written as pi:\n",
    "\n",
    "$$\\log \\left({\\pi\\over 1-\\pi}\\right) = \\beta_0 + \\beta_1x$$\n",
    "\n",
    "The equation can be rearranged into the **logistic function**:\n",
    "\n",
    "$$\\pi = \\frac{e^{\\beta_0 + \\beta_1x}} {1 + e^{\\beta_0 + \\beta_1x}}$$"
   ]
  },
  {
   "cell_type": "markdown",
   "metadata": {},
   "source": [
    "In other words:\n",
    "\n",
    "- Logistic regression outputs the **probabilities of a specific class**\n",
    "- Those probabilities can be converted into **class predictions**\n",
    "\n",
    "The **logistic function** has some nice properties:\n",
    "\n",
    "- Takes on an \"s\" shape\n",
    "- Output is bounded by 0 and 1\n",
    "\n",
    "Notes:\n",
    "\n",
    "- **Multinomial logistic regression** is used when there are more than 2 classes.\n",
    "- Coefficients are estimated using **maximum likelihood estimation**, meaning that we choose parameters that maximize the likelihood of the observed data."
   ]
  },
  {
   "cell_type": "markdown",
   "metadata": {},
   "source": [
    "## Part 6: Interpreting Logistic Regression Coefficients"
   ]
  },
  {
   "cell_type": "code",
   "execution_count": 100,
   "metadata": {
    "collapsed": false
   },
   "outputs": [
    {
     "data": {
      "text/plain": [
       "[<matplotlib.lines.Line2D at 0x1334d3d10>]"
      ]
     },
     "execution_count": 100,
     "metadata": {},
     "output_type": "execute_result"
    },
    {
     "data": {
      "image/png": "iVBORw0KGgoAAAANSUhEUgAAAX8AAAECCAYAAAAW+Nd4AAAABHNCSVQICAgIfAhkiAAAAAlwSFlz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\nSMVfRCQNqfiLiKSh/wfOtFi4ctYpUwAAAABJRU5ErkJggg==\n",
      "text/plain": [
       "<matplotlib.figure.Figure at 0x1334d3750>"
      ]
     },
     "metadata": {},
     "output_type": "display_data"
    }
   ],
   "source": [
    "# plot the predicted probabilities again\n",
    "plt.scatter(glass.al, glass.assorted)\n",
    "plt.plot(glass.al, assorted_pred_prob, color='red')"
   ]
  },
  {
   "cell_type": "code",
   "execution_count": 101,
   "metadata": {
    "collapsed": false
   },
   "outputs": [
    {
     "data": {
      "text/plain": [
       "array([[-0.10592543]])"
      ]
     },
     "execution_count": 101,
     "metadata": {},
     "output_type": "execute_result"
    }
   ],
   "source": [
    "# compute predicted log-odds for al=2 using the equation\n",
    "logodds = logreg.intercept_ + logreg.coef_ * 2\n",
    "logodds"
   ]
  },
  {
   "cell_type": "code",
   "execution_count": 102,
   "metadata": {
    "collapsed": false
   },
   "outputs": [
    {
     "data": {
      "text/plain": [
       "array([[ 0.89949172]])"
      ]
     },
     "execution_count": 102,
     "metadata": {},
     "output_type": "execute_result"
    }
   ],
   "source": [
    "# convert log-odds to odds\n",
    "odds = np.exp(logodds)\n",
    "odds"
   ]
  },
  {
   "cell_type": "code",
   "execution_count": 103,
   "metadata": {
    "collapsed": false
   },
   "outputs": [
    {
     "data": {
      "text/plain": [
       "array([[ 0.47354338]])"
      ]
     },
     "execution_count": 103,
     "metadata": {},
     "output_type": "execute_result"
    }
   ],
   "source": [
    "# convert odds to probability\n",
    "prob = odds/(1 + odds)\n",
    "prob"
   ]
  },
  {
   "cell_type": "code",
   "execution_count": 104,
   "metadata": {
    "collapsed": false
   },
   "outputs": [
    {
     "data": {
      "text/plain": [
       "array([ 0.47354338])"
      ]
     },
     "execution_count": 104,
     "metadata": {},
     "output_type": "execute_result"
    }
   ],
   "source": [
    "# compute predicted probability for al=2 using the predict_proba method\n",
    "logreg.predict_proba(2)[:, 1]"
   ]
  },
  {
   "cell_type": "code",
   "execution_count": 105,
   "metadata": {
    "collapsed": false
   },
   "outputs": [
    {
     "data": {
      "text/html": [
       "<div>\n",
       "<table border=\"1\" class=\"dataframe\">\n",
       "  <thead>\n",
       "    <tr style=\"text-align: right;\">\n",
       "      <th></th>\n",
       "      <th>feature</th>\n",
       "      <th>coef</th>\n",
       "    </tr>\n",
       "  </thead>\n",
       "  <tbody>\n",
       "    <tr>\n",
       "      <th>0</th>\n",
       "      <td>al</td>\n",
       "      <td>[2.01099096417]</td>\n",
       "    </tr>\n",
       "  </tbody>\n",
       "</table>\n",
       "</div>"
      ],
      "text/plain": [
       "  feature             coef\n",
       "0      al  [2.01099096417]"
      ]
     },
     "execution_count": 105,
     "metadata": {},
     "output_type": "execute_result"
    }
   ],
   "source": [
    "# examine the coefficient for al\n",
    "pd.DataFrame(zip(feature_cols, logreg.coef_), columns=['feature', 'coef'])"
   ]
  },
  {
   "cell_type": "markdown",
   "metadata": {},
   "source": [
    "**Interpretation:** A 1 unit increase in 'al' is associated with a 2.0109 unit increase in the log-odds of 'assorted'."
   ]
  },
  {
   "cell_type": "code",
   "execution_count": 113,
   "metadata": {
    "collapsed": false
   },
   "outputs": [
    {
     "data": {
      "text/plain": [
       "0.87045351351387434"
      ]
     },
     "execution_count": 113,
     "metadata": {},
     "output_type": "execute_result"
    }
   ],
   "source": [
    "# increasing al by 1 (so that al=3) increases the log-odds by 2.0109\n",
    "\n",
    "# the -0.10592543 is the logodds we calculated a few cells ago for al=2\n",
    "# I am stepping through the equation by one \"unit\" of al\n",
    "\n",
    "logodds = -0.10592543 + 2.0109\n",
    "odds = np.exp(logodds)\n",
    "prob = odds/(1 + odds)\n",
    "prob"
   ]
  },
  {
   "cell_type": "code",
   "execution_count": 114,
   "metadata": {
    "collapsed": false
   },
   "outputs": [
    {
     "data": {
      "text/plain": [
       "array([ 0.87046377])"
      ]
     },
     "execution_count": 114,
     "metadata": {},
     "output_type": "execute_result"
    }
   ],
   "source": [
    "# compute predicted probability for al=3 using the predict_proba method\n",
    "logreg.predict_proba(3)[:, 1]"
   ]
  },
  {
   "cell_type": "markdown",
   "metadata": {},
   "source": [
    "**Bottom line:** Positive coefficients increase the log-odds of the response (and thus increase the probability), and negative coefficients decrease the log-odds of the response (and thus decrease the probability)."
   ]
  },
  {
   "cell_type": "code",
   "execution_count": 115,
   "metadata": {
    "collapsed": false
   },
   "outputs": [
    {
     "data": {
      "text/plain": [
       "array([-4.12790736])"
      ]
     },
     "execution_count": 115,
     "metadata": {},
     "output_type": "execute_result"
    }
   ],
   "source": [
    "# examine the intercept\n",
    "logreg.intercept_"
   ]
  },
  {
   "cell_type": "markdown",
   "metadata": {},
   "source": [
    "**Interpretation:** For an 'al' value of 0, the log-odds of 'assorted' is -4.127"
   ]
  },
  {
   "cell_type": "code",
   "execution_count": 116,
   "metadata": {
    "collapsed": false
   },
   "outputs": [
    {
     "data": {
      "text/plain": [
       "array([ 0.01586095])"
      ]
     },
     "execution_count": 116,
     "metadata": {},
     "output_type": "execute_result"
    }
   ],
   "source": [
    "# convert log-odds to probability\n",
    "# Probability of assorted is low if al = 0\n",
    "logodds = logreg.intercept_\n",
    "odds = np.exp(logodds)\n",
    "prob = odds/(1 + odds)\n",
    "prob"
   ]
  },
  {
   "cell_type": "markdown",
   "metadata": {},
   "source": [
    "That makes sense from the plot above, because the probability of assorted=1 should be very low for such a low 'al' value."
   ]
  },
  {
   "cell_type": "markdown",
   "metadata": {},
   "source": [
    "![](images/logistic_betas.png)"
   ]
  },
  {
   "cell_type": "markdown",
   "metadata": {},
   "source": [
    "Changing the $\\beta_0$ value shifts the curve **horizontally**, whereas changing the $\\beta_1$ value changes the **slope** of the curve."
   ]
  },
  {
   "cell_type": "markdown",
   "metadata": {},
   "source": [
    "## Part 7: Comparing Logistic Regression with Other Models\n",
    "\n",
    "Advantages of logistic regression:\n",
    "\n",
    "- Highly interpretable (if you remember how)\n",
    "- Model training and prediction are fast\n",
    "- No tuning is required (excluding regularization)\n",
    "- Features don't need scaling\n",
    "- Can perform well with a small number of observations\n",
    "- Outputs well-calibrated predicted probabilities\n",
    "\n",
    "Disadvantages of logistic regression:\n",
    "\n",
    "- Presumes a linear relationship between the features and the log-odds of the response\n",
    "- Performance is (generally) not competitive with the best supervised learning methods\n",
    "- Sensitive to irrelevant features\n",
    "- Can't automatically learn feature interactions"
   ]
  },
  {
   "cell_type": "markdown",
   "metadata": {},
   "source": [
    "## Bonus: Confusion Matrix\n",
    "\n"
   ]
  },
  {
   "cell_type": "code",
   "execution_count": 118,
   "metadata": {
    "collapsed": false
   },
   "outputs": [
    {
     "name": "stdout",
     "output_type": "stream",
     "text": [
      "[[160   3]\n",
      " [ 31  20]]\n"
     ]
    }
   ],
   "source": [
    "from sklearn import metrics\n",
    "preds = logreg.predict(X)\n",
    "print metrics.confusion_matrix(y, preds)\n",
    "# Note that we can't make this martix using cross_val_score so a train_test_split has to do!"
   ]
  },
  {
   "cell_type": "markdown",
   "metadata": {},
   "source": [
    "##Top Left: True Negatives <Br>\n",
    "##Top Right False Negatives <Br>\n",
    "##Bottom Left: False Negatives <br>\n",
    "##Bottom Right: True Positives <br>"
   ]
  },
  {
   "cell_type": "code",
   "execution_count": null,
   "metadata": {
    "collapsed": true
   },
   "outputs": [],
   "source": []
  },
  {
   "cell_type": "code",
   "execution_count": null,
   "metadata": {
    "collapsed": true
   },
   "outputs": [],
   "source": []
  },
  {
   "cell_type": "markdown",
   "metadata": {},
   "source": [
    "**Exercise** Calculate:\n",
    "Accuracy\n",
    "Sensitivity\n",
    "Specificity\n",
    "Precision by hand\n",
    "\n",
    "\n",
    "\n",
    "<br><br><br><br><br><br><br><br><br><br><br><br><br>\n",
    "\n",
    "\n",
    "\n",
    "\n",
    "\n",
    "\n",
    "\n",
    "#### Accuracy    = (157 + 28) / 214       == .8644\n",
    "#### Sensitivity (Recall) =  28        / (23 + 28) == .5490\n",
    "#### Specificity =  157       / (157 + 6) == .9631\n",
    "#### Precision =  28       / (28 + 6) == .823"
   ]
  },
  {
   "cell_type": "code",
   "execution_count": 119,
   "metadata": {
    "collapsed": false
   },
   "outputs": [
    {
     "name": "stdout",
     "output_type": "stream",
     "text": [
      "             precision    recall  f1-score   support\n",
      "\n",
      "          0       0.84      0.98      0.90       163\n",
      "          1       0.87      0.39      0.54        51\n",
      "\n",
      "avg / total       0.85      0.84      0.82       214\n",
      "\n"
     ]
    }
   ],
   "source": [
    "print metrics.classification_report(y, preds)"
   ]
  },
  {
   "cell_type": "code",
   "execution_count": null,
   "metadata": {
    "collapsed": true
   },
   "outputs": [],
   "source": []
  },
  {
   "cell_type": "code",
   "execution_count": null,
   "metadata": {
    "collapsed": true
   },
   "outputs": [],
   "source": []
  },
  {
   "cell_type": "code",
   "execution_count": null,
   "metadata": {
    "collapsed": true
   },
   "outputs": [],
   "source": []
  },
  {
   "cell_type": "code",
   "execution_count": null,
   "metadata": {
    "collapsed": true
   },
   "outputs": [],
   "source": []
  },
  {
   "cell_type": "code",
   "execution_count": null,
   "metadata": {
    "collapsed": true
   },
   "outputs": [],
   "source": []
  },
  {
   "cell_type": "code",
   "execution_count": 122,
   "metadata": {
    "collapsed": false
   },
   "outputs": [
    {
     "data": {
      "text/plain": [
       "<matplotlib.collections.PathCollection at 0x133a5fd50>"
      ]
     },
     "execution_count": 122,
     "metadata": {},
     "output_type": "execute_result"
    },
    {
     "data": {
      "image/png": "iVBORw0KGgoAAAANSUhEUgAAAX8AAAECCAYAAAAW+Nd4AAAABHNCSVQICAgIfAhkiAAAAAlwSFlz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\ngg==\n",
      "text/plain": [
       "<matplotlib.figure.Figure at 0x12f6ce690>"
      ]
     },
     "metadata": {},
     "output_type": "display_data"
    }
   ],
   "source": [
    "# MORE DATA\n",
    "\n",
    "# Logistic Regression is a high bias low variance model that is also non-parametric\n",
    "\n",
    "from sklearn.datasets import make_circles\n",
    "from sklearn.cross_validation import cross_val_score\n",
    "circles_X, circles_y = make_circles(n_samples=1000, random_state=123, noise=0.1, factor=0.2)\n",
    "plt.scatter(circles_X[:,0], circles_X[:,1])"
   ]
  },
  {
   "cell_type": "code",
   "execution_count": 123,
   "metadata": {
    "collapsed": false
   },
   "outputs": [
    {
     "data": {
      "image/png": "iVBORw0KGgoAAAANSUhEUgAAAW8AAAEKCAYAAADdBdT9AAAABHNCSVQICAgIfAhkiAAAAAlwSFlz\nAAALEgAACxIB0t1+/AAAIABJREFUeJzsnXd4VUX6xz/33vReSQgE0g81dBAQpAgI0quIHdta+Fmw\nra6r7q6orLprdxULTWnSm3Skt4QaThJIJb23m9z6+2NOQkJTEZDAfJ6Hh9xz5syZOefe78y8874z\nOrvdjkQikUgaF/o/uwASiUQi+f1I8ZZIJJJGiBRviUQiaYRI8ZZIJJJGiBRviUQiaYRI8ZZIJJJG\niMOfXYCbAUVR9MAzwGTAADgBq4DXVVU1KYryJpCkqurc35GnDQhQVbXoD5btNuATVVXb/5F8LpDv\nIaAfUAEsBRTgY2Aq0E9V1bLLyHMY0ENV1b8rijICGKiq6jNXqLxX5HlqeXUBXlJVdeIl0nQFpqqq\n+pffkv4i5T0K2AA74AaUAk+oqnrwD1XgKnCl35dEive14gvAGxigqmq5oiiuwHzgK+B+VVX/fhl5\nXkkH/Svu7K+qamcARVFaAIMAd1VV7cCnfyDbboCvlv9KYOUfLWc9rtgz0MTz14S4HdDsd6Q/Fzui\nESyuPaAoyvOIBrLX78zrqnMV3tdNjxTvq4yiKGGIHnewqqqVAKqqGhVFeQztR6YoyrfAUVVVP1AU\npQZYBsQCUwBH4L+InpUJmK6q6lZAV+8eDwFPaMcKgadVVVUvUJaHgOcAC1AAPHDO+RjgE8AdCAHi\ngUn1RgejtDIUAg+oqpp7ieM2IBRYq9XhoKIo44FktB6uoiivAPcBZiBJK48V+ByIBvyAcuBuhGg/\nDugVRSnV8hmvquoIRVGaadeEaVWZrarqvxVFaQlsAtYAPbQ8XlVVddEFXpXuAsdQFMUB+AAYqD23\nvcCzqqpWKorSHdEYOQKngZbAs1pen6iq2l5RlFuB9xEmSjswA9gPvAl4KYoyC5hdL707QoB7a89l\nuaqqr16kvPW/AwaghfYOao/9FRir3TsV0SvPURQlEvhGex45Wj5zgG3AL0CCVpfbgEjgHcT3zwa8\nqarqakVRgrRy+2u3W6Oq6usXOL5aGyndz5V9Xzc90uZ99ekMHK8V7lpUVc1TVXXZBdI7In6wrYEj\nCJPDG6qqxgKPAv9VFKX+j7YvcD9wq6qqXYCZwE/nZqooSiziRzhYVdWOwArgr+ckexj4TlXV3gjx\njADuVBSlOfB/QDdVVbsDPwM9LnZcy8sOGIFhgFFV1c6qqp7WjqMoykiEcPfQ6pYCPAUMBYpVVe2l\nqmor4ADwlKqq+xAjmAWqqv6t3j0A5gGbtHxuBe5RFKW2JxsBrFVVtQfwsvZ8fg+vAU2B9qqqdkCY\nvWZqYrkYIS4dgY+ADvWuqy3bG8D7qqp2Q5iMBqiqmgm8DvyiqurUc9L/A3BWVVUBOgG9tHd8IbYo\nihKvKMoZIFHL40EARVHuBdoD3bVR0FpglnbdHGCe9rymAT3r5dkcIdCtgBqEyN+jqmpXRCP9ufbe\nHwFOacf7AlGKonhe4Hi0drx+Ha/m+7ppkD3vq4+N399I7tD+bw9YVFVdB6Cq6iE0gVAUpfaHcCei\nd7Srnqj7KIrio6pqSb08BwLrVFXN0vL6SMvntnppXgIGKYryAhCDEC0P4AyiFx6nKMpaxI9rs3a/\n845reV2wJ3tOeRbV2r5VVZ1ee0JRlNOKojwFRCHs5rsulomiKG6IXuogLZ8yRVG+QzQCewGTqqpr\nteSH0Mwuv4OhwF9VVbVpnz9GNKjtAbuqqj9r992qKMqxC1y/EPhUa6w2cn6DeS4DEb13VFU1A/0v\nkbafqqrFiqJ0RPRWd6mqWqCdG44wMx1UFAXEd9BVURQfoDvQR7vHSUVRNtXL0wzs0f7uifgOLKv3\n3bIiRoXrgNVab3kj8LJmErzYceCavK+bBineV599QGtFUdzr9761oeOXwLgLXFOh/W/hHFusoiht\ngZP1DhmAOaqqvlI/73OE+7y8FEVxQQyN6/Mj4ke+EDGh2gLQabbqftrE2u3Ah4qibNEmn849vllV\n1Wcv/jguWh5vwAfRU38EIZLzgCLODq8vxIUaRj1iBAPCnFOLnV9vVH4tf4OWt/kC52znfEZV1f8p\nirICGIwQqDcURbnU5PC5z6U5UHWRiVSddo94RVGeA2YpirJHVdV0rZzvqqr6pZaPI0IIrZz/HKz1\n/q6p11AZgBOqqtb1zBVFaQrkqapqVRQlHPHeBwD7FUUZparqngsdr5f/1X5fNw3SbHKV0Xq684Bv\naoePiqJ4IWyl+aqq1lzqcsCuKMpA7brOCJugnrNf6p+ByYqiBGtpnkD0eM5lC3C7ZpMEYT9+95w0\ng4G3NBujDmECMSiKEqv1KhNUVX0X+BCIvcjxDpyP7gJ/bwTGKorioX1+A9HjHAR8q6rqtwg7+AiE\niIAQNkfqoapqBaKn+KRWf2+EOebnC9z7Qp9/jfXA44qiOGheQ09oeZ8EqhVFGazdtztab7z+xYqi\n7AQ6q6o6G3gMMXHte6G6aGwE7lcURacoijPCNHMxs0kdqqr+iBih/LdeuR+uZ7L4J6KRLwd2Ag9p\n5QtH9PZry13/+exBmD36aGk7It5JiKIoMxDeUiu0Rvw4EHOx4/XKebXf102DFO9rwxOISaBdinCh\n2w0cQ/QwoeEPvu5vVVVNiAmnNxRFiQM+A8Zow2m7luZnhAhvUBQlHrgLGHNuAVRVPQa8AKzX8hqM\nEPD6/BUxRN6n3WsrEKWq6hFgAWIIvh9hV33mYscvVad65V4LfKs9k8NAEPAqYnLvce05bQAOIswn\nIBqukYqi/JeG3INomI4ghGGRJpbn3vtCn+sfT1UUpUxRlHLt/2EIG3Quwjx0HDFafUZVVSswHnhT\nUZSDiIYnG6g6J98Xgbe0NJsQ8xfpiO9AK0VRlpyT/k1Er/6wVvdVF5kbuVA9ngbuUBRlkKqqXyFG\nT3sURTmK8G55QEt3PzBR+x58jJhsrS13/e9fAWJkOFP7bn0PTFFVNQP4D9BRUZQj2rs/DfxwzvED\n9Y7X50q8r5senVwSViK5PBRFeQ+YqapqvmbeiAci1MvwYb+WaF4oi1VVTdRGgYeBoaqqnvyVSyXX\nEdLmLZFcPmnAZkVRzNrnqde7cGskAgsV4c5pAGZI4W58yJ63RCKRNEKkzVsikUgaIVK8JRKJpBFy\nzWzeixbJWWPJ+UxARj5LJJdkwoQLuktelngrYr2HbxDBE07Av1Sx8IxEIpFIrgGXaza5ByhQVbUv\nImrskytXJMnNxCImsIgJf3YxJJJGx+WaTRZC3XhXjwgqkEgkEsk14rLEW1XVKgAt9HYRIjJOIpFI\nJNeIy/Y2URQlFNgMfK+q6oIrVySJRCKR/BqXO2EZhFj45klVVbdc2SJJJBKJ5Ne43J73K4jlO/+m\nKMoWRVE2ayugSSSXhZy0lEh+H5dr836Gs6vHSSQSieQaIyMsJRKJpBEixVsikUgaIVK8JRKJpBEi\nxVty3SCjLSWS344Ub4lEImmESPGWSCSSRogUb4lEImmESPGWXHdIu7dE8utI8ZZIJJJGiBRviUQi\naYRI8ZZIJJJGiBRviUQiaYRI8ZZcl8iAHYnk0kjxlkgkkkaIFG+JRCJphEjxlkgkkkaIFG/JdY20\ne0skF0aKt0QikTRCpHhLJBJJI0SKt0QikTRCpHhLJBJJI0SKt+S6RwbsSCTnI8VbIpFIGiFSvCUS\niaQRIsVbIpFIGiFSvCUSiaQRIsVb0miQk5YSyVmkeEskEkkjRIq3RCKRNEKkeEskEkkjRIq3pFEh\nA3YkEoEUb4lEImmESPGWSCSSRogUb4lEImmESPGWNEqk3VtysyPFWyKRSBohUrwlEomkESLFWyKR\nSBohUrwlEomkESLFWyKRSBohDn92ASSSy6XW42QCi/5QPtu3b6d4714sjo7oIiKw796No8mEuXNn\nxt59Nzqd7rLyTTtzhr3z5+NSXo45JoYxd9+NXi/7S5IrgxRvyU3FmdxcDu3fj3dgIH26d+dgXBz+\ns2bR12gE4Ns9e3C12TAAXTIz2RwczMCBA3/3fex2Ozs++4wpSUkAlJ08yWpXV0aMG3clqyO5iZHi\nLbkusNlsJK/7GMeiLJw6DKJZ+9svK5+kzEwqjUbaRUTgYDAAkHjqFHFz5qAvKCC1tJQna2pI1+mY\nM2gQPs7OjNSEG+AOm40MoDMw227H98yZyypHmdFIs6ysus9egD0j47LykkguhBRvyXWB+uXD/N+W\nb/EG9m76il8e+ZKWvc4PxCnOTyXr0Fq8W7Sjees+Dc4t+OYbWm/ciK/Fwpz27Wk9dChn1qyhJCmJ\noJoahgNG4N/AbXY7nj//jNqxI6WAt5ZHEhCF+GEMAX52dT2vDEXl5Rw5cYIWzZuTk5ZGzrp1GGw2\n3Hr3ZtDQoQB4ubqSExgIlZUAVAPWoKAr8agkEkCKt+Q6wGIx0yZ+XZ2A9qgsZv+exaCJt81mpaQk\nh/LMBKK+fISH81M54ezOyjGvEjX2FRYxgdan3qHDxo20slgAGHb0KDtOnWJcVRUAGcB2oAx4HnDT\n7rX35Em+79WL8MRE8quraVlRQYh2Lh+oLivj0JEjdI6NBUA9dYrEjz6ib3Y2J1xcOAI8Xl0NQGJa\nGgeCg+naqRO5hYVUxMYyS6fD02Ih2WqlTVoayxYsYMSECRguYPuurK7Gzdn5sm3skpuLPyTeiqL0\nAN5RVbX/FSqP5CYi4+ROjMVZNO9wBxbHhj3cGidnLBYzKUl7Mc+Zzh1ph9mj0zHaJEwcLWsq0a//\nlIK+9+Dh4Ud5eTmRmnADpAG9NOEGCAXigBrOCjdAy+pqGDiQbtOmMeMf/6Dw+HHaAEXAeuDx9evJ\n3r6djXffze1DhnB8xQrGZmcD0LO6mjOAHdABMTU1rDh1igR3d1I/+ogH8/JIdnJieWAgL2VlYcjK\novzQIZZbrYy9++66MmRmZ7Pts88IysqiIDCQTlOnokRHX7HnLLkxuWzxVhTlBeBeoOLKFUdys5D4\n3bOM//kzQiwmPghRcHBw5lu9A542C2WhbbH0f5ikaTGMK0glGyhFiO4GxJe2HBhXfIZ9T4ZR4upN\n1uDbUBWF+1QVPXAqIIDsmhpGlZcDkAkkN22KJTiYbSdOcFtNDQBbw8IYGRPDcVVlkKrSEYgHjgOx\nQCXQymjk5PbtMGQINZoZpBY7Z8X7hMFA04gIEtauZWxeHgCKyUTz7GwMWnpPwOH06QZ57Jo3jymq\nKj6Ul/PJjBk4vfkm4aGhf+gZp+XmUmE0ooSG1tn/JTcOf6TnnQyMAeZcobJIbhKyspLw/fkzCi0m\nmgKxWSpjtHMnHZxYMnw6ZZ89wDsFqeiAtsAyoBnQG5gLPKqlj7LbWFxVTOvVqyl7+WWWnziBsbSU\nwoQEwgoK+NpgwMXXF89+/Xhu4kQA9h86xPzNm8lMTSXI2ZmNK1diB0ZpPffuQCfgdeAO4DBwKi+P\nZx55hMjSUg4hJjTzEeaYZYABOObhwaudO5O1fXuD+pbWM4PYgSovrwbnXbQGppYWFRXs+ewzwt5+\n+7JNKEvmzqXlunX4mkzMjo1l8osv4urkdFl5Sa5PLtvpVFXVpYDlVxNKJPUwVpVR+Z9J3GcxEQ58\nDXSpd76VxYQ1YTuKJty1BAMdgUSEAK4EFgA2wAkIM5vZWNqKMZMm4WS18vSZM4wAHrZacdfrGT5+\nPDabjXlffEHOV19RExdH97w87ldVei5aRHpuLhkOZ/sy+w0GYl1dOYQYWj5fWsrM0lKKgQPAQuBf\nwLNAEHAaqDKZeP+990gvKmKjJpS5ej22Hj2YGxHBAicnPnBzo8xspryeSccUFUVZ7d+IUUVoVhbF\n5/Tyf42UM2fYvGsXe0+cIHLtWrqaTEQC9x45ws8rV/6uvCTXP3LCUnJNiZs5lvdT49ADHoih2zJg\nmna+AB25uadpanDkoMVEF0QPYT3wHLAfeExLW4oQURfgx9C2NIsdwtoVz5C3Z0+De3rU1GCyWNi6\naRPDN2+umxjdDmQBIXY7LW02Do0ezaHdu7EZDHgOGkS31q1Z89VXTNNMGj8B9wEhWpmDgPeA5sBY\noKXRSNGBA2xANDavh4biGxlJREgI2dXVPHL6NAaTCdvevSxwdGTyNFHrsVOmMDM5mZiEBGzAeGCO\nhwf++fn4eXgQd+QI6Tt2YHFy4tYxYwjy9z/vuW7esAH3+fPpXlnJ9z4+jDab6845AjptUlVy43Al\nxFtOjd9glBVnk/vz59h1ekLueBoPr/PF4nJIO/wz7RK2NRjuuQHqwEf56vQBDEVZGCsK+CRhG/PR\ncRI9KjYOungQW11BHMKNrxZv4Kh3E3y6jMRz5AtUpR+m96JFeNXUcAxoh3ANPNOmDa5OTpgLCuqE\nGyAaYfZwA05kZ9PG0ZGACRPo1atXXZpmkZHYVZVsoCUQph2fCLzk5kYbnQ7Pykpaasf9AFegDeCc\nl8djGRm4ArMdHclBmH70gHtOTt099Ho9z7/+OotnzcIxIYG3cnMJys/n9Cuv8L2LC0Oqqxlls2EH\n5icmMvLNN/F0dcVkNrN01SqcqqrI2rWLJ7We+iMlJXzk4cFzFRXogU3+/rTu2fPyXprkuuVKiLf9\nCuQhuU6oKMvH8q87eCX9CAAfHVqF4fXNuLp5/cqVZ6mpqSJj7ov4FJ3hcFkeLfJSMeoNFEV15x6b\nhcXAOMAM/LdpNLdO/QQHB0eyX+7GtFIhalOwMzOgBTz1PZE+wZj/PY7tmcdpirCBg+g1u4x+hbA7\nnwEg79BqYmpqiEH00FcACR078tzTTwMQ0rYtxzZupJ0WlLPO0RFXX1/Wm828kpyMQ3IyR7dv5z8/\n/USz0FB6T57MgLFjmZ2cTMvERDzOqWeH7t1xTUvDlJLS4LgJMeE5qaamzrPlfrO5zm5vA45aLDB3\nLiFt2tC1c2cqqqtpc/vtLD99mvstFqKBHTYbTlVV1LpybQQcU1NZ//TTFLZrR/bhwzxbWYk3sAVh\nzumKMCM1j4hgRWQkBrMZ5dZbiY6I+M3vT9I4+EPirapqGtDrVxNKGg0Z22bzt/QjdcOpJ08f5O2d\nP9B60GOXvK5BHp89yAu7F7IOIbR9ASvwSVEWK9z9GFVZxEpAdfUkaNoPODg4AlCTnYgJIT4A7tXl\nBLa5DbvdzrHIrvhlqfTRxN8ZSDE4EtRrUt19fdr05b9OTkSYTBiBJp6ejJk8GUfNlt21c2e2T53K\nyn37MDs6ctuYMfgHBND0ySfrfgjtLRa2p6fTNj2dzQUFTHnrLSa/8QaJGRn8smgRrQ4cwANY3aQJ\n3e+8kzOnTpH//fcsMRrpDOzT66l0dGSjjw9D8/LALvo2duBYcDB6Z2fiq6v5S2oqgampJGzYwLf9\n+xO8fz+t8vNpiWjUdEAfYC/a6AHwBQYBlJWRtmsXRzgbXNQf4TnQFTjq5kZI37707dv3N78zSeND\n2rwlDXF2pxox9AcxeWZw/e29boDQ1HgcEO5I9wNLEHbXMLuVFW0HUGMX89wOtz9GSKSYrjy18gOa\nVlewGuFjXQ04VFdSMy2aw01jeCl+HWl2G8UIW7kRSAltQ0+f4Lr7lm/9judNJlzQGouQEPqFh2Oz\n2di6Zw81RiN9evfGo56omS0Wit3c6iIh7QhbdjlgSUmhqKICf09P2oWH03r6dN6dMQNHVaVZZSUH\nNm5k0kMPcTo6mm9mzeJkTg7N3d0JHTGC+/v0Yf7nn+O/fTs+wFcBAYT36EGzjh1JfvttNiO8VUKM\nRqo2bWKo5roYDizm7OjCEfgBqNKeZS1NgYaWfch1cODT7t3pPXAgfdu3v+j7ScnJobyykoiQEFbN\nno3bmTNU+fkx+KGH8PP6fe9a8uchxVvSgJiBD/N+/FoePLACCzq+6zmeVvV6t9lJeylO3I2f0pvg\nqG4XzKPEJxiyE3EEliNERwdsBXxatid4wusN0uedUemz+E16222AEO+FwGOWGshJ5rbc0xy327gN\n+Ay4C2Fb7pKZwNxl7xA95hUAgtKO4KLlGQdUZWdzXFXZv2YNo3bvxh1YsGkTI199FW93dwAcHRzw\nGz+e1QsWEFhURAIwEtHL3a/X46OlAzh0/Dh3nThBhDYZmL9hA1sVhZrycqafOIEvQFERP//4IyVd\nunDPk0+yrVs3Ni1fzl+SkwlZvpz/rlvHc/UmE2cBTppw12LT/t/o5IS1eXOc7HZUNzfWZmczsagI\ngIOOjuSYzewBWgGLgNYWC1k5ObRt3bouL7vdTlFFBT7u7hj0epbMnUvYunX4mUy87+vLX4uLcUQ0\nWvNrapjy0ksXfKeS6w8p3pIGGAwORE//iXkntqMzONBK6V23jGnK5m+4bc50elQWs8vDj00T3yJy\n4MM4Ojo3yEN377/59JunKctJ4s6KojoTTD9gf1UJAIWZCVQsfxcni4m0oAjuNpbVXe+H6P3WEmq3\nscTJndtMlTTXzgO0sJgIPPIzaOJd5BOMHViHmNh8payMvW+/ja/RKIQVmJKczIo1axg94ey6KX37\n96e0Rw8WPvssDxUX1wXUuEZFNQhjz8vOpnM94Q202SgvKICSkrr8AVoVFZGZk4N/dDRRUVF4pKfX\nhdy3OEeoAxENTSHgD2Q6OJDfqxcrWrakVbt22FWV5j/8wD1GIytcXfkiOpoQPz/8e/XCsno1fomJ\nHEFMoP4ItD19mhXTpxP54IM0adqUzR99RFhGBtn+/riNHEnE2rV00urQQRNuEI2rlxY5KmkcyMWF\nJeeh1xsIb9efsNZ9Gqw/7bfpK3pUFgPQq6KI5t9Ng2dakb6tYZxWk6huNHl7Dw6vbSRFd/Z6M2By\n86GqqgynDycwfdv3TNv5AwNWfcDigBZ16Xa6+5LlfVa+93j4UTjxTT7qPZkUz4AG9zI6ne0Z+9/3\nAe93GEKewUBtcHkPo5H6TnI6AJuNc/F2c6P5sGEcc3HBCKxs2pQ+99zTIE3XLl1YG3zWTLPV35/2\nXbrgHxNDSr0AmEPNmhGpRUc6GAyY6j3DGoTJB4QLZBnCM+Ug8ImjI0cffJAnn3qKkSNGEBMeTuXW\nrZQYjawAqoxG0kpKMLVvT9vYWKJ9fYlBzCnURqG6AOOyskhasICd8+dzT2IitxqNTMjMJGH5cvzr\nNT7VnO3lA1QENHy2kusb2fOW1FFRlk/mlm+xO7oQNeix83rU5+JrszE6P5V5i/6OpfckHBwaRvAV\nfXovFXYbmxFmiJ8cXWg9+iXSjmzg0YzjdenuNBl5tKqCAr9m6AyOWCe+gUdgGB+t/g8ONitVfaYQ\nq5luzhxazYJZT9ElP5UdzVqjG/daXT5e/s3wenUdFS90grT4uuN5Hh5UV1TgDCxo0YKBgwdfsD5D\nR43iZGwsOzIz6dm+PQE+Pg3OB/n7ozz7LEvXrkVvsxE5cCDhoaGEh4ayvqSEuIMHOZmfT2hgIDs2\nbmTInXcS7OPDtn79SN+wgWCrFXtoKB95euKXmIjFYqEYMUrwArx79WLooEEN7plcWko7oCdQAlTm\n59Pi66/5buFCvHv1IlevJ8lmwwV4EeHlshFwrqiAeiYfgHCLhc1t2nDviRMYADdfX/7XrBkhpaVU\n+vnR56GHLvm+JdcXUrwlAJSX5lH9zyG8lhaPGfj3odWEv7yqzhMEoKjf/cSdSaBTVSlHOevpEFJe\nyOmqMry8GvbcmuWlMgIoRkQptrbZMBgc8AqOJsHgwK1WMXFZBkRVFfFclQgz//cv8wh57Wdoc9t5\n5WzW+U6qWvVhZX4qAUGRBLu4n5cmb8BUDv34Kp2MZezx9iZw+HA+TE7G19eXCePG4e/tfd41tbQK\nD6dVePhFz0eHhxP9xBPnHR8ybBjzUlJ47uhRXHJyKDh8mJXV1YwcP55JDz3E3i5dOF5YyB1du+Lr\n5UVpVRWHEhLI//prRhUWojo44NWkyXn5+rq5EVVYCIAP4I5wkWxRVoatoICDd9/NmeXLeUQLsW+L\nWJvFGh2NT0gI+UeOEGi3YwKM0dGMf/RRVixbhsFsplXv3oyULoSNFineEgCyNv6PV9Pi0SFc9R4/\n8jNfxq0hqtuoujThgx5na7M2zPn5c/ruW8poSw02YE9UdyI9zw/kyXPxoLBGeHE4A0kePrTRG2jS\nTGFli1gKUw7hgvC6CEcItw6ITD9KjcXcoOGoj5ubF24tYy9al4ihT7E9ojOZp77CbDYTuWIFk8rL\niffw4GhYGP0GDLi8h/QreCUl1U2YBtjtcOJE3bkeHTo0SOvt5kbxnj1M1IQ51mIhbdMmTGPG4FQv\nTN+nWTOot4mDI6AAmwFjVhbRVVXYL2AGMpWVMejRR9nq7Iw5JQWLnx8TJ03i6NGjGAoLMTs64iU9\nSxo10uZ9E2KxmEk5toWMUwewa37I6PUN7J81gP4cM4jNZiMgojM9n/mB5Me/5qO+9/FC2/54VpZw\n+Nm27F/49wbpjR3uYAYieOQIUBnRte5+Ec/8SEZYJ5oB7k6uBHA2VDfXp+lFhfu30kzpxbAhQ8hf\nvZpu5eXogE4VFRRv3PiH8r0UxnPMFDUe54b1NMRgtTb47GS1Yj1HiDuMHct3Xl6kQl3YfQvgBDAy\nN5dRJ07QurKS3Vr6BKAJcP/hw3w/eza9Bgxg5NNPM3bKFNTERKyffsrIbdsYu3Ejm2fOpOqcCVRJ\n40GK902EzWbl2LfTSH64Cfe8NYChr/ZE/fIx7HY7LYdO48OYXlQjXPW+6jGesA5D6q7NOriK4ufa\nkD01gOwH/ag+tIryHmOJVHehP32ANlkJGBa/xYqXumC320le9SE9dsxlOmJHmtuB6fHrSN75IwB+\nTaPx/ecuNsw8TPYHJ9jTZQQ/BITyeURXzPd9cEXqu2rxYgJLShocq2usrgKtJk9mYfPm7HZxYV5U\nFD3uuuuS6Vv068dOza5epNNR2K3beSv/RYWF0Wn6dDZ7etIJsari9y4utOrcmRhN/PsgJh5nIBrd\nQYgeutuGDex88UUOxcUBkHLwIN3LhFePDuiXksLHf/0rK59+mrnvvkvJOasbSq5vpNnkJiJ50Zu0\nW/sxoxG71psnAAAgAElEQVQ/7hCbhclbv2VZv/tp2ao3TV/fyMxdC9A7u6P0GFfnaWK323Gd/zJe\nWSpTAUdzDbZdC3jl0GpaWGqoQgjI3cDalEOsnTGcyJJsnG3WBi5/gXYbluKz+zo6ObnQvGUsZnMN\nJe6+WNx8Mbt54+B+cZv07yE93432wFGgPXAMsHfvfkXyvhCx7drRZuZMiisr6eHh8as7xXeKjSXx\n5ZdZcegQrv7+TO7X74LpOrRqhWH6dHZu24bVYGDkiBEkJiSQHR9PU62nbvTxwd3Xl1gtVH8b0ANQ\n8vJYvHQpnTt1QuflhZGzAVindDomZWQQB3jm5vLdCy8w/OWXiQoLA6CkshJnR0e5lOx1ihTvmwjf\njOM4A/UNEn42C5ZK0Tt1cnKlVb8HzrvOYjERWFaAod61eqBndQUmxAYDLTi7U01E/FoydHomA6uA\nEdo1i4IiCe4uVu6uqiqlpCiLgCbhpP7wV17cPrsu74+/+gu8fW784O+nsmUsHRAbMawA1KZNeX7U\nqF+56o/hYDAQ+DtsyTEREcT8hknDdq1b004LvqmsriZj/372OzsTbLGgCwyEW26hmbc3P8bEkLd3\nL4NLSlC0a2uDgIYOH86806eJOHyYCmdnjptMVFRW0hfhY05REQs++4zTgwezf/FiupeWYnR3x2H4\ncIaNHn1emYrLytixcycubm4M7NPnVxsryZVFivdNRHFgS4Yi1sIegQghn9WqDy1iL71Tu6OjM2pE\nF1rEranbNQZEyHYlwgsiA+HKJqTZzg67lXmI6L8PgVKdHv9nfiQ4KIKM3YsJnf0cPQoz+aVlLHj6\nN2hQQgrSMF1iwvK3Ejn8ebZV7MJw8iTV7u6Mnzz5hhCYNT/8wD0HDtQFE31ZVsYdS5fS1G5nacuW\n+Pfpg8+aNWC1kq/XY9b23zTo9dz/7LMUVVTg4uhI4X/+g+ngQepPNbdIT2fv11/zrM0mFtUqK2PP\nTz+R1rMnLettoJxXVMTmGTOYmJZGOTAnPp77pk2T+29eQ6R43+Cc3vo9nDmBIbI7YZPf5ofyAtwT\nd/OaxYS1wx20uf/9S/pz2+12Th1YQWWHO4hz9+H08a2EWC0UNm9N1qmD/KumglWI0Pe76113K8KL\npC0isnKbsyt5TUXojNeyt5lQKDwoWqUd5q2QVlRxdm/J9KYxNP+Dwg2g0+kYM3nyH87nWnIsMZHT\nSUkobdqgXMRl0bleFChAaEUFAQgvoYlpaSxr2xb10Uc5kJqKLjAQF+CnZ5/FwWzG2KULEx94AJ1O\nx/AnnuCTt95iYFpa3YqJqTYbOQhf8RrEXEXL6moy8vMbiPeudeuYlJaGDuEy2mvXLo6PGEE76Xp4\nzZDifQOTtOBv3LfsXZpbzahOriy9ewbRT80GqAvXvhR2u52TXzzMI1u/I8Bu4+uwjjjN2I+nXwjW\nkly6Px2JGyI0ex6wHx23aCsEJ+sNlNrstMRGDXAwdgiKm7BluxkbTow1CQzjw053EHzqAKVeTfC4\n570r9gwWIcLgJ7DoiuV5tdi8cSMBc+cysqqKA56e7HjwQW699dbz0jlER5O/dy+Bdjt2IBUYpp3T\nAXqbjX79+rHou+8wL15MaFUVd2rnC9atY1PLlvTt04f03FyGPfwwH//jH7Q1mahBrHFyP9Ba+3s2\noA8NZdy5GyKfM/Grs9uv6mSw5HykeN/AhB5YSXOrCIdWTEb89y+DYf/3m6/PzU5kxC9zaKotGPV4\najzvrP4P5n4PUDH7eZLN1WxDTAbqgXmuXhxxdsPVzYuMXnfhFtWd9+PXYfQOJHLU2QWPTrXtT0VO\nMh5AsqMzxZ2GEjNM7CpzM3sel27axABte7Su5eUs3bgRLiDeQ4cPZ7XFgi0xkWpPT8rz86k4fhwP\nYIGTE1E9erBj3z76rl+ParNR38PcZLdzdOFC9n79NZMsFuw6HWXOznUTmQUI4QbREITpdPg+8QRu\nzg1HZz3vuIOFcXFMTE+nAtjRsyf3y173NUWK9w1MtaNLg881DpcOdz8Xm9WCUz2/Yx1gqa7A9MVU\npieJCcVKxBD7LsBoLKWHxcTaB/9LdE9t4afOw87NlphHPue/wZG45Kdji7mFqL73/q5y3aicay3W\nXaQnq9PpGD5mTN3n+W+8wS+ItWN6mkzs2rQJt4gIgmw2nIBfEO6aaxHRl82LingEsbSu3W4norqa\nidr9v0HMhdSaZbJ0OsI9Pc8rQ5C/P6H33ss7W7YQHhHBfcOHS3v3Nabxz95ILkhVRTGZdhvz9QZm\nA1/6hmAd+cJvutZmE/7DTZrG8I1fc2q3wV0IBOxeRHjGsbq07ogffe2/FLORqrkvUF6ad9H89XoD\nMaNeosXDnxImhbsO9759SXAVjnxHPDzw7d//V66A5QsXYk5MpBKxS08LwK24mC7durG+SRP8gEjg\nLZ2OwcDrQChwSru+BBGxWSu7k4B/IyI4lwABNhunT5+uu5/dbsdms7F+1So8P/iAF3ftImD9eo4l\nJPzh+kt+H7LnfYOS/f2zvHFqf92P8oMm4YS2H3jJa/JOH8I+60maFKST3qwVGXoH+hekMQ+xnkZ/\noKaigNR611Qjemp2xIp2w4E789N4b/Z0PJ+efaWrdUMzaOhQ4kJDWZmSQnhMDLcpyiXTb9myhe5L\nl9JUC9ZZi1hdsDo0lGZBQVQ+9xxL162jsKaGEfv342IRa8kMAj4AYhG97yTEyoQg3mGQTkc3ux03\nYIW7Ow41NZRWVXFgxw6yVq7EwWSipqaGIdp2crfn57N07Vpi27ZFcu2Q4n0DkX1sC4af/oWrqQqX\nktwGw/Cg0txfvd42+3me1swhtuIsvtI7UOsVbUfslP4iYoechUAROhI9fYlycOHdkmwe04b5OsCn\n7Nfvdy1ZxIRGMWnZqV07OrVrd9Hza1euxHzoEGZnZwqcnelfL8S+PTCvZ0/+7777AM2H/IknKK6o\nYM+BA3Xp7EAu8A5iRcOWwNeurjR3diY3MhLX5s3ZHBdHstFIbEUFsZ9+ysYmTUgoLKSn1YoB2Knl\nU/sd09lslFdVsfqbb3DLy6MyKIgRDz2Eh6srkquDFO8bhKqqMgL+9yh35yQD8A06qhE9KTuQ6OqJ\n49IZ+HW+k8CLLOrkU0/gTYC/NlFpRwS5+CCG0q2pXfzfzozyIn4OCGVLWGe8Uw4CYguxpPJielyN\nit7E/PLLL7T58Udaamtyz/fxQTUYUDQBP9KkCVMfeaRuz85afD082Gq1EogwraxHjJZe0c7bgcU9\nezLg4YfPLoo1ZQpLpk9nUH4+AM3z8uiMWEAMoB2iAZ8EHPD0JKhvX1b+73/ctWsXesB28iQLbDYm\na5s/S648UrxvEApykhirCTfAvdj5W4sORHkFcLook/tS4mmVEse69Z9x8unZNGt7vj01I6wDljMJ\nOCB+3AeCIhmZk8QvQDfOuhcuQ9hNrYjVAkcUZHDcLrbickWsszHsTAKnSnLwqbfHpOSPUZycTJ96\nmyn0LilhxcCBqOnpmJyciBozBt8LLIZltdnohtiBKAMhuGWurmxwciK0rIz9kZEMmTixwWqGAA4m\nU93f+YjNjWsJAI63bcuK9u2JatuWNopC/rJldZNoesBd7sxzVZHifYMQEBzFvibhhOeJtS0K9QZ8\nhjyB62330fWpcFpp/td3FGWibpoFFxDvFo/P4j3PAHwL0ikObUf7ca8xc+kMrHuXMDDz7PKmbYC/\nA/+sd62rXYhCLfutZiwWE5Irh0tICIU6Hf6aeSrB358pU6bg92urF+r1FPn6ElFYSASicdUrCl2m\nTaOgpIRJwcHnCTdAZlgYBTk5BAB+Tk7McXTkAW2j5p/0enreeitDB56dR6n09wdtctMOVMqdea4q\nUrxvENzcvMl65As+++lt3GoqyewwmJjbH8FqNWPRNXQqsukNF8zD2dmN6Ic+BkTPCsCxRTsKTx0g\nLzOBJloDsBcodPMhz2Qk3FLDITdvCgZM5adt3zE2P5VKYG23UbTyD71Ktb08GlPAzoUYNHgwi3Nz\ncTlyBJOTE6GjR/+qcNfiP2QIHy1bho/JRFlUFPc/8wyebm4XvN5itfLhjBkMPnqUPYDq7k7MpEkY\n4+JYGheHDmhjs3F4wwaoJ94DH3qIH+x23HNzqQgKYvCDD16hmksuhBTvG4iQDoOhg9jiq9ZPwcHB\niaQBUzm5cibRpmp+9G9OlpsXlkNrCLuAD3Z9kha+wd3L3qGlpYa/I4bNJoS9M73jHSzqMRZrxnFc\nW91KbOzt5PWayNt7FmH3DEAZ9Jj0+73C6HQ6JmiTkb+HQ/HxhK9YwbiqKmyIqElX5wv7/Nvtdr79\nz39oc+QIHYAOwPDKSpamphJosTCmXtoDWVnY7fa699zE35/JL774u8snuTykeN8ERE96i9Vt+5O+\n4wdu37OYmes+IXHzLJaM+xtRY1656HXN9i4hzFKDHSHcI+ud22csw6/nBOh5dhd2/+at8R//+lWr\nh+TyyDxwgJEVFYCwRfdITGTFpk3Yd+7EwWzG0K1bXdBPUUUFLQ8fPk8Y9BYLiVYrKpCCsJ+XVleT\nkJZGG20JWcm1RQbp3CS0aNef1sWZjKgSu7/HmIyE7JhXd/70+s/J/uQ+kua+hNkslhC1aDvp6BA7\nk9c6pRWhozBa+pIApOSVMO2bVJ6alU58av6fXZwLYnV3x1Lv8xlXV+xLljAuIYFRycnELl7Mjp07\nAXB2dMTm7EwWIoAHYL2TE2H9+hEQHMxuhL+/N2IhLHO9CVTJtUX2vG8ibOcEYNu1z8kr3+ee+a8Q\najVjBt7LSyHmuYUU3/E02+a+QPfyApz9mvF6WGeaOThSEt6ZqLF//RNq8Oditlh4d/kp8kpdGRSr\no1eMLyPfhWMZInL1my0/8v2TiUzoGfMnl7Qhd4wbx5yUFNonJFDo6srpzp2ZuHkzIFYO3GQ2Y5o/\nnzNHjjD0vvtI69CBDjt2sNFm46S3N/0ff5wO7dpxZNMmauNhFUAFMpKT6XDuolWSa4IU7xuEkvx0\nzsSvxbtFO5orvQHITz9G0uK38MhKJMi/GdlRt/BzShyDSrI57OpJzoCpRALex7dywGomDmHTdopf\nR7q6m5b9H+B4zC1sP32Q4NZ96RggJiAD/7RaXj7Fxfns2LEbd3cnbP3GMkn/0+/OY8pHySza8wLg\nwvfb4rir13ccy/h33Xmj6S6e+uZ1hncxXVe7z7g6OfHAK6+QXVyM4upKp5oa4uLjaVNUxNfAc4BH\nfj62LVv4JD2dftnZeNhsmIGCyEh6d+kCgNc5dnJfIGfJEor69PnNE6eSK4cU7xuAnJM7Cfn4Hh7K\nT+W4sztrxr2Ga1QPwt4byRPVFWQBu9MPE5p+jENPz2X11u/wzTuNj7qL3Fa3klqazzio27JsfnU5\nkW/2Y9Pw54i+ewaBzVr9ibX7/Zw5k878+XuoqHAlKqqG22/vwcyZ+8jMHAtUcvjwbCY+41430VZR\nXc2WYxm0DPAgNqwpIDZbzi0txcvVFXcXF6pqath6vBMi7MlGmTGHtXFmxD49taErZeSVhpFRUEhM\nSNNrX/FLoNPpCPHzA8DT1RWfRx7hh88/p2NZWd1a3nrAPzOTpjU1+AARgPXkSZYuX46hsJByb29W\nubgwvLqaUsRStF3LysgtKpLi/ScgxbsRk5O4h+rdCymMX8uD+akYgNiaSo5s/Ir0PUsYVS0mqUIQ\nwTS3Faaz7fB67j+wnM5GsRHt3LTDeEV0JejU3rp8bwGMFhOdN3xJ9sgX8fDwveZ1u1zsdjufffYL\nSUlTAEhIKENVPyEzcwIiKDyYPXt6cSRtDR3CmpOWX8Lo98zEpz2Oq1MKL478meeGN2Pc+1nsTrwN\nX48zvDY2hakDQnF3KSa/HMTq5aPJKBqKWCWkG2IriWNEBTvQzE88L6vNhl6nuy69brp26UJWdDTG\ngwfrwtzzgUyLhSTEGilWYJ/Fwl/nzRMBPg4OzO7QgTMHDxIGTEE8CYfNm2n9wAN/TkVuYqR4N1Jy\nEvcQ9cF4hhadwQp8D9yL2GNSb7NiqLfRL4jAjH16J6rUXXXCDTAoO5F3299Olt6BEJuY1jqO2P2m\nyGLCYhGTl1arheSv/kKLpN1UuPtiveufBLe57epX9HdiNJaRldWs3hEDKSk1CINQEnAAux0SMnNp\n1yKEd5cXE58m3NuMJj8+XZ9NTvFuNh79B6Cnsgb+sWQRU2410iP6KFnFn2CyGDm7aOpzwL+ApgR4\nlvDpVAPOjkHc+/FJtp5ohbtTOa+OLebe21pcu4fwG3Fu357wuDjm22y4A4cdHHjdYqmbGZkD9DaZ\nmIPohbtYLMTW1HDKx4eakhJ+Quy0sz8t7U+qwc2NFO9GSvXuhQwtOgMIGbkNMYHkY3AkzskVQ3Ex\nGxA/riTgENDfZuLFpN0sRew1+RNg0enptG8Z78fcQkxFMbacZHprgr2l60haeQtjyqnF/+D5zV/X\n7Tz+1aynsL4Xh8Fw7b9C9X2Lz8XV1Qs/v0wqa9exZQ1m8+uIp2RH9JQHM/mjtsz+ZR7B3g3tuNVm\nL5YfMFPfEauwvBnvLF/N4j3TsNpCAQuiz3m/lqIVMI7opm/x9SY90749iZr1PrUbu0394ifCm6Rw\na+vrS8CHDBvGFhcXPFUVq68vHdLT0dVbwMobUdPa7TuSgSUVFXgHBDCspKROPErd3FgyZw5OJSW4\nREdz+5Ah1+Vo40ZDincjxeTs3nDRfEcXlg95CnvCVmaeOsC3iN3cUxBufkOAngA2KwuDInm7qozJ\n5fmE221QksUtlYUse2E5Hj7BrN63FKtXIMrgx+t+hJ75KdRfH07JTyOxoghv7ybXpL42m401a5aw\nYUMGNTXhBAZW8/DDPQgM9Oedd2aSnFyK3e6Fq6szdrs3MA+93obNlgBMQBgBvkAszXQCuIO1cS/w\nUL+X8HBZTUX1nUAlBt1qckr9gWOIcCQbni6LmPGTPzZqI0YdEMI8CzHWMWDQf8rBUz3ZnTgIsfqL\nW13ZzdZ2vDRvPzv/+eeJ96H4eNLWrUNntxPUvz89b7kFgP4DBsCAAQCsX7OGzPh4mlssmBFrftdf\n8qAUCMrJoa3FwmdOTgQ6OmINDaXSbOaulStxBLJ37mStycSwkSORXF2keDdSWox+mZmJuxh3bAu5\nzm78cucz9Ljrnxifb88W4E6EN0AqsEXvQDvNJGIHdG37YwmJIXzu2Wi4KHMNxiyVsI5DCAjrcN79\nKlvGUogOfy1E/kgzhUDPa7N2hd1u5+OP57Bzpx54FiilqGgjr78+l+rqPOz2YMRWx4lUVLRBrDJ+\nNzbbDoQz3C6EFfcBxPYRdkTP+R5+2GnBaPYCvgYKKTV2R4xVPkGIdwn55TYgWrsuDjFJ+QvwKrXT\nvI6GuVSba33fg4AEzm4oFke16c/bIiwtK4uKL75gTFERAAeTkznh50ebmIYujUOGDWOToyPb4uLI\nPnGCiVVVJHB2QbJE4IHqakBY+X/o3Jkpzz7LqiefpHa76KY2G/sTEkCK91VHincjxcXFnbBX17Mq\n4xgu7n5EB4pe3SmvJuQgFo9yRvjjOtgsfOwfSi9jKftbdsRj1EsUzXmBZQ5OjNYWj1oV0IKgTkMB\nKCvJ4Uz8Oryat6VZVDcAIoc/zxcVJQSpOyh398X1rn+h11+bGK+srGT27OmK6AtaET3b+zAaxyMM\nQjUIwR0KfKfV+mu0KTigCGEA6ISQokWIfuTrGM2BQB+EKJ/dZxM+BB4HqhCLqPYH3tX+H4H46XyP\naDSGUW3uCqQjBL8n8DmwCggDutA18kfAB4vVSmF5OQFeXhiu0fM7cvQowzXhBuhSXs6KEyfOE2+A\ngYMGwaBBnE5PJ27bNlKysynIy8PVasVWVATaBgybgcpjx1g6Ywbp9ephB6rd3a92lSRI8W7UGAwO\nNA/rWPc5ffciemQcpQ+wByFb3YBdXk0IejeO0zpo6eHH1qci6JyfihUx1WYPUfB89H+ENI0m99QB\nAv47mZdzkjnu7M76ca8ROfpldDodMZPFOoLe17ieOp0Onc6GEGlVq1WtYHRGrDbur/29FbHxlwF4\nBLGz4xyEfXq1dj4IsQ1BC8Sq1O9wfq2CENvxBgHFiKW6WgM9gKXArYg924uAxYgJ0Y0IC3EuUIgQ\n8f008TrIJ1M7sFvN5fGvHDmd14bo4GPM+oudTuFX32s+LCyME66utNWEN8XJiSbNm1/ymogWLYi4\nt+EWdfM++YTq7ds5jngqAyoqID6eVZ6efOrnR6zRSFJoKEMnTbpgnpIriwyPv4FwX/MfhpXl44nY\n6movwsqbVlFE0YkteHr6c+DDiUzKT6U7UIawBhsdXAhpIzbCMq/6kLtyknECOtVUErrhi7o9Lf8s\nmjaNpHfveMRmXXsRlvxaLNo/I2KzNgUxwB+qnXdEiOgpxCZtcdrxngj79zMIobUjzC1o/6cgBNuO\n6NW/DxzQPhs4G6rkhwgkD0NsV/EmQsRvRTjghWPQu+Do4MALc80cSX+Miuo+xKX+hamfn/X6uZq0\nVxTOTJzI0ubNWRYSwtHRo7ml69nVudWkJBa9/TYrXnuNJfPmYT9n4+OS8nJWb9hAcOfOrB03js0t\nW1J/w7P+5eW4FxWx1WIhIDOTXf/4B9u3bLkmdbuZkT3vGwhnc8P1s5sC44Bym4V/LX6L0rwUovcs\noQJhKFCAdUB+fgo2mxW93oCDvaFQO1ktWGw29BdZRvZaoNPpeOKJe+jceSulpQHs23eUkydNWCxN\nEWLuixDYU0B3xF4+Ns72TUoQvexM7bhb/dwRjnAPI3rwjsBRLY//aWn9EOaSMOAjzu+lm4A04G5g\nN+CFcLYEOI2v+y62Hs9iX7J/g6viUyN4Y2ESb0y8+uHlg++8E+6887zjJouFI19+yYT0dACKkpJY\n7+PDHVra3MJCtr7zDuPS0ijS6djQrx89Ro8m49NPCdX2xDys5fWC2YyL2QxVVaxfsICS7t3xkSaU\nq4bseV9HVFWWcvKXeWQk7Ljg+YKM42S+P57ifw4hecXM884f9wrklOalexIxNQfgCTjmp3HPj6/x\nCHb6AAsQNvFU4EljGSlx6wAw33YfW72EB0mu3sDJ7mNxcHDkz0an09GzZ38KCswcO/YEFssgoAnd\nutn5+99baV4xLyJE9hmEKSQL2IcQ1BMIY9IrCFu0Ucv5F+1/B0RTNxLxxGKBJxCTnNMQe9D4IcY0\nZQhzy3GE/V2PEO4ziIakCULM5wIquaXNmD47FbO1DKjQ7leKHQOL99b3Sb/2ZBcXE511NibAz27H\nnJFR93nXmjVMTEvDAWhit9P+l19oFh7OodGjWdGiBd+4uGBBPBmXevmGFheTX1p6rapxUyJ73tcJ\nxfmp8N4onk87QrqDEz8Ne4boe96tO2+xmODje3k2VQz7049v4VudAafCdFxM1eS6+fDUsc2cwc5x\nIE5vYHo9c0eAwZFWWnCOF0LY1wIxaP4SBtGzDu00jGMvr2RX/Dp0TcJR+txzDWp/abKy0li+fAt2\nO5w+XYMouRtQwZkzzfjkk9XY7V6c3Q7XG+F7vQLh6R6E6JHX9ph7a3nsAwYjzB1fAx2BJAy641jt\nd9crgTvCeyQJYU83IXryLto5vXavIoRZpjeiwRDPrrBiKIUVs4CBwBtAL0TTOQZHw7dX6CldHsE+\nPhwIDqZjZiYgpnH1Tc+G9heWlrICMV7pBzjYbFhtNkZNnIht/Hj+MX06/TIzcUR0GGoXUoiPjGR8\nk2vjRnqzIsX7OqFkxb95Me0IAK0sJrpt+h/pI1/Ay0u44xUWZtIn/Whd+iCrGecV7/JSaR46YIOT\nGxWWGnpr59varLwbHMP/s3fe4VGWWRv/Tckkk56QRgJJIJXeQ1U6UgxVqqLoii7uYtd11c+GBfva\n64IiKL1LkV5C75CQkE4qKZM2M0kmU74/ziQhYNl1kSJzXxcXmZnnrZncz3nv5z7nDC7L57irBzon\nF9CXNmyfrVTT32qmNfB+97FEdxzWuO/IOAIj4/7oS/6PUFJygWefXYjROBAh5xXA2/afzeTnP4Vk\nOSYhskgLxJFSgbhLfkA6a14sdaQjZFwLrAO6IfR0GGiHxdYcId/6DNKDCFE/QuME8RqyoBkNjKHR\nULcXcbz0vuRK/BHZZS7iZJmNSrmXvw/XIdPptYGzkxOxM2eybOlSnI1Gatq04Y74eADO5+fjn5jI\nGETp/xdQ4eyM79y5nPX3p6xVK6bm5ZGPLOkeAXYEBeEfG8vAiRN/trWaA1cOjrt7nUBlNTd57WY2\nNekB6eUVSKJfKJ2KpEfgMWCanbgBhpqMLEGMagDH/EIJeWkH296dwPOpBzgPfO7kwpC6Gk75hpAR\n2ZPc6kosUb3oMemlq2b7+0+Rk5POuXPJHD9+EKPxIaC+kXEkYlQbjHx9WyPtkFsCWxAy9kZ0axOS\nFwgiYdyKkGslYgP0RvJMa5HiApuRCSAAqVb9GuIwOYG0o7g4a7AVQmmFNBI3SO8ZL/u+qxAJpg6R\ncFbbx2QAuxnUbhd/GdSZa412bdrQ7sUXAVizdCnrnnwSi0pFtp8fj5XKhK8AJgF7qquZUl0NRUVk\nnDvHPoWCu+wLnDZgVVwc4++69k9rNwMc5H2dwHngfaw9tpHRpeepArZ2H0OsT+Pjq4uLG3kz/sUX\ny1/BrbqSE+GdGXN8I6E1VYDQ1IGonpiq9Rhd3DCOexZD0k6eTj2ABqG85nU1POYVhLtnAG8eWokT\nsPX8aZI6DiH4OqpTsnv3Hr79VkNV1W2oVGdorHcI4gCpz32vQ5wh+xApol6PngC4I/q3DiHtdsiU\nlwA8iGjaAE8gGvh6+9gewG6EdJ9GFjAjkUhch6i7FsShEoho2F8gy8NVSJRvQSSWowixFyDkP9Z+\nzDL6xuzn61nh/9N9utLYu38/XVevbliI3JObSyI0OEuOIR6aerSuq2NZy5Zk5+XhZ7WyKiLCkVl5\nFZ/7qrsAACAASURBVOEg7+sEgZFx5P5zPa8fWoX1F3pAhnSPh+7ySNsTSFj5GlU//gu/Gj0/dRhC\njyeW4+TkjAtCMWmH11ANDSU/NUDPikI6VhSyHVmyU1RcIP/bxwl+8+jVutTfxKZNJVRVSVsui+Ve\nJGqu9xyvodHfYEAWE79DtOgD9v9BSP1HhGDrxaRBiDRysRYr6e1yN0KRRJtCJDq+0z6mI7Jg+S4i\nyxiBB4D5iDzzmH2cBfgKIeyZyJ3/3P5/PXEDzGBS7zmE+nn/N7flD0dZXh79zI1PgD0tFl5EHPJ6\n5K4cQ+4ASAqUydmZ4uefJ7W8nHHdu+Pm4nLpbh34g/C7yDsmJkYBfIo8I9YA96ekpGRcyRO7GeEf\n2gH/0A7/8fiI8c9xYdgsztcaae0ZwNm9i1CV5tKs820ERcbRuls8n/WeRN/9SylBKEeBUF8fJAsT\noGPmMb55OBqfO9+kRc9xv3S4qwar9WJbYgDyXLEakR56IVcxGhqKmfoA/4csOHZCEnGaIRFvOaKT\nqwELKpUPzs4LMRofRxYatyCmyS2IY6QK0c+foXHSsNiPXe/Lbo1YBguRSL0eKvu/Hoj80gGRXXYj\n/u+O9nN24dT5sv/pHv0RCG3ThlOurnQ0GgERmP6G6Nnr+/WjrU7HqXPnMJnNaBCxqVN5Od3atXMU\noroG+L1C51jAOSUlpQ/ivXrvyp2SA/8N3N19UVktnJ7dmhmf3cdLS1+g45yhZB9YgVKppOXML8jR\nejEZuBdZWturVHNxe4XWQPfCVFrNn01VVenPHudqok8fJ9TqFPurRGShbywSGbdFyPRjROr4CpEn\nIpE4ohIhzDSgCKGYQOTKR2Kx5FJXl49S+Q7wFnAOlepb4C/24+1AvtI+yASxHPl6B9uP39x+/N5I\nJJ8I1Ce1mJDIvQzRxLfZt3kFeBKJ7icAkHC2vsjV9YNO7dpRNmMGX4WEsAy5Ay2QO6vU6Zj00kvE\n9uzJHcidmQiYXF1RKBQUlpdTWF5OTkEBq7/5htXffENOQcE1vJo/P36vbNIPye8gJSXlYExMTPff\nGO/AH4jyxc/TU5fXIBj0r64kccc86DWB8pJs4qsb/bbNAP82t7A+L5nR5fLHdQjxTDjr8liYcYTY\nTrdd7UtogtGjR3D69IecPHkUiWAnIFmL2xAvdRbwKhLl6pDqfsMQnflbxDkyC7mqg4iXW4PYBVtT\nV+dDUFA2gwaF06KFP0lJAaxfX4pQVQqS9q6ksc1upX3bFojWPQiZGN5CZJqliNZtRKL4U0iGZxmy\nsAoinXgiRN+dHN1+Zn6uxENr5KWJLfB0vbhm47VD/wED6NyjB1/cfz/DLBYqkOmrvYcHAHETJ/JD\nfj4dsrPJataMFhMmsOjzz4lISKDMZuOCWs0Me+S+YNs2tGPHMnHChIb9W61WCsvL8dBq8dBeH9d8\no+L3krcnIvbVwxwTE6NMSUmxXoFzcuA/hM1mo6qqFK2xAtsln1kV8lDlFxTBvuAYIvMlks1VOeER\nN4GEWgOn9i4kPCeRSJuVUiBdqabn+1M4Gt2LFo8vw8Xl2rW2io0N5+TJSiT+24SQdjhCmr1oLIa7\nHYlqzyNRbh2S2h6NOE/a2z/fgniwC4BSSkoM3H77SNRqNV27Wti48S0sljaIb3sO8CziBa+PS/yR\nhdEx9tcBiMXQjPgw6mWDjxCi/gtSifCOi66q1j5uP8baOr7e/ihgZeGeVxnTQ83cqc1p5nnt24l5\nubnh17YtR06fRgkMUSpJaSsiW2hwMEGvvcapzExqzp7l8NmzTN2+HT/E6X6PqdEhNb22lm+XLWOn\nry8DBg7EWFvLknfeoX1yMqVaLaqxYxk6cuQ1ucY/A34veVciy/H1cBD3VUZ5cTb6D6bSNecMZzVa\n0lGQiA1PYIlSTbHWAw9DBa5uXlyYNY+PVszBrcbAufDORG79nPicM5x19WZD99FU6stwTz/E3aZq\nMJYz+MQmnnllMD1eO3DNtMzIyCDkazbT/o4FeAGJiPchskW9pW8zQvJhiKJfjtQ3sdDYX3Io8A5C\nuMMwmyuZNesffPXVuygUSmw2PyQeuZNGm2AQEm3Xt4i79CvugizbLUAmltP28+ht/+wsUjb2DkTG\nyQQ+AVyxcat9H0qKK0fz9TYf0guXsu0Ft+tCP57w2GP89MMPOFdVkRwby7Dhw0XrVqsp0enI+uwz\nxufmUgZsQNKR3JBnDV/7PsqAUKuVynPnYOBANq1YwfSTJ4V0amvZtnIlultvdfS//J34veSdgFT5\nWR4TE9ML+dY6cBVR8cOzPHluPwD9q6v40C+MT5qF0jl1P09azVgTfuD9okyCXtxOYEwfeHYjAP4f\n3839OWcACDSWk5N9kuo5CYQ/0lgeVAV0TTtM5o75tB5031W/NoD9+88hanw9jiBEPALRnxcjkooZ\n0cHra2nPRB70v4Im5ZNAyFePyBodqaiI4957H8dsDsNqtSLSR32m5iuILGJD7Il77cf9AVF7M+z7\nc7ZvcxQh7k728x6JaOAjkImkEtDi72mjpe8ZjmXNvei8LgCtOJbRjTJD9nVBZl7u7kycKRNnUnIy\nS555Bm+djuIWLVAFBTHNnpHZDLn7y5Arfd/FheE1NaiRKa8ZcP78ec7n56M2GpsQTpBeT1lV1XVx\nvTcifu+C5SqgNiYmJgHxTz32G+MduMLwMJQ3ee1rs6IqSOYBe7KPErgj9QD7Fv8fxQWpDeOsZYVN\ntnM31VCZfYpNLu4NcWUqEIINpZ3krwXc3LQI6dULQilIpB2CkOtURJ4IRCLli+GM6NXlSFS8FrEY\nDgHGI9LLeaAYg6ENtbWPIF/hSdiXcuwIRBYrDUh8chYpO/sKQsbJSAwzCpFjBiMTwFv24z6OLJ6O\nsZ9PMz64p5Bdr3RmSId3UCn3IdKMGvDC3+s8ntehDnx64UKmZGYyvKKCuxITyTl7tsnnKuT55HWN\nBpOfH0tDQ9ng4QEqFROBJ1NTOf7mmzhHRHDcTtRW4EhMDGGOFPrfjd8VeaekpNiQFSEHrhF0bfuT\nf3IzwVYLJiCnspjmdTWYECpLQXwQr69/l5M75nFgyquom7XAO/0Qx5HE8UpgX1AkU/41BT9jOW8j\nVOMFhKs1HAi/dtl/EyYMIzl5AampXyN/6keRhcKL4YNE3jnIYqErIqkEIqTfHiFsE/CGfUwAQrAb\nkUg+FYnG3ZEHfgNgQ8HX+LgdoMwQio0CRCX0RJzOSiRpJwaJXYoRrbve4zyDyw1YCtyd97I9MZQl\n+/UMaGvhk/sOMXt+GcezuuPr/m/mTK5Erfr1OttXE8dPniTn2DEy8/KoRaZEBRDg7s7KkBDG5eVR\nAfyETIc9TSY0ublkAlalkvut1oaVgDEFBaytqMD80EOsPXKEOhcXxk6ciFp17apV3uhwJOncoIgY\n/RQLNFpc0w5zISWBF4oyWIo4k4ci1DLDPvZWQxnpGz/E0DyamcYKTiCx6DEPP8LVLnQzShQ/HNjt\n7IpbeBcSOo8gqv/dV//C7HB19eDllx/grbfmcuJEO8SD/QPirdai1TphsZRgMnVDapBsRAj7KELO\nJQhxg0xn9YuK+xAyf9D+WX1nngmI5r0LOIWNQHSG25FpMAnRy+up6E1gtv3nCcBTCLXVw9t+zExk\ngjAAB9HXxvD19ocBBeuOFqFSfs3m59tTbarEWe2OUnntapxciiNHj6L45BNG6/UMR54j/oJM+D4d\nOtBn6FAW79hBxooV+JrNxCL2QRAv0CdWK8WI0JSBuORxcaF5SAjpP/2Ea2kpP5aXE//AA3i4ul52\nfAd+Gw7yvkGhUCiIGCEEonl1OM5FGXRDqnB8hwKDqyc2Y0UD3TjX1VBlXwjrbP9X7u5LpaZRcugE\nHA2MxGPO3iar0dcKen0pSUm9ERL+EUmcaQVY8fB4HaOxGJMpCvkax9u3MiPSyOM0JvGASCgB9vcu\nILFiAPLQnwMsQKlMwGr9B2KenGLfzob4vrcjzyu+iHRT/9kOhKgXILmINvvPoxBNvn45qBsSvcv5\nWG0BHEqXDEut5lLZ59oj/9AhRuulfK0GiFKpWNixI15RUYweP57jp07harFQ4OdHVGEhvS7aNhzx\n5nwdGEhAURHdbDbCgdS9e9m8fz9/scsu1pwcljk7M3mW4yH+98BB3n8CVN1yJ0fTDtLNWE66Uo2f\nqydxpho+Vqq402rBolCS3i0ej+6j2ZBxlBG6PM4o1Zxp0Y7gYX9lbfYpbivN4YibD6XD/3ZdEDdA\nWVkJJlO9WyQLIUQAJUVFHZCIeyeiPbdCCL6rfUwE0pOyI+IaKUR84k8hdLQMqXlSjUxb6Vit0chi\n48Va/4fIklwJkqnZG5FaLIgVsSci5xxFlEQtMikkI0t4zRAyv8zMSYBnOY0dea4v1Gk0TaY+o6cn\n4x97DDcXF7Zt2ULIwoWMqa6mjULBl0heqj9yN3sBBj8/Rs+ejXHOHHrU1gJwz7lzvH1RcwYloC0u\nvpqX9aeCg7xvMOQd+xGXla/hWq3nfIdBRN/zPuH9p7PHrwWbknbju+0rZunyAFk+ez68M+7D/07M\nwPtQKBTsbN0doy6PCKuZh4+t57voXhS+soc3E3fg27o74aHtf/0EriJatIgiMnIZaWmtEenh4u44\nRYgGPRaxB36K0EY4IhrZkOTuUMR9koCk0NfLGxMRP3c/pIDVBoR+ViAauBWplTIY0c6rkHKuGqRW\nykvIpFBfPKwbEmmPQUrOLkJ09mGItJKOWrGDkGYfUmdpTpfwdN6889o2Yvg1DLjjDhZmZNAnNZU8\nNzdU8fENdUv0e/cSa++H6Wuz0Y/Gyi2lwAexsTz1zDN8M38+g+zEDfKbU2i12AwGFNjLigVfXJHR\ngf8GDvK+gVBdXUXg/IeZekHKyJTlnOEz/3CiRj1KSLuB1EX3we2nzxrGK4DgoEgCBv2l4b3OuYmM\nRxaZcix1WA+swGfM0/gMmHFVr+XnYDbXsWnTZqqrrcTFxdKsWSCenibc3BZhsVRTU/MvRPApRbTo\n+nKsnRD5Qoc4PYYjJWLD7HueiFgNdyEE3R+RSyoQsn8KIV8tErFvRzTuGsRbfg6xCg5BiB77Pi7t\nZlRf1CmC+mgebrMfyw9Qse0FFeEBVlTKCK5HGGtrKa6sJNjHh8kvv0xqbi7R3t4EeYvEk3j2LPnZ\n2Q3jc2h81gF5zugeEcHqL75g5v79fI+kSzkBO3196XfffSzZswc3nQ5DixaMvfvaravc6HCQ9w0E\nXUkOwy801v/ywYbzRTZAJydnkiJ6cPux9aiALLWGqnYDmtTQq3L15ntkcckT8Mw6ybEj62jZPZ5r\nCavVynvvLeTIkRHATyxfnoSLyxaqq3tTTw8hIZ/h55fJyZO1iCRyBNGnjyNV/n5C4rk8mibU1CH0\nMQqJ/75BUkj+gvjBeyIEvwWRP5xorIlSYN9/DxrrM4JE8IFIRcNbkci+vtSXDXE5/xWRTKYD2zDb\nhqKv+QnVdVY7vR6HDx+m4NtvCdPp2BcWRr+HH6ZdeHjD5xarlcSvv6ab0cgu5DknD3E11VfwTlEq\n8Y2MhO+/xwVZZt4AnNRqCQoKIjAjg0mPPHLd1Y+/EeG4gzcQ/ALC2d+ibcPrHJUT5lZdm4zxuvcD\nnvcJ5t9KJT+4uKNx823yeeX4Z3FTKht6twyw1OKU8MMffeq/idzccxw71hupQzIdm20s1dV/Q/Rl\nQXm5J//85710716fTDMCT09n4uICED3bicayrtsRGcOGRNHP2rdxB+6msXpgOSKNfIr0nRyL9K68\nBSHknfYx0YhTpV67PoYk+5QgCUOp9rErEHnGhkT6nZAJYgyjuqyifej1KxNkL1vG6KIiOpnNTE1P\n58CSJU0+1+n1tCgpsVeIkWed88i0thxxMK3r0IF+fftSa/dzuyCBQkx1NQ8kJTFw+XLWLF58Fa/q\nzwtH5H0DwdnZlfKH5vPh8ldwrdFT1HEYgZ2Hc/bt8VjTD2HVepGHjaiyfHwBL72OzEX/wNpnckOk\n07JbPCWeQawpl6azfQGT+rfdDlkHV2LOPoVzVC9adhl+xa9No3FBpdJhtda7ievhjsgRKoxGHeXl\nhTz++J1s2LAZg8FG797t2L27EiFdFRIJd0bI9g0kaTsWIfZ6qJFCU/EI+a6kMW1hEUI3cYhTZCoy\nMWQhJszvUSrO4uJ0GqPpHaR+CYjOvh2RbIYgnedTUWCkY1gKk/p8wJPxsddt1G2z2dDYC0rVw7mm\npsnrZu7ubAkOpk96Oi2RO3sgIIDIoiJigFUhIUx74AEAoqZOZdmCBQTpdBytq2NqXR0g06cqPf2P\nv6CbAA7yvsEQGBkHz6wHJJkmc85QQk9v5R5AQR6HEZEgGTGufVuWj9FYgbu7DwC1NQbKlUrut+/v\nEydnGPzArx4zbdUbTFzxCpGmGk65uLPxrrdpPeyvV/S6goLCGTz4IJs312CzXUAkCStCoAYgC5vN\ni4SEBOLjJzJ6dKPMs25dIiJj/AhMRpJ1QGx93yO2v0WIfKFA3PD1le78gXE0ThhTEc+4BhrqjwxG\nFi8XAn2x2uZQbfqIRuIG0cwrEEoDsQU+ig0nTmbX0SX87eu6p6NCoaAyNpbqoiK0QI5ajaZ94+K1\n2WIhu6iINjNmsHTtWlwMBswxMTw5dizrN26Eujp6DhpEsL+4Zzp37kyHjh2pMBrJnzuXwHPnAHke\nqfG8fvzsNzKu32+TA78Jm82GU86ZhvYEII+wa5E4NAHwt1o4++4d1KqdqOw1gWpzHc/rchvG/62u\nlqc+u49mrp7kRvak+YT/I+/QSpy8A3H3CqJu53x8D60i0iRRWMcaPQcTfoArTN4A9903md69j7Ft\n21KMxmCUyhJSUqKoqLAgLclg+fJThIQcoWvXxirErVpp2LPnAmLfuzjhIwxZdHRFikP9iKTJv0ij\nfl1y0RjsP2/Dw8NAVdUt1PdDV1CKjbuQrEqwcQuit9c3at6EEHg9fGiM9p04nXN9ySXVJhOHT57E\ny8uLTtFS12bKrFn8GBiIorQUj+hohg+SjNYKg4FVb79Nj+RkdO7ueI8bx7BRoxr2NWb8+IafK41G\nTiYm0rx5cyJbtMDX3Z1O99zDD//+N146HbqQEIY5elxeETjI+waGQqGgulkoheWFDc0VzNSLDLIk\nZ1SqeTpxOz8BF05v5VRwDBk0xozVwOCCFEYAhvTDvLl/KS9UFnEcBdkurtxRY2DlJcc1q5z4o9Cm\nTVfatGnU8bduXcWXXzZ2sq+u7sjp02vpepHUf9ttA1my5CNqa70Qcq7vdz4fSahZhDywG5AqHJ8j\nrpFapNrf+8D99m02ACFUVYGkvb8HVGHDB9HT6+GFUvEVVttB+zE8kAXTGUgE3rT+R5B3GY1R+bVF\neVUVa994g/i0NEpUKpYMHcrk++5DrVIxZuLEy8ZvXb6cu5OSUALtKivZvHo1lQMH4unqSmllJclp\naeTl5KA/cgRbdjbja2rIdHFh44QJjBgzhtioKGLnzqXObMbpOn76uNHguJM3OHwe/IIt795BWXEm\nza1WEhFB4EMXNww+IcwqOMciZPltmNWCLTeJ192bcae+FCdgvkrNMxaxuLkBPSqLUAOF2LijRhr9\n1ley7gZs9w2heuQjV+36unbthbt7Knp9fecZPT4+TXVjlcoJX98qCgqikdT0t5DpqSVC0J2RJO0L\nyDPKS4i4pEaq/72OLEB6Ick+KYhscjcSvdtwVn9NrbkQcaN4AyqstjeQ1PpRSJRdCjxAjwgDH93b\nnecWv09aYSCtA4t4/57rJwV8x9q1TE9LkwZyFgv6bdvIGDGC1s3Fs56dn8/pxEQiIyKIbd0ap5qa\nJs4GP6ORqpoasrOyyPn0U3oWFVGLpMA/ah/jU1PDuo0bqRs1qoGwHcR9ZeG4mzc4/MI74/dRGpXG\nSrJ1uZQf38CHTlqihswkbd8SDnwyA4vN2hAzKoBbavXMc29GN30pzVGSihSkqk+DSUBSYFYhVUAm\nAbuUav4x+knaDH6AloGtfuZM/hj4+jZn6tRk1q5dicmkpUOHEm6/fVrD5zabjY8//o6CgseQWiLr\nEPlkrP3nO5CiUdORBcpURNOub6pQizhCnJGouy2SXl+I3JHvgOYE++iJDj7D3rNmDKYZF52hG/L8\n4kS9b/x0zmTyylaz9YUwbDYbCsX1lYyjsliaLAm71tWRX1JC6+bNOXT4MJWffcZIvZ6jLi5snz6d\nkB49OHbwIBf0emqAPI2GbufOkb9jBxOKigDJMb20ia1LXR11FouDtP8gOO7qnwSurp64urYl5CIr\nod/WL5lss7KSRqczQJrFzHP6Usk1tJh4U6Ek1WblAqL4Kmjs6KgD/uWkxTji7/Sd9sZVu56LMXTo\nQAYPtmK1mlFf4owpLMzkwIEuiNvYHUmqKUJak6kQIg9DomWQiHwdEiWrkUXImSiVqdhsCmy2aYjx\nrb4DTmfgW0yWctb9oyOrD+dzz8eHqK6LA2pRq37EbMlCIvUC4AlqTC6cyKpjfE+ui8YKl6L9gAEs\n3bSJSWYztUj6kduuXdChA8cXLOBBe02THjU1fPH99wQFBHDQyYl7FApibDYwGNgxfz7p1qbNKTwQ\nd3tPZBor7NoVV2dnHPhj4CDvPzFcq6sAEQZ+ADRqDTqfYGqLs5rUwHOjsSLcHBpTnUH8GtUDZxB9\n11tX4Yx/GUqlEqXyckujkKMVWXjsa383ALXaRIsWSgyGNyktDaQpz7QAzhAbu5tBg/qQn7+JiIhm\nfPmllqoqK5fXB/clT/cin295mxkDwtBq9lFdVwhYMVtepZXf05zXjcJivQcAN+ez9Ii8fkmrVcuW\n7HR3Z215OQrkmWSTnbCtJSVNxnobDIzJzERH/VKtoEdZGceQ3NNoRDLJdHen1N2dwyEhRHTqxJ3D\nhl2Ny7lp4SDvPzFyOgxGl30KX2wMUaqZN/ZZLO4+tPnmEXQIMZ8HTnn6Y6q4gAZorlBwxGajXmE+\nC2jaDvylQ1xzBAaG06/fQnbubPpVDghw4803x6FQKNi7dw8LF25Cp4tC6i52QSLwCgYMkAbBhYXp\nVFX1BZYgdb/r64NnImTujKFWQUlVFZU1/e37EAztHMXtXVN4/8fz1FmcmNirmPhukX/4tf9eKBQK\nnKKjGXnoEGqgWKFAER3N6eRkKi0We58hIWZ3JO/UCZFF6nsb7bD/vB2pLJOmUvHUV1856nNfRTjI\n+0+M6Onv8IVfKM75KdSFdyFmyEzKCtMpWz2XJeUFBAD5bj50+OdG3j60EtfKIgpq9IzZ+wMrsKEC\n9oZ2pGefyx0I1wsUCgWzZt1FUNAiNmxYTGXlCFxdkxkxwqtBsujX7xY6dy7j3Xe/JDHx78izRh0h\nIY1JKV5eAfj5pVBSEo9IKfMQd0k50JIWLVbifctMWnrvoEfETvaf6wwocNUkMrCdhfjuYcQ3uBe9\nrt4N+A0cPnKEAnvzgyETJ+Jlr+o3YfZsVn//PZryctQREdweH8+6tWtpj9QryUQI2hchaSckf/Q0\nIg61t4+5C5nulEqlg7ivMhQ226WlKv8YLFt2WU1MB/5HmM0mMj67n7D0Q1R6+GGZ9gZBbW751W0O\nfXgnUQmL0disZLr5oH1oPhE9xjR8brVaObvqDZqdP0WVdxAtp76Oi8t/Z3ErzjpB9eZPUNjAedhD\nBLTu8tsbXQFUVJSSnHyali3DCA6+fFFVr69g/vyNlJa6ERxsZMaMMWg0Lg2fJyTsZ8WKXAoLKzCb\n729438fn37z66kj8/ZszkWXk6yp5YWkp+hpXbutk5N6BV28B97/BkaNHUX/8MZ0NBqzAd23bcuf/\n/d8vkuyx06dxfftt9DU1nENMlM/SGOEtRlKg1iIy2zr7/1bgabWaJz/8kCA/vz/4qm5CTJz4swsn\nDvK+gZG68B88sfatBv36i9COeL91/BeL/uxd9Czj17xBf+QP7lsg7/YniLn7HQDys05Q8PpIWlaV\nUu4bjMes+TRvP+C/OqfykvN4vDKYKYVpACwNbE3581vwCWz9G1teP3jhhVUkJ49reB0RsZo33pCV\ngIksu1an1QRZubkc+uEHXPR66qKjGT9t2mWLo2u/+orRW7Y0vD4FpD/wAOOGDOGX8NPGjRh37eKs\nXk90UVFDHipIGpIX8t1JQ7p3NrN/tgao7duXSY9cPRvpTYNfIO/rs9CCA/8RPEvPN1l4bF2aQ01N\n1c+OPX9gOS3txA3yi+8HVOmkxonFYkb36lBeKy/gbxYTA4uzKJ/3dwB0xdkk71tKWWnub55T/sFV\nTCpMQ4cY7SZeyKDw0Krfe4nXBAMG+ODmdgoAV9ckBgy4vrqb22w2Ej79lEmHDzP67FkGr1nDhjVr\nLhtX7ezcUKQWZFGx5TffsHnDBgw1NWQXF2O2WJpsM2zECMbOncuYxx+nVKWivs21DSkQcALx8lyg\nMUd1NZID4GJf9HTg6sChed/AqAzthC5hCb72h5rEkDYEa3++boTTrgW0QLIv63/puUClSRJxLhSk\nMqWyhPoH6j7AjvwUdvw9iiFF6UzBxnYnFzIe/p7QnuMu23891L4hfI6CDtgwAOUocGrW8hfHX48Y\nNGgAwcGnOXduLRERobRr98uR6rVAmcFAWH5+w2tvwHL+/GXjCoqKeAvJJS1B+gP902Tiw82bMf34\nI6FlZewND2fAI48QEhjYZNu2rVuTOn48X6xZQzOTiTSFgpk2G/VVyE3A056e9K+spCfgrFBgs6fZ\nO3B14CDvGxiRY//BZ7UGAs7tp9LdB4+pb/yir9is0TKCxlYFRUgaSk975O3q7kOu2pk25loOIotS\nKquZ6KI06itXjKur4Z0Fj8GvkLetOIsZ2BoqhSSoVJSEdboSl3tVERvbgdjYDpe9v4yJ11w68XZ1\nJc/PD+yEXQ1YAwKajNFVVuJ38iTTkCi5HHkS+gxQFRTQD3n66pSWxrIlS5j48MOXHWfY6NEksGMS\ncwAAIABJREFUbdvGVJ2OKpuN09BA3pkuLtzxwANcSE7maFkZqlatGB1/bWvC32xwkPcNDIVCQfSU\nOUBjCsovwXnMP1hydg+h5QX4ImkrzYCPXb1wA7y9gzgy/lmyV7xKF0sdY5EEnaWX7EdTIT0HS4qy\nyF77Dlp3b8JGPY6bh9QNd6oqbVIaKspiZm9JNoTE4MCVgVKppMP997PUrnnro6KYdElNkiMnTnBH\nbS1KpFFbc+SpawhSlusUkr6ko2np10NHjpC7dSt5mZmY9XqC6+o4DAxAZJfPtFpCWrdG26sXQ+Pi\nIC4OB64NHOR9kyCgdVf0757m5JbPqdoxnx6lOaxpHoVt4ksNYyLveIG0Cxl02/UtIPVMQpBK1uH2\n/0+6elF95Edc35vAG2bpT/j2/uUEvXEIrasnrt1uZ8eOeQyslLTpFeFdCI7piwNXFm1jY2n78su/\n+HlIcDBpzs60t/eQLEMaI2iRIgFtkck7C9jgI+WC07KzMX/5JePLRek+YB+Tg0TvnYDEbt0Y/TNR\nugNXHw7yvong7tGMuPHPYR79FIfLC/HyCsTDqXHJM+fQalzObGcVkpaiRZLDU5BITQsEjnqU0u8e\n52lzbUN9jMcLUnh97/e0GfZXgmL7cnL2d5xKWEytWkNtRA9UL9yCylhORkxfImbNQ61urEootT+u\nvxTyGx3tIiNZP3YsmVu2YK2qQl9XR31FGANC5GDv9BkmvT7Pnj5NfHl5wz56IbbAToiXu9LTk8cf\nfPBqXYIDvwEHed+EUKs1+PmFNnmvrDSX6H//jdvLRANPB1a6+rApKIK7M4/hbbOxuPtoOsU/yakt\nn1ODkDlILqLSpdGREdJpGHQahslUg/XJ9kwvlM4pNUWZvBvQmujJL2M2m0j/5F5an9uH3s0H45Q5\nhHQdxY2AZYhEcaW07/SsLA7Pn49rWRkVLVow+m9/a0im+V9w+4QJmMaMIb+4mH3/+hcFmZmkIY06\n6nshLfHxoXusFBQODg0l1dmZKHu0noa0d96s0eDTrh1jpk931Cq5juAgbwcAKE47xOSyRgdDJZDd\nqgtt7/2A7UBJ+mF8zu0na/4jmLuMZN7mT5iAEPd7Aa3o13fKZfusqiqha2lew2sXwE0ndsOMZS/z\nVML3YnUszmLBt49h7jj0ssJTNwMOz5/PlLNS/9taWMiyb79l8kMP/ezYkrIytn//PS5VVSiio7l9\n3LhffXLRqNWEN29O4Jw5vP3WW4ScOoUb8CHy+7ilrIzk999H9eijdOvYkU979mTXnj0obTZ0QBDg\nMWYMU3+mzrcD1xYO8r5JYbVamyTzBET1ZI9PMLeX5bMJeZz+KHE7W14dRsLYf9B3zVsML8vHBnzS\nqgtFd7/LK7sW0O1CBndUlbLzuV44teqKws2HkHHP4urmhbd3EAfDOtI27RAZgEKpxhTVCwB3XV4T\nj3qkLp8zVaX4+DS/infh+oBraWnDz0pAW1b2i2N//PBD7k5MRAGUHD/OJrWaEaNH/+L4eugNBoLS\n07kPmXDXQIOM0iYvj5Xr1pHXsSO9Dx2ii81GCdK5czKwrrLy916aA38gHEk6NxmqygrJenUYiofC\nKHq2F0VphwHw9g3h3P2f8nnb/uQ7udAOKQ07rLwAp6UvMtwelSuAqZnHUfu3op+xnL/UVDGgupIX\nMo4Ss+0rnln7FhfeGo3ZXIdKpUYf/zQ/uHjgASS5uKH29Cfn6DpyKos4r2xM0z4c2gEvr4DLzvdm\nQGWLFg3px9VAXcuf98Uba2sJOX++Ya3Bz2ajLi2t4fMN69ax5o03+PqddziXk9Nk231btzLTYECB\nRGyXVl9RWSyU7d9PF7vzxA+RxUoATch/V4/8amVt3+xwRN43GUq+e4KnTm0RAtDl8vGCx+GVPQC0\n7DEGeoyh+tE2kJ/csI2PsYJqGjXuLCctKjcfQqp0DWOUyCKnEhh3dg/rc5NoEd4Jt90LmGnP+mxl\nrOCF+Q8zVa+jTa2BBUo1xcEx2Fp3w3PyHJTKG6uw0ZXyfI966CGWfvst2vJyTKGhjL3zzp8dp9Vo\nKPX2xt6jDQtgsjtFtv70E+0WLWK71Uo74OyRI6RMnEj8BElwtymV2JDJ1xmpu12N/L5qtVqibr2V\n89u3NzlemZMTO4YP547bbvuPrsNkNrPkk0/wSkmh1s2N8EmT6NGjx397Oxz4D+Eg75sM3hVFTbqo\n+JQXApB7aiuGtEO4RnSn9ta7ObdyDtGmanZoXOlsMrIEsZdVAFt7TaBbu/7sj+rJLae3okQWwXzs\n+8zTumM21ZD1+f1o0w42OX7LqhLamKoBuNtq5hutJ24PL/pjL/o6h4+nJ5Nnz/7NcQqFgth77mHp\n99+jqaigJDycadNE/DCmpnLSamUqomVbrFYOr1pFZt++tAoKYvCIEXx37BhTUlNJACYolXSyFzlf\n6+JCWKtWuI8Zw/rsbPoWFpLs7k7otGkM/JU6KJdiw/LlTEpIEDmspIRVCxbQsXNnnJ3+uJ6nNzNU\nL7300lU5UFISV+dADvwqcnIS6ZIif2AWYEO7gVQYdAz9YiaTTmzE/fBq0rqMJHXYX9kW3omkmH4o\nzu7Gy2alFDjm7kfUcxvRaLS4dB/DprpqjgZGstNmo6dBx2lXT/aOeBSfDe/zyPENlNYaUCPErkPB\nQa8A+lQ31l85GNAK7aD7rs3NuAJoR9JVPV5QYCAVWi0VyckEFRSwPzWV6B49SM3KwpqcTCTwPZJQ\nU2CxkOvpSYe2bXF2ciK6Xz92N29OslLJ6NzGOjXNa2o4FR1N944d8evXjzMxMbQcP57OHTv+V+d2\nbvdu2mVlNbw2mM2oBw3CQ6v95Y0c+G20a/ezhn5H5H2TIXLa63yk1uB7/hRlPsG0mP42ta+PoFO1\nLEpF1+hZuewltC5uFNfoaWmuI9JSR32h2aN11ezOPI5b+4G4unkROeNfZO5aQKCnH4v7TqPVoPtw\nLc5k1IpXABgB7Aa+CeuMy8B7cfYL5aNPZxBirCBDo0UXNx7vixZP85J2oT93ALfIHrRoP+jq36A/\nGL/la88vLmb/ihU41dUR1KsXcZfIDjUmE8U//MCEoiIsAEePsmbJEuKnTePD1FQ+P3OG2TT+YS/b\ntQvz2LGoVSpcnZ25bcAAnBUKCg4fprk98j7t4UFru9fb18ODW3+n1OEeHU3O3r20NEs5rOTQULp4\n/1burwO/Fw7yvsmgVKqIsqfU15fzNF60br0e6KsvxV1fSgXSnrffRdt3qzWwMe0gtJfuOmkrX2fa\n8pcJM5vIV6r5ps6I39BZnHP3JVQvmnh3YGNsX1zLC8k7t49760y0Byymaj5c+CQ5h1bh88Ry0nd+\nQ+cVcxhXayBJ68mmaW/Q+raft8xdL/hPPd9nkpJI/O47XCsqKAsLY9zs2Xi4Nu0oX20ysfudd5iS\nmQnAgUOH2D17NkEhITT39cVDq6XcaMSg07EMaSlRCriUl6NRq3nyhReY/8orqM+cadhnUEUFi779\nFm+Vig4DB9I6NJQB/fuzIjcXpyNHMDs54TdiBKFBQf/zvRg0ZAibamo4nphIjVbLoClTUP1CeWIH\n/nc4yPsmh64glRTfYLZpPRlYXUm5WoPabCICIQcNcAwp+QlwSuuBa0RjZBZwbANhZhMAwVYzwcc3\n4TZ5DscmvULRurfxqjWyr2VH+h1cyajyAlYiXVhA2gN3t9lol7KXuW+MZGTWSUJtFhYB46orabZ7\nAVzn5P1LsNlsLJ03D+2JE9RpNJTV1HB/sdSFsZaUsHzhQiY98ECTbc5mZNDPTtwA/rW1bHjvPfyt\nVnb7+xMwYwZdunRBr1RSv6UF+MieFZmakYEOyFYoCLPZpIyrzcYTmzahBDYePozqn/+kxmjEkpaG\nk1pNbUQEfW699Ypd9/Dbb4fbb79i+3Pgl+Eg75sYF9KPEPz+JB4syuQQ8LeYfniHdsBzy2e0BBYB\ndwN7gIUKJZWBEVSNfATvgFYkbvkC39bdUDs31TP1KjVFH9+NV1Up6f1nEBb/JL4Ln2RU4jZAyMZK\no0e1BOlYP/j8aQbYpLZ0OFIj2saNmzb/0+bNDNu8GR+kINTai6QSJeBSUXHZNoH+/qRqNLQwyWR4\nGJhtlzbaFBezfMUK2nToQCuNBuxjVEBrT0/Ss7PJevddniguZiOw1s0Nc1gYg5KSWIzU3jYUFbHz\np59wSkpiZHY2XkBNdjbrvbwYO+XyJCsHrm84yPsmhmnLF4wvkkgvDqjMOU32U6s4WF6Ix7EfGW4x\n8ZFag75VVzQjHyGs7xRMJ38i+KX+3F+ayzGtJytumc6SwnT6Fmdy0C+U/BoDr+3+zp5EspG52adw\nzTnTYFMbBrynVNMNGxVWC/5AklpDwEVNAZTAeaWa3IJUPB4MxtRrEp1mvN9EK64ozeXC9nnYnJwJ\nHzEbZ+emEsTVhNFQwdrt61CoVAwdMgQXjYbaoqIG940aKLFHwgqkSJSi9eWdhUKaNWNFXBzle/fi\naR93MTTV1bi7uJAfFobNnqhTqFTiHB1N4r59jLZH9iOAIoOBn7p141hSEvfbjwvw3P79xFZUcBLp\nQTkWUF64cGVviANXBQ7yvolhvWThrE6hRKVS0/OplWTln+Ng0k6aRfUiKqzRdaDe9DHx9o46Paor\nSTy7k4w753Js17eoPf1od2R9YxIJNroeXsNQrCwCbgOyNVpqRz1O8tAHKP7xAzyNZdTG9seS8D0d\nTv2EGtig0VJrquUdfSk2YP7GD0jyC6Vd/OOAELfitdt4NjcJC/DOiU2EPrcJJ6erX3fDaCinYs5Q\npmccwQJ8d/gwdz77LEFt25K8dSux9qQX18BAFkVH42kwQGQk8ePH/+z+Hpw1iwWlpdx69ixGGis6\nVgH6du0AiH/sMZYtWoSLXo9TbCwtwsP55rPPsAAewGCgWK2mW/v27PP2RmGXVaxAa72e6fYkmlsR\nZ4pHixZ/zM1x4A+Fg7xvYriNfISFSbuYVnCOHJUTR/vfQ4ybuAOaBUfTLPjyzigqa9O2WTZjJf3+\n/RC3VAnRvqfRUoskgpgBDVb8gfHAXLUzzQIjCTm5iXwnDW3uebdhP6a+k3hxwZM4H1iBrbKIF+05\nhwpgCvD8sfWU951C8aaPqEzazV9zkxqyBR9M2slnxzYQ9StNIhrO12YjffVc/E9vQ6/1xHnii/iF\n//5mEee3fslzGUdQIk8MkxMT2X3gAMF+fuzy9eVQWRk5Xl5MePhhWoWFoVGrf9Vt4uzkxPTnnmPL\n1q3YLBbOOjlxOjcXpb8/t/TowTvPPYe6tJTakBCeePZZEpOS2PH66/zTZMIPabDxqVKJS9+++O3a\nRZG7O+byctRIWvzFOawKoKx5c6aO++375sD1Bwd538Twa9mOyhd3MOfwalz8wojp9ttV/Qz972Zf\n6kH66EvJUjuT7BvCvakHACGD8aZqXg6OxU1fSr7KmTfLJEqvArpbzYzOOQ3A+fOnWRwYQatbJJtQ\no9HiV17IY5UXWI/o4PVlS4sBy/nTGP8Wxj8tZhRIbY4aIBaoQoFa6/EfXXPG1i+4e8kLhFjFzvZF\ncSbm1w82FMTKT9qFbfdCTGon3EY8gqG8AHe/UPx/oYGyTalqouGbkQj37Fdf8aC9VVl5dTUffPIJ\nPfV6qtzdCZ08mZ69ev3iOebm52PJycFms9F2+HAihw/HZrPx+uzZTCoqIgrQ63S88/zztAkLI9xO\n3CCFpNwCA2mWkkJ8YSFDgVeUSloqFBS7ueERGIglNRUVcF6tJnbkyF9sWO3A9Q0Hed/k8PQNpu1/\n4egI6zOZw74t2JG0E6eQNnjkJlKbeqChyNQJFw/81RrurCwmS+PKywGtGVBdwUEnZx7WNVYtDDWb\n4PzpJvt2t3vNbwO+QyyK1cAiZ1duryqhD43a7RjgfWAncN7ZjTD/cACsVgupmz5GXVmCR9xYAlp3\na3IMl4xjDcQN0DM3kQRdPrWZx9AsfRHfvGQsVjMWoGzLl9xls5Dp4sGe8c8SMfaZy+5H62GzeO/w\nGh5O3kMdsKJbNwbFxKC7SEf2Bjrl5UkZ1ooKVi5aRF337jipL//zyy8uJvXddxlr337l8ePsDg1F\no1TSvLiYqPp7BYTn5lIXEcGllUSqLBZmFEkzDFfgeauVbcDMykoWhIezasQINJWVuLVty5ChQy87\nBwduDDjI24H/GsGxfSFWuuOkG8r53N0Xb0M5JS7ulIR24PWUBBRAgMlIqbGcrLeOE6JUs+OZbky0\np+OnaVxQtu7aZL9FbftTmLiDIKuFScBz3eOJmDaXDu9Nwis3kVLEvggSdUchi3Nza/U4Pd+btJi+\n1CiVPH1oFW7Aph3zSHnkB4LbNlrhDAGt0NPY+fyMXxgKwOXz+wkwlGFDshNDgPtsFhRAcE0VRT/+\nC/3w2bi4uJF/ejvKH9+nLjeJCldPlBFxvN5vGre6nuXu3r2x2mzsCwiga56Uwy2FJl3cg6qqqDAa\n8fO8vFn0kYMHib+I+MeVlbG+rIyRwHuXjDVoNAyJj+ebhARWGAx0AA55eKCNi0O/fn3DNZbQWIjK\nR68n/t57f/4X68ANBQd5O/C7UZh2mFsXPk0fezLOIYWSnzz8mtZOMVWTabNS/MVMmpcXMg8FRu8g\nKkc9SlTvSU32FzX+Ob5x9UabcZQq/zCa1RjQznuY1Fo9AxDLYnskmtwNTEesch2A0VUlFB5ZQ7JK\n3UDww8vyObv7O7iIvJVOWr5WOdHKUkehWkP+kAdRZB2nm6GMeKT120D7/xdfh7epGp2pmhpDGWGf\n38fY4mxAOgxtzTpBXkBrrKMHoVIqUSsUFHt7szQvDy2iNacg/SJ9kMzD3h4elJSXc+LMGUJbtiTa\nnuHo7e9PkVJJoN0iWIgQb/11fqpScZvFwhknJ1rdeSfb/v1vHjcYOAZscXKi08yZ9I6L47vSUnoc\nOoTBaiXFZuMupOO73n4cB258OMjbgd+NspQE2upL2Y40uI0zlrPEN5jNPs25rayAGmBL5+GwbxlP\nH99gl1ZspFSV8GObWy7bn0KhoPmt0ylISaDZxo/QGnSMBPyB15q1xDcyjm88/CH9CG9mHsEJSAXq\n41cXQH+JN7zuouYONpuN5ls+4x5LnYwym/gg9QCV4Z2p7xPvB+QBLZDKez0R6WZPx6HEejQjZc9C\nptuJG0SPHwa0L8qg5OsMnks1M2fWcFpVVzMaKAB2ABOB3UolBxQK4nJyeH/uXKLy8xl04QLntFo2\nT5zIbbffzi1xcSwdNoyAPXswWywkm0xMtFqpBHIUCjx9fNjerBlx06fj5+eH17x5eAD9gf51daw7\neRJVr17c8+ijpBcUSDu7LVtYV1iIKSiI8dOm4cCfAw7yduB3IffMDkpT9vMF8DfEM/yFWkOLPlNI\nHTCDE4dWUefuS+TIR8la+VqTxguBljpqygp/dr8F82bz9L7FDQuA3yNNA6Krq7A+upjeKjWGKh3v\nLHkeCtJIyzrOhKoSzEA5sLxZC2pL8xhsMbE4vDM+Y55uPOcDK3ArzmI9Uh1xCuBkqSM0Mo5dviGE\n6/KIBr5FJqNKYCNQ1n4wnR/8mqyze1D6hHDEzYd+BnFhlyDWPBDi77zrGxYWHwI/P2wZGSRwUdMD\nq5UqoKfBwIXjx4m3v9+luppVmzdjGzUKhULB5Pvuo3zyZIp0OpLmziW1uJidwDM2G04lJVBSwg/f\nf8+op58mUattSNixAiZ7mzKFQkFkcDAAUffc8x//Xh24cfA/kXdMTMw44I6UlJSfL0DswJ8Smdv/\nzdAFT9DFWEEqsBfpiZjopMU9Mg6NxgUi4xrG+/SdwtLd3zGpKEN821G9CO388zWi/YoymnQIqddt\nczUutFSpsVqtFCTvoSKkLeFn9/J1VQnVwJOuXvS02fi6KJPTGi2v9plOp5mf4mLvrVlTY6D5wqeY\nak/lrwY+c3KhIDIOl+3/xjL+Bd5c+yZtijIoBG5HdPUJwHv6Mswv9eeu86c46+7Lus7DSc48DoVp\nGK0Xq9nyBzU9KYnvBg1icd++FB0+jN5kwg2RYTyAk4DvJdftZLFgtdlQ2W2E3m5ubPnmGx4uLm5I\n7Lm4sKp7UREeWi220aPZuWoVQQYDB2NiGGOv3+3Anx+/m7xjYmL+hTwxnrhyp+PAjQCf3d/RxSjp\n3VFAov19D7Ua3SVkBtAsJJbip9fw1s5vMKudCI5/6mczIs3mOtKKshqsdzakTrgOKB38AC1sNlI+\nuou/JixmFzbuQAjRFehkrGCqfT9dTNWcTknA2dmNgrN7MO1bQqGhnOEXyR1aoLB5NGPXvUucoYyD\n7r4s7zuV9tu/pq6utqFoF0BNeT5P2Bdag/U6ctMO4vJBKhfO7sLnnQmsNJTRG9G1A+3n7mO10iY+\nnvUnTpBgMlGCFOg6AzwPHACO2N8rUSgw9OhxWREnZ6OxQQQyQYN/HkAfFIRCoeC2+HiK+/dHV1nJ\ntKCgn3WwOPDnxP/ym04AVgEPXqFzceAGgUXRtOONFZEsjnYfTZuLushfDP/Q9vjf/Q660lxKCs/h\n5NxZIvSLkLZvMY+W5bEEcZVUAYVuPui8AmiVfoid74yj7+E1HAQyLtqu1H78JtCXUpiyj+h372B4\nZRFW4G0UnEQmnBKFgjp9GXF2+aOnXsep7FMsHv9/KHfMY7Euj17mWvYFReHsGwLljTKPu6kak9VM\n83YDOdpnMsFbv+R1m5VnEJfKQbUTXh07cnzRIh4zGBq2+wAItf/cCyHyt4OC6DpuHJMGDODwiRMU\nnj9PdLt2xERE4NK+PTnHj+NqNtMRmOvvTxdvb4xeXtx6992N99bTE3+7cyUxOZnk1atxMplw7t6d\n20aO/NnfhwM3Pn6TvGNiYu4DHoOG0gw24N6UlJRlMTEx/f/g83PgOoThtllsy01kYMUF9mk92d+2\nP2e7jiJm8Mxf3S59zVv0WvUarYyVrI6Iw/3p1Xhe1HDYZq7DGxoiaCtS9+S1/BQq8lNohrgubEim\n4PPAK8BmoA5xoNyKLDjuMdcRfWgVwyvF76wEJmPjK/u+3W02/AyNbdzkBGxETXgOJjyHwVDOisI0\n/JpHw4lNHMk6QXdjOVVAYsdhtFFrJInmzDbutlmZh0TTGqCZuY6CM2dwuqSRsKe7O1Xt2lF28CA+\ngNrFhW5jxjBo4EDee+MNgk+cwMlm47irK2WzZjFsxAjeP3GCtidP4m61oqqoQNeqFZMffhitRsOl\nKDcYyPj0UyYUykSTce4cCd7e9O3T51d/Lw7cmPhN8k5JSZkHzLsK5+LADYLQXneQ0qIte5N20Syq\nN3GtOv/mNjU1emJ+fJ8BRknEeTj9EG+ufA3Pv3zcMCai3zQ+2L2AJ5J2oQTmqjVMrhDPcyZiuRuN\nJL3YgFeUap4IbE1EwTm8gCJgHeI+GWcykmCqxkzjlzwfeUwMRRYsv7DUkaD1pG91Jf/f3p1HR1nd\nYRz/ThImITtLEoKkLIm9LIqA0eIu5VSDcUMJFrT2IOixx5ZDa7Gl1qWeI1arVK12QbHagq1J41Zb\nAVGrggdDFcUoXEllcWFJYjRglskk0z/eyZBAQkIYmHnD8/mHmck7dy4DeebOfe/7u+uS+lEz6Rpa\ntw5ISkonKTcfgKGnT2d1Yhqvlr+Mr182ZspcAHZ9tJbGmp08g/MtIQFnXnorsGvTJnw1NaErRfcC\nNjaW/CFDKO3fn8y4OAaNGsW38/NZW1bGBevXMzL42ivr6rArVpCelcXk8nLGBpcNTvD5eKmsjH8t\nW8a0DtZqb966lZN37vuGMMLno7yiAhTevZImyKRHMoaMJmPI6G4f39hYxzca900heIC+voZ2x3i9\nCQz5xYv89OaJTNq2gX5+H58CY3GKM62FULh6gD6eGMY2NdAS5+U9v4/ftWkrALyZOZzbB49kxueb\nqMKZP2+NsTSgJSGZF86YyftlTxMTn0hL/YFlWuvqavF6Ezhu3PnQ5iRr1ScfMPT+7zK+YQ9vBV8v\nDSgM3r6jqooZPh9LgJzgY7d+9RWrSks5rW9fdl19NafmOx8OuysqaHux/CnA4q+/pqq6mtFNTaHH\nW4vvemv2rzfoGJaTw4b0dAYHC1FVxcSQmJ3d4bHifipqIEdFamoGr58wmcbg/ddTBtIy8cCVEV5v\nX07qk8AlOPPH/YB/4EyJfBgbR2tZrDLg8uYmrqnazhy/j+ti4ni2TTvl3kT65+Zz4qJynrjiV7x8\nWhFNKQNDP68EPh99LjNee5zraz7njJ0VZCydz9sPzKC+rha/vwl73zSyfjgc5uaxZflDtFW97jnO\nq97OGmAaMA9nRF+G88EyxOulFpiK823hEpwTq5uBDfX17Hj11VBbaTk5bG9TrOq/Hg9jCwoYP2YM\ny4cPD13+/hrOCdG4vLwO3+OM1FSSZs2iNDeX53Ny+E9hIZMPYQNhcRdPILB/ZYQjo6TkgBIMcozx\n+33877l7iN/7BfEnX0R2cCu1/VU8eBU/W72MUghuMua4b9RZ+FIzGbplPe+1+Lm7anvoZwHghrHn\nkb+zgpi4PuycfC25F93Yrt3dm8toKbmdpPpadow6G39yf25bOp+NOFMu5+DMs9876mwaT5jMTSW3\nhVZ3rEwewLZFH5CengXAR68s4dw/ziEbaFuy6nmc0fcdEwr55iflNFdu43s4gf4GzlrwkcC9qanM\nf/TR0POeLS6mYfVq9jY3M6CggKkXOavAd1VX81JxMbs3bSIxOZnjJkzgwssuO2hlQullioo6/MdW\neEvUaajfw2eP/YiYre8SX7WdfL+PDzJH4Lv2D2QFa6rs3rKe0XddwKTgKpCX+g1m8y9XkpEzJtTO\njk8/pNnXwOBh4zqsnLfr43cYt7CAmtrK0AUz4Kxk+cvpV3D7m0+FHqsAnr/7HXKGjwecqzXffmAm\n57z5d1rXc9QBC2PiSDzrSnJmP0x9zQ4S31hAdUUFvo0bOb+xkdbK6E8OGsTMBx8MzxtDFxZvAAAF\nQklEQVQmvVsn4a05b4k6CX1TyL3hccCpEvhhbSWpKQOJjd333zVz+HjWX7eYjasW0+Lx4DvvenKC\nwR0IBLCLr+fi1/5Mkt/PUydfyIgbS4mL69PudbJGTOCt2Q/zxbKfM2X3x6Ffhh3xSXhOKqDs3RWc\nWvclAeDF3FMY1GaO3+PxkD/vb6zLO4VtxbeR4avn3cR0Bs5dynHjCpy/R3YeRdOd+i1PLlrEiWud\n0rkBgA520hE5FBp5S6+zZcMqpi8sYFhw44gG4Dff/y0jC+d1eHxjYx2f3HMJl5a/QmV8EmsK55F3\nxR1sW1uKd91z1HsTGDDtVtIGdLzjTCAQoLnZf8CHA+zbVf7LPXt4cckSkisr2ZuZSeHs2aQmd7wm\nXqQdjbzlWOGrrSSjzY4/CUBs/Z5Oj4+PT2TEzctZ+dkmEpL6kdffqQkydOLl0MFJ1f15PJ4Og7ut\n9JQUZszr+MNDpCe02kR6naH5F/NI7qmhr3rLso9n4JkHr6YXExPL4Jwx9A8Gd7iUtDvlKhI+GnlL\nr5OQkETagn9z1wv3EdvcRNrkOQwYlBvpbomElcJbeqXk1AEcP3NhpLshcsRo2kRExIUU3iJHWAlF\nmvuWsFN4i4i4kMJbRMSFFN4iIi6k8BYRcSGFt8hRopOWEk4KbxERF1J4i4i4kMJbRMSFFN4iR5Eu\n2JFwUXiLiLiQwltExIUU3iIiLqTwFhFxIYW3SATopKUcLoW3iIgLKbxFRFxI4S0i4kIKbxERF1J4\ni0SIrraUw6HwFhFxIYW3iIgLKbxFRFxI4S0SYZr3lp5QeIuIuJDCW0TEhRTeIiIupPAWiQJa8y2H\nSuEtIuJCCm8RERdSeIuIuJDCW0TEhRTeIiIupPAWiSJacSLdpfAWEXEhhbeIiAspvEVEXCiuJ08y\nxqQCS4FUoA9wo7V2bTg7JnKsap33LqIkwj2RaNbTkfdPgFXW2nOBWcDDYeuRiIh0qUcjb2AR0Bi8\n3QeoD093RESkO7oMb2PMNcCPgQDgCf45y1r7tjFmEPBXYO4R7aWIiLTjCQQCPXqiMeZE4Emc+e6V\nXR1fUkLPXkjkGKZ5b6GoyNPRwz09YTkaKAamW2vfP5x+iYjIoevpnPdCIB54wBjjAb601k4NX7dE\nRORgehTe1tpLw90RERHpPl2kIxLFtMOOdEbhLSLiQgpvEREX6vFSQRERiRyNvEVEXEjhLSLiQgpv\nEREXUniLiLiQwltExIUU3iIiLtTT2iYRp918Dp0xZiowzVp7ZaT7Em2CNXp+D5wENABzrLUfR7ZX\n0c0Y8y3g19baSZHuS7QyxsQBjwHDAC9wp7X2n+Fo280jb+3mcwiMMfcDd+LUZJcDXQrEW2tPBxbg\nbDginTDGzAcewSlQJ527Cqiy1p4NTAEeClfDbg7vRcCfgre1m0/X1gA/iHQnotiZwHIAa+1bQH5k\nuxP1KgBVEu1aMXBL8HYM0BSuhl0xbaLdfLrvIO9ViTHmnIh2LrqlAl+1ue83xsRYa1si1aFoZq19\nxhgzNNL9iHbW2joAY0wKUALcHK62XRHe1trHcOaN2tlvN5/VR71jUaiz90q6VAuktLmv4JawMMbk\nAE8DD1lrnwpXu66dNmmzm8/M7mzDJtKFNcAFAMaYiYB2iOoenUM5CGNMFrACuMla+0Q423bFyLsT\n2s1HwukZ4DvGmDXB+7Mi2RkXUWW7g1sApAO3GGNuxXm/plhrGw+3YVUVFBFxIddOm4iIHMsU3iIi\nLqTwFhFxIYW3iIgLKbxFRFxI4S0i4kIKbxERF1J4i4i40P8BPIyBNUxY7hAAAAAASUVORK5CYII=\n",
      "text/plain": [
       "<matplotlib.figure.Figure at 0x1326fc050>"
      ]
     },
     "metadata": {},
     "output_type": "display_data"
    }
   ],
   "source": [
    "# It has a linear decision boundary, IE the shape is draws between classes are lines!\n",
    "\n",
    "from matplotlib.colors import ListedColormap\n",
    "import numpy as np\n",
    "\n",
    "h = .02  # step size in the mesh\n",
    "\n",
    "# Create color maps\n",
    "cmap_light = ListedColormap(['#FFAAAA', '#AAFFAA', '#AAAAFF'])\n",
    "cmap_bold = ListedColormap(['#FF0000', '#00FF00', '#0000FF'])\n",
    "\n",
    "# we create an instance of Neighbours Classifier and fit the data.\n",
    "logreg = LogisticRegression()\n",
    "logreg.fit(circles_X, circles_y)\n",
    "\n",
    "# Plot the decision boundary. For that, we will assign a color to each\n",
    "# point in the mesh [x_min, m_max]x[y_min, y_max].\n",
    "x_min, x_max = circles_X[:, 0].min() - 1, circles_X[:, 0].max() + 1\n",
    "y_min, y_max = circles_X[:, 1].min() - 1, circles_X[:, 1].max() + 1\n",
    "xx, yy = np.meshgrid(np.arange(x_min, x_max, h),\n",
    "                     np.arange(y_min, y_max, h))\n",
    "Z = logreg.predict(np.c_[xx.ravel(), yy.ravel()])\n",
    "\n",
    "# Put the result into a color plot\n",
    "Z = Z.reshape(xx.shape)\n",
    "plt.figure()\n",
    "plt.pcolormesh(xx, yy, Z, cmap=cmap_light)\n",
    "\n",
    "# Plot also the training points\n",
    "plt.scatter(circles_X[:, 0], circles_X[:, 1], c=circles_y, cmap=cmap_bold)\n",
    "plt.xlim(xx.min(), xx.max())\n",
    "plt.ylim(yy.min(), yy.max())\n",
    "plt.title(\"Circle classification Logistic Regression\")\n",
    "\n",
    "plt.show()"
   ]
  },
  {
   "cell_type": "code",
   "execution_count": 124,
   "metadata": {
    "collapsed": false
   },
   "outputs": [
    {
     "data": {
      "text/plain": [
       "0.48899999999999999"
      ]
     },
     "execution_count": 124,
     "metadata": {},
     "output_type": "execute_result"
    }
   ],
   "source": [
    "logreg = LogisticRegression()\n",
    "cross_val_score(logreg, circles_X, circles_y, cv=5, scoring='accuracy').mean()\n",
    "# lame"
   ]
  },
  {
   "cell_type": "code",
   "execution_count": 125,
   "metadata": {
    "collapsed": false
   },
   "outputs": [
    {
     "data": {
      "text/plain": [
       "1.0"
      ]
     },
     "execution_count": 125,
     "metadata": {},
     "output_type": "execute_result"
    }
   ],
   "source": [
    "from sklearn.neighbors import KNeighborsClassifier  # compare to knn\n",
    "knn = KNeighborsClassifier(n_neighbors=7)\n",
    "cross_val_score(knn, circles_X, circles_y, cv=5, scoring='accuracy').mean()\n",
    "# not as lame, remember?"
   ]
  },
  {
   "cell_type": "code",
   "execution_count": null,
   "metadata": {
    "collapsed": false
   },
   "outputs": [],
   "source": []
  },
  {
   "cell_type": "code",
   "execution_count": 126,
   "metadata": {
    "collapsed": false
   },
   "outputs": [
    {
     "data": {
      "text/plain": [
       "array([[  0.,   0.,   5., ...,   0.,   0.,   0.],\n",
       "       [  0.,   0.,   0., ...,  10.,   0.,   0.],\n",
       "       [  0.,   0.,   0., ...,  16.,   9.,   0.],\n",
       "       ..., \n",
       "       [  0.,   0.,   1., ...,   6.,   0.,   0.],\n",
       "       [  0.,   0.,   2., ...,  12.,   0.,   0.],\n",
       "       [  0.,   0.,  10., ...,  12.,   1.,   0.]])"
      ]
     },
     "execution_count": 126,
     "metadata": {},
     "output_type": "execute_result"
    }
   ],
   "source": [
    "from sklearn import datasets\n",
    "\n",
    "# new dataset, handwritten digits!\n",
    "digits = datasets.load_digits()\n",
    "digits.data"
   ]
  },
  {
   "cell_type": "code",
   "execution_count": 127,
   "metadata": {
    "collapsed": false
   },
   "outputs": [
    {
     "data": {
      "text/plain": [
       "9"
      ]
     },
     "execution_count": 127,
     "metadata": {},
     "output_type": "execute_result"
    },
    {
     "data": {
      "image/png": "iVBORw0KGgoAAAANSUhEUgAAAPoAAAD9CAYAAACV6WqFAAAABHNCSVQICAgIfAhkiAAAAAlwSFlz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\nkRtyXKgAAAAASUVORK5CYII=\n",
      "text/plain": [
       "<matplotlib.figure.Figure at 0x1339809d0>"
      ]
     },
     "metadata": {},
     "output_type": "display_data"
    }
   ],
   "source": [
    "plt.imshow(digits.images[-5], cmap=plt.cm.gray_r, interpolation='nearest')\n",
    "# the number 9\n",
    "\n",
    "\n",
    "digits.target[-5]"
   ]
  },
  {
   "cell_type": "code",
   "execution_count": 128,
   "metadata": {
    "collapsed": false
   },
   "outputs": [
    {
     "data": {
      "text/plain": [
       "(1797, 64)"
      ]
     },
     "execution_count": 128,
     "metadata": {},
     "output_type": "execute_result"
    }
   ],
   "source": [
    "digits.data.shape\n",
    "# 1,797 observations, 64 features (8 x 8 image)"
   ]
  },
  {
   "cell_type": "code",
   "execution_count": 129,
   "metadata": {
    "collapsed": true
   },
   "outputs": [],
   "source": [
    "digits_X, digits_y = digits.data, digits.target"
   ]
  },
  {
   "cell_type": "code",
   "execution_count": 130,
   "metadata": {
    "collapsed": false
   },
   "outputs": [
    {
     "data": {
      "text/plain": [
       "0.92101881133607011"
      ]
     },
     "execution_count": 130,
     "metadata": {},
     "output_type": "execute_result"
    }
   ],
   "source": [
    "logreg = LogisticRegression()\n",
    "cross_val_score(logreg, digits_X, digits_y, cv=5, scoring='accuracy').mean()"
   ]
  },
  {
   "cell_type": "code",
   "execution_count": null,
   "metadata": {
    "collapsed": false
   },
   "outputs": [],
   "source": []
  },
  {
   "cell_type": "code",
   "execution_count": 131,
   "metadata": {
    "collapsed": false
   },
   "outputs": [
    {
     "data": {
      "text/plain": [
       "0.9627899114966898"
      ]
     },
     "execution_count": 131,
     "metadata": {},
     "output_type": "execute_result"
    }
   ],
   "source": [
    "# compare to KNN\n",
    "knn = KNeighborsClassifier(n_neighbors=5)\n",
    "cross_val_score(knn, digits_X, digits_y, cv=5, scoring='accuracy').mean()"
   ]
  },
  {
   "cell_type": "code",
   "execution_count": 23,
   "metadata": {
    "collapsed": true
   },
   "outputs": [],
   "source": [
    "# Thought Exercise, why would KNN potentially be a better model than logsitci regression\n",
    "# for handwriting?"
   ]
  },
  {
   "cell_type": "code",
   "execution_count": null,
   "metadata": {
    "collapsed": true
   },
   "outputs": [],
   "source": []
  },
  {
   "cell_type": "code",
   "execution_count": 24,
   "metadata": {
    "collapsed": true
   },
   "outputs": [],
   "source": [
    "# OK so wait, when should we use Logistic Regression?"
   ]
  },
  {
   "cell_type": "code",
   "execution_count": null,
   "metadata": {
    "collapsed": false
   },
   "outputs": [],
   "source": []
  },
  {
   "cell_type": "code",
   "execution_count": null,
   "metadata": {
    "collapsed": false
   },
   "outputs": [],
   "source": []
  },
  {
   "cell_type": "code",
   "execution_count": null,
   "metadata": {
    "collapsed": true
   },
   "outputs": [],
   "source": []
  },
  {
   "cell_type": "code",
   "execution_count": null,
   "metadata": {
    "collapsed": false
   },
   "outputs": [],
   "source": []
  },
  {
   "cell_type": "code",
   "execution_count": null,
   "metadata": {
    "collapsed": false
   },
   "outputs": [],
   "source": []
  },
  {
   "cell_type": "code",
   "execution_count": null,
   "metadata": {
    "collapsed": true
   },
   "outputs": [],
   "source": []
  },
  {
   "cell_type": "code",
   "execution_count": null,
   "metadata": {
    "collapsed": false
   },
   "outputs": [],
   "source": []
  },
  {
   "cell_type": "code",
   "execution_count": null,
   "metadata": {
    "collapsed": false
   },
   "outputs": [],
   "source": []
  },
  {
   "cell_type": "code",
   "execution_count": null,
   "metadata": {
    "collapsed": false
   },
   "outputs": [],
   "source": []
  },
  {
   "cell_type": "code",
   "execution_count": 132,
   "metadata": {
    "collapsed": true
   },
   "outputs": [],
   "source": [
    "# Using dataset of a 1978 survey conducted to measure likliehood of women to perform extramarital affairs\n",
    "# http://statsmodels.sourceforge.net/stable/datasets/generated/fair.html\n",
    "\n",
    "import statsmodels.api as sm\n",
    "affairs_df = sm.datasets.fair.load_pandas().data"
   ]
  },
  {
   "cell_type": "code",
   "execution_count": 133,
   "metadata": {
    "collapsed": false
   },
   "outputs": [
    {
     "data": {
      "text/html": [
       "<div>\n",
       "<table border=\"1\" class=\"dataframe\">\n",
       "  <thead>\n",
       "    <tr style=\"text-align: right;\">\n",
       "      <th></th>\n",
       "      <th>rate_marriage</th>\n",
       "      <th>age</th>\n",
       "      <th>yrs_married</th>\n",
       "      <th>children</th>\n",
       "      <th>religious</th>\n",
       "      <th>educ</th>\n",
       "      <th>occupation</th>\n",
       "      <th>occupation_husb</th>\n",
       "      <th>affairs</th>\n",
       "    </tr>\n",
       "  </thead>\n",
       "  <tbody>\n",
       "    <tr>\n",
       "      <th>0</th>\n",
       "      <td>3.0</td>\n",
       "      <td>32.0</td>\n",
       "      <td>9.0</td>\n",
       "      <td>3.0</td>\n",
       "      <td>3.0</td>\n",
       "      <td>17.0</td>\n",
       "      <td>2.0</td>\n",
       "      <td>5.0</td>\n",
       "      <td>0.111111</td>\n",
       "    </tr>\n",
       "    <tr>\n",
       "      <th>1</th>\n",
       "      <td>3.0</td>\n",
       "      <td>27.0</td>\n",
       "      <td>13.0</td>\n",
       "      <td>3.0</td>\n",
       "      <td>1.0</td>\n",
       "      <td>14.0</td>\n",
       "      <td>3.0</td>\n",
       "      <td>4.0</td>\n",
       "      <td>3.230769</td>\n",
       "    </tr>\n",
       "    <tr>\n",
       "      <th>2</th>\n",
       "      <td>4.0</td>\n",
       "      <td>22.0</td>\n",
       "      <td>2.5</td>\n",
       "      <td>0.0</td>\n",
       "      <td>1.0</td>\n",
       "      <td>16.0</td>\n",
       "      <td>3.0</td>\n",
       "      <td>5.0</td>\n",
       "      <td>1.400000</td>\n",
       "    </tr>\n",
       "    <tr>\n",
       "      <th>3</th>\n",
       "      <td>4.0</td>\n",
       "      <td>37.0</td>\n",
       "      <td>16.5</td>\n",
       "      <td>4.0</td>\n",
       "      <td>3.0</td>\n",
       "      <td>16.0</td>\n",
       "      <td>5.0</td>\n",
       "      <td>5.0</td>\n",
       "      <td>0.727273</td>\n",
       "    </tr>\n",
       "    <tr>\n",
       "      <th>4</th>\n",
       "      <td>5.0</td>\n",
       "      <td>27.0</td>\n",
       "      <td>9.0</td>\n",
       "      <td>1.0</td>\n",
       "      <td>1.0</td>\n",
       "      <td>14.0</td>\n",
       "      <td>3.0</td>\n",
       "      <td>4.0</td>\n",
       "      <td>4.666666</td>\n",
       "    </tr>\n",
       "  </tbody>\n",
       "</table>\n",
       "</div>"
      ],
      "text/plain": [
       "   rate_marriage   age  yrs_married  children  religious  educ  occupation  \\\n",
       "0            3.0  32.0          9.0       3.0        3.0  17.0         2.0   \n",
       "1            3.0  27.0         13.0       3.0        1.0  14.0         3.0   \n",
       "2            4.0  22.0          2.5       0.0        1.0  16.0         3.0   \n",
       "3            4.0  37.0         16.5       4.0        3.0  16.0         5.0   \n",
       "4            5.0  27.0          9.0       1.0        1.0  14.0         3.0   \n",
       "\n",
       "   occupation_husb   affairs  \n",
       "0              5.0  0.111111  \n",
       "1              4.0  3.230769  \n",
       "2              5.0  1.400000  \n",
       "3              5.0  0.727273  \n",
       "4              4.0  4.666666  "
      ]
     },
     "execution_count": 133,
     "metadata": {},
     "output_type": "execute_result"
    }
   ],
   "source": [
    "affairs_df.head()"
   ]
  },
  {
   "cell_type": "code",
   "execution_count": 134,
   "metadata": {
    "collapsed": false
   },
   "outputs": [],
   "source": [
    "affairs_df['affair_binary'] = (affairs_df['affairs'] > 0)"
   ]
  },
  {
   "cell_type": "code",
   "execution_count": 144,
   "metadata": {
    "collapsed": false
   },
   "outputs": [
    {
     "data": {
      "text/plain": [
       "<matplotlib.axes._subplots.AxesSubplot at 0x134050a90>"
      ]
     },
     "execution_count": 144,
     "metadata": {},
     "output_type": "execute_result"
    },
    {
     "data": {
      "image/png": "iVBORw0KGgoAAAANSUhEUgAAAaQAAAFACAYAAADzmQihAAAABHNCSVQICAgIfAhkiAAAAAlwSFlz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\n",
      "text/plain": [
       "<matplotlib.figure.Figure at 0x133fa0ed0>"
      ]
     },
     "metadata": {},
     "output_type": "display_data"
    }
   ],
   "source": [
    "sns.heatmap(affairs_df.corr())"
   ]
  },
  {
   "cell_type": "code",
   "execution_count": 135,
   "metadata": {
    "collapsed": false
   },
   "outputs": [
    {
     "data": {
      "text/html": [
       "<div>\n",
       "<table border=\"1\" class=\"dataframe\">\n",
       "  <thead>\n",
       "    <tr style=\"text-align: right;\">\n",
       "      <th></th>\n",
       "      <th>rate_marriage</th>\n",
       "      <th>age</th>\n",
       "      <th>yrs_married</th>\n",
       "      <th>children</th>\n",
       "      <th>religious</th>\n",
       "      <th>educ</th>\n",
       "      <th>occupation</th>\n",
       "      <th>occupation_husb</th>\n",
       "      <th>affairs</th>\n",
       "      <th>affair_binary</th>\n",
       "    </tr>\n",
       "  </thead>\n",
       "  <tbody>\n",
       "    <tr>\n",
       "      <th>rate_marriage</th>\n",
       "      <td>1.000000</td>\n",
       "      <td>-0.111127</td>\n",
       "      <td>-0.128978</td>\n",
       "      <td>-0.129161</td>\n",
       "      <td>0.078794</td>\n",
       "      <td>0.079869</td>\n",
       "      <td>0.039528</td>\n",
       "      <td>0.027745</td>\n",
       "      <td>-0.178068</td>\n",
       "      <td>-0.331776</td>\n",
       "    </tr>\n",
       "    <tr>\n",
       "      <th>age</th>\n",
       "      <td>-0.111127</td>\n",
       "      <td>1.000000</td>\n",
       "      <td>0.894082</td>\n",
       "      <td>0.673902</td>\n",
       "      <td>0.136598</td>\n",
       "      <td>0.027960</td>\n",
       "      <td>0.106127</td>\n",
       "      <td>0.162567</td>\n",
       "      <td>-0.089964</td>\n",
       "      <td>0.146519</td>\n",
       "    </tr>\n",
       "    <tr>\n",
       "      <th>yrs_married</th>\n",
       "      <td>-0.128978</td>\n",
       "      <td>0.894082</td>\n",
       "      <td>1.000000</td>\n",
       "      <td>0.772806</td>\n",
       "      <td>0.132683</td>\n",
       "      <td>-0.109058</td>\n",
       "      <td>0.041782</td>\n",
       "      <td>0.128135</td>\n",
       "      <td>-0.087737</td>\n",
       "      <td>0.203109</td>\n",
       "    </tr>\n",
       "    <tr>\n",
       "      <th>children</th>\n",
       "      <td>-0.129161</td>\n",
       "      <td>0.673902</td>\n",
       "      <td>0.772806</td>\n",
       "      <td>1.000000</td>\n",
       "      <td>0.141845</td>\n",
       "      <td>-0.141918</td>\n",
       "      <td>-0.015068</td>\n",
       "      <td>0.086660</td>\n",
       "      <td>-0.070278</td>\n",
       "      <td>0.159833</td>\n",
       "    </tr>\n",
       "    <tr>\n",
       "      <th>religious</th>\n",
       "      <td>0.078794</td>\n",
       "      <td>0.136598</td>\n",
       "      <td>0.132683</td>\n",
       "      <td>0.141845</td>\n",
       "      <td>1.000000</td>\n",
       "      <td>0.032245</td>\n",
       "      <td>0.035746</td>\n",
       "      <td>0.004061</td>\n",
       "      <td>-0.125933</td>\n",
       "      <td>-0.129299</td>\n",
       "    </tr>\n",
       "    <tr>\n",
       "      <th>educ</th>\n",
       "      <td>0.079869</td>\n",
       "      <td>0.027960</td>\n",
       "      <td>-0.109058</td>\n",
       "      <td>-0.141918</td>\n",
       "      <td>0.032245</td>\n",
       "      <td>1.000000</td>\n",
       "      <td>0.382286</td>\n",
       "      <td>0.183932</td>\n",
       "      <td>-0.017740</td>\n",
       "      <td>-0.075280</td>\n",
       "    </tr>\n",
       "    <tr>\n",
       "      <th>occupation</th>\n",
       "      <td>0.039528</td>\n",
       "      <td>0.106127</td>\n",
       "      <td>0.041782</td>\n",
       "      <td>-0.015068</td>\n",
       "      <td>0.035746</td>\n",
       "      <td>0.382286</td>\n",
       "      <td>1.000000</td>\n",
       "      <td>0.201156</td>\n",
       "      <td>0.004469</td>\n",
       "      <td>0.028981</td>\n",
       "    </tr>\n",
       "    <tr>\n",
       "      <th>occupation_husb</th>\n",
       "      <td>0.027745</td>\n",
       "      <td>0.162567</td>\n",
       "      <td>0.128135</td>\n",
       "      <td>0.086660</td>\n",
       "      <td>0.004061</td>\n",
       "      <td>0.183932</td>\n",
       "      <td>0.201156</td>\n",
       "      <td>1.000000</td>\n",
       "      <td>-0.015614</td>\n",
       "      <td>0.017637</td>\n",
       "    </tr>\n",
       "    <tr>\n",
       "      <th>affairs</th>\n",
       "      <td>-0.178068</td>\n",
       "      <td>-0.089964</td>\n",
       "      <td>-0.087737</td>\n",
       "      <td>-0.070278</td>\n",
       "      <td>-0.125933</td>\n",
       "      <td>-0.017740</td>\n",
       "      <td>0.004469</td>\n",
       "      <td>-0.015614</td>\n",
       "      <td>1.000000</td>\n",
       "      <td>0.464046</td>\n",
       "    </tr>\n",
       "    <tr>\n",
       "      <th>affair_binary</th>\n",
       "      <td>-0.331776</td>\n",
       "      <td>0.146519</td>\n",
       "      <td>0.203109</td>\n",
       "      <td>0.159833</td>\n",
       "      <td>-0.129299</td>\n",
       "      <td>-0.075280</td>\n",
       "      <td>0.028981</td>\n",
       "      <td>0.017637</td>\n",
       "      <td>0.464046</td>\n",
       "      <td>1.000000</td>\n",
       "    </tr>\n",
       "  </tbody>\n",
       "</table>\n",
       "</div>"
      ],
      "text/plain": [
       "                 rate_marriage       age  yrs_married  children  religious  \\\n",
       "rate_marriage         1.000000 -0.111127    -0.128978 -0.129161   0.078794   \n",
       "age                  -0.111127  1.000000     0.894082  0.673902   0.136598   \n",
       "yrs_married          -0.128978  0.894082     1.000000  0.772806   0.132683   \n",
       "children             -0.129161  0.673902     0.772806  1.000000   0.141845   \n",
       "religious             0.078794  0.136598     0.132683  0.141845   1.000000   \n",
       "educ                  0.079869  0.027960    -0.109058 -0.141918   0.032245   \n",
       "occupation            0.039528  0.106127     0.041782 -0.015068   0.035746   \n",
       "occupation_husb       0.027745  0.162567     0.128135  0.086660   0.004061   \n",
       "affairs              -0.178068 -0.089964    -0.087737 -0.070278  -0.125933   \n",
       "affair_binary        -0.331776  0.146519     0.203109  0.159833  -0.129299   \n",
       "\n",
       "                     educ  occupation  occupation_husb   affairs  \\\n",
       "rate_marriage    0.079869    0.039528         0.027745 -0.178068   \n",
       "age              0.027960    0.106127         0.162567 -0.089964   \n",
       "yrs_married     -0.109058    0.041782         0.128135 -0.087737   \n",
       "children        -0.141918   -0.015068         0.086660 -0.070278   \n",
       "religious        0.032245    0.035746         0.004061 -0.125933   \n",
       "educ             1.000000    0.382286         0.183932 -0.017740   \n",
       "occupation       0.382286    1.000000         0.201156  0.004469   \n",
       "occupation_husb  0.183932    0.201156         1.000000 -0.015614   \n",
       "affairs         -0.017740    0.004469        -0.015614  1.000000   \n",
       "affair_binary   -0.075280    0.028981         0.017637  0.464046   \n",
       "\n",
       "                 affair_binary  \n",
       "rate_marriage        -0.331776  \n",
       "age                   0.146519  \n",
       "yrs_married           0.203109  \n",
       "children              0.159833  \n",
       "religious            -0.129299  \n",
       "educ                 -0.075280  \n",
       "occupation            0.028981  \n",
       "occupation_husb       0.017637  \n",
       "affairs               0.464046  \n",
       "affair_binary         1.000000  "
      ]
     },
     "execution_count": 135,
     "metadata": {},
     "output_type": "execute_result"
    }
   ],
   "source": [
    "affairs_df.corr()\n",
    "# Obviously affairs will correlate to affair_binary but what else?\n",
    "\n",
    "\n",
    "\n",
    "\n",
    "\n",
    "\n",
    "# It seems children, yrs_married, rate_married, and age all correlate to affair_binary\n",
    "# Remember correlations are NOT the single way to identify which features to use\n",
    "# Correlations only give us a number determining how linearlly correlated the variables are\n",
    "# We may find another variable that affects affairs by evaluating the coefficients of our LR"
   ]
  },
  {
   "cell_type": "code",
   "execution_count": 136,
   "metadata": {
    "collapsed": false
   },
   "outputs": [],
   "source": [
    "affairs_X = affairs_df.drop(['affairs', 'affair_binary'], axis=1)\n",
    "affairs_y = affairs_df['affair_binary']"
   ]
  },
  {
   "cell_type": "code",
   "execution_count": 143,
   "metadata": {
    "collapsed": false
   },
   "outputs": [
    {
     "name": "stdout",
     "output_type": "stream",
     "text": [
      "[ 0.71630094  0.69749216  0.74137931  0.71226415  0.70125786  0.73113208\n",
      "  0.71855346  0.70125786  0.74685535  0.75314465]\n",
      "0.72196378226\n"
     ]
    }
   ],
   "source": [
    "model = LogisticRegression()\n",
    "from sklearn.cross_validation import cross_val_score\n",
    "# check the accuracy on the training set\n",
    "scores = cross_val_score(model, affairs_X, affairs_y, cv=10)\n",
    "print scores\n",
    "print scores.mean()\n",
    "\n",
    "# Looks pretty good"
   ]
  },
  {
   "cell_type": "code",
   "execution_count": 138,
   "metadata": {
    "collapsed": false
   },
   "outputs": [
    {
     "data": {
      "text/html": [
       "<div>\n",
       "<table border=\"1\" class=\"dataframe\">\n",
       "  <thead>\n",
       "    <tr style=\"text-align: right;\">\n",
       "      <th></th>\n",
       "      <th>0</th>\n",
       "      <th>1</th>\n",
       "    </tr>\n",
       "  </thead>\n",
       "  <tbody>\n",
       "    <tr>\n",
       "      <th>0</th>\n",
       "      <td>rate_marriage</td>\n",
       "      <td>[-0.702300201706]</td>\n",
       "    </tr>\n",
       "    <tr>\n",
       "      <th>1</th>\n",
       "      <td>age</td>\n",
       "      <td>[-0.0546769400998]</td>\n",
       "    </tr>\n",
       "    <tr>\n",
       "      <th>2</th>\n",
       "      <td>yrs_married</td>\n",
       "      <td>[0.105079088955]</td>\n",
       "    </tr>\n",
       "    <tr>\n",
       "      <th>3</th>\n",
       "      <td>children</td>\n",
       "      <td>[-0.00117231032]</td>\n",
       "    </tr>\n",
       "    <tr>\n",
       "      <th>4</th>\n",
       "      <td>religious</td>\n",
       "      <td>[-0.367121091053]</td>\n",
       "    </tr>\n",
       "    <tr>\n",
       "      <th>5</th>\n",
       "      <td>educ</td>\n",
       "      <td>[-0.0328106363897]</td>\n",
       "    </tr>\n",
       "    <tr>\n",
       "      <th>6</th>\n",
       "      <td>occupation</td>\n",
       "      <td>[0.161411859069]</td>\n",
       "    </tr>\n",
       "    <tr>\n",
       "      <th>7</th>\n",
       "      <td>occupation_husb</td>\n",
       "      <td>[0.0145734984752]</td>\n",
       "    </tr>\n",
       "  </tbody>\n",
       "</table>\n",
       "</div>"
      ],
      "text/plain": [
       "                 0                   1\n",
       "0    rate_marriage   [-0.702300201706]\n",
       "1              age  [-0.0546769400998]\n",
       "2      yrs_married    [0.105079088955]\n",
       "3         children    [-0.00117231032]\n",
       "4        religious   [-0.367121091053]\n",
       "5             educ  [-0.0328106363897]\n",
       "6       occupation    [0.161411859069]\n",
       "7  occupation_husb   [0.0145734984752]"
      ]
     },
     "execution_count": 138,
     "metadata": {},
     "output_type": "execute_result"
    }
   ],
   "source": [
    "# Explore individual features that make the biggest impact\n",
    "# religious, yrs_married, and occupation. But one of these variables doesn't quite make sense right?\n",
    "pd.DataFrame(zip(affairs_X.columns, np.transpose(model.coef_)))"
   ]
  },
  {
   "cell_type": "code",
   "execution_count": 145,
   "metadata": {
    "collapsed": true
   },
   "outputs": [],
   "source": [
    "# Dummy Variables:\n",
    "\n",
    "# Encoding qualitiative (nominal) data using separate columns (see slides for linear regression for more)"
   ]
  },
  {
   "cell_type": "markdown",
   "metadata": {},
   "source": [
    "<img src=\"images/dummy.png\">"
   ]
  },
  {
   "cell_type": "code",
   "execution_count": 146,
   "metadata": {
    "collapsed": false
   },
   "outputs": [
    {
     "data": {
      "text/html": [
       "<div>\n",
       "<table border=\"1\" class=\"dataframe\">\n",
       "  <thead>\n",
       "    <tr style=\"text-align: right;\">\n",
       "      <th></th>\n",
       "      <th>rate_marriage</th>\n",
       "      <th>age</th>\n",
       "      <th>yrs_married</th>\n",
       "      <th>children</th>\n",
       "      <th>religious</th>\n",
       "      <th>educ</th>\n",
       "      <th>occupation</th>\n",
       "      <th>occupation_husb</th>\n",
       "      <th>affairs</th>\n",
       "      <th>affair_binary</th>\n",
       "      <th>occ__2.0</th>\n",
       "      <th>occ__3.0</th>\n",
       "      <th>occ__4.0</th>\n",
       "      <th>occ__5.0</th>\n",
       "      <th>occ__6.0</th>\n",
       "    </tr>\n",
       "  </thead>\n",
       "  <tbody>\n",
       "    <tr>\n",
       "      <th>0</th>\n",
       "      <td>3.0</td>\n",
       "      <td>32.0</td>\n",
       "      <td>9.0</td>\n",
       "      <td>3.0</td>\n",
       "      <td>3.0</td>\n",
       "      <td>17.0</td>\n",
       "      <td>2.0</td>\n",
       "      <td>5.0</td>\n",
       "      <td>0.111111</td>\n",
       "      <td>True</td>\n",
       "      <td>1.0</td>\n",
       "      <td>0.0</td>\n",
       "      <td>0.0</td>\n",
       "      <td>0.0</td>\n",
       "      <td>0.0</td>\n",
       "    </tr>\n",
       "    <tr>\n",
       "      <th>1</th>\n",
       "      <td>3.0</td>\n",
       "      <td>27.0</td>\n",
       "      <td>13.0</td>\n",
       "      <td>3.0</td>\n",
       "      <td>1.0</td>\n",
       "      <td>14.0</td>\n",
       "      <td>3.0</td>\n",
       "      <td>4.0</td>\n",
       "      <td>3.230769</td>\n",
       "      <td>True</td>\n",
       "      <td>0.0</td>\n",
       "      <td>1.0</td>\n",
       "      <td>0.0</td>\n",
       "      <td>0.0</td>\n",
       "      <td>0.0</td>\n",
       "    </tr>\n",
       "    <tr>\n",
       "      <th>2</th>\n",
       "      <td>4.0</td>\n",
       "      <td>22.0</td>\n",
       "      <td>2.5</td>\n",
       "      <td>0.0</td>\n",
       "      <td>1.0</td>\n",
       "      <td>16.0</td>\n",
       "      <td>3.0</td>\n",
       "      <td>5.0</td>\n",
       "      <td>1.400000</td>\n",
       "      <td>True</td>\n",
       "      <td>0.0</td>\n",
       "      <td>1.0</td>\n",
       "      <td>0.0</td>\n",
       "      <td>0.0</td>\n",
       "      <td>0.0</td>\n",
       "    </tr>\n",
       "    <tr>\n",
       "      <th>3</th>\n",
       "      <td>4.0</td>\n",
       "      <td>37.0</td>\n",
       "      <td>16.5</td>\n",
       "      <td>4.0</td>\n",
       "      <td>3.0</td>\n",
       "      <td>16.0</td>\n",
       "      <td>5.0</td>\n",
       "      <td>5.0</td>\n",
       "      <td>0.727273</td>\n",
       "      <td>True</td>\n",
       "      <td>0.0</td>\n",
       "      <td>0.0</td>\n",
       "      <td>0.0</td>\n",
       "      <td>1.0</td>\n",
       "      <td>0.0</td>\n",
       "    </tr>\n",
       "    <tr>\n",
       "      <th>4</th>\n",
       "      <td>5.0</td>\n",
       "      <td>27.0</td>\n",
       "      <td>9.0</td>\n",
       "      <td>1.0</td>\n",
       "      <td>1.0</td>\n",
       "      <td>14.0</td>\n",
       "      <td>3.0</td>\n",
       "      <td>4.0</td>\n",
       "      <td>4.666666</td>\n",
       "      <td>True</td>\n",
       "      <td>0.0</td>\n",
       "      <td>1.0</td>\n",
       "      <td>0.0</td>\n",
       "      <td>0.0</td>\n",
       "      <td>0.0</td>\n",
       "    </tr>\n",
       "  </tbody>\n",
       "</table>\n",
       "</div>"
      ],
      "text/plain": [
       "   rate_marriage   age  yrs_married  children  religious  educ  occupation  \\\n",
       "0            3.0  32.0          9.0       3.0        3.0  17.0         2.0   \n",
       "1            3.0  27.0         13.0       3.0        1.0  14.0         3.0   \n",
       "2            4.0  22.0          2.5       0.0        1.0  16.0         3.0   \n",
       "3            4.0  37.0         16.5       4.0        3.0  16.0         5.0   \n",
       "4            5.0  27.0          9.0       1.0        1.0  14.0         3.0   \n",
       "\n",
       "   occupation_husb   affairs affair_binary  occ__2.0  occ__3.0  occ__4.0  \\\n",
       "0              5.0  0.111111          True       1.0       0.0       0.0   \n",
       "1              4.0  3.230769          True       0.0       1.0       0.0   \n",
       "2              5.0  1.400000          True       0.0       1.0       0.0   \n",
       "3              5.0  0.727273          True       0.0       0.0       0.0   \n",
       "4              4.0  4.666666          True       0.0       1.0       0.0   \n",
       "\n",
       "   occ__5.0  occ__6.0  \n",
       "0       0.0       0.0  \n",
       "1       0.0       0.0  \n",
       "2       0.0       0.0  \n",
       "3       1.0       0.0  \n",
       "4       0.0       0.0  "
      ]
     },
     "execution_count": 146,
     "metadata": {},
     "output_type": "execute_result"
    }
   ],
   "source": [
    "occuptation_dummies = pd.get_dummies(affairs_df['occupation'], prefix='occ_').iloc[:, 1:]\n",
    "\n",
    "# concatenate the dummy variable columns onto the original DataFrame (axis=0 means rows, axis=1 means columns)\n",
    "affairs_df = pd.concat([affairs_df, occuptation_dummies], axis=1)\n",
    "affairs_df.head()\n"
   ]
  },
  {
   "cell_type": "code",
   "execution_count": 147,
   "metadata": {
    "collapsed": false
   },
   "outputs": [
    {
     "data": {
      "text/html": [
       "<div>\n",
       "<table border=\"1\" class=\"dataframe\">\n",
       "  <thead>\n",
       "    <tr style=\"text-align: right;\">\n",
       "      <th></th>\n",
       "      <th>rate_marriage</th>\n",
       "      <th>age</th>\n",
       "      <th>yrs_married</th>\n",
       "      <th>children</th>\n",
       "      <th>religious</th>\n",
       "      <th>educ</th>\n",
       "      <th>occupation</th>\n",
       "      <th>occupation_husb</th>\n",
       "      <th>affairs</th>\n",
       "      <th>affair_binary</th>\n",
       "      <th>occ__2.0</th>\n",
       "      <th>occ__3.0</th>\n",
       "      <th>occ__4.0</th>\n",
       "      <th>occ__5.0</th>\n",
       "      <th>occ__6.0</th>\n",
       "      <th>occ_husb__2.0</th>\n",
       "      <th>occ_husb__3.0</th>\n",
       "      <th>occ_husb__4.0</th>\n",
       "      <th>occ_husb__5.0</th>\n",
       "      <th>occ_husb__6.0</th>\n",
       "    </tr>\n",
       "  </thead>\n",
       "  <tbody>\n",
       "    <tr>\n",
       "      <th>0</th>\n",
       "      <td>3.0</td>\n",
       "      <td>32.0</td>\n",
       "      <td>9.0</td>\n",
       "      <td>3.0</td>\n",
       "      <td>3.0</td>\n",
       "      <td>17.0</td>\n",
       "      <td>2.0</td>\n",
       "      <td>5.0</td>\n",
       "      <td>0.111111</td>\n",
       "      <td>True</td>\n",
       "      <td>1.0</td>\n",
       "      <td>0.0</td>\n",
       "      <td>0.0</td>\n",
       "      <td>0.0</td>\n",
       "      <td>0.0</td>\n",
       "      <td>0.0</td>\n",
       "      <td>0.0</td>\n",
       "      <td>0.0</td>\n",
       "      <td>1.0</td>\n",
       "      <td>0.0</td>\n",
       "    </tr>\n",
       "    <tr>\n",
       "      <th>1</th>\n",
       "      <td>3.0</td>\n",
       "      <td>27.0</td>\n",
       "      <td>13.0</td>\n",
       "      <td>3.0</td>\n",
       "      <td>1.0</td>\n",
       "      <td>14.0</td>\n",
       "      <td>3.0</td>\n",
       "      <td>4.0</td>\n",
       "      <td>3.230769</td>\n",
       "      <td>True</td>\n",
       "      <td>0.0</td>\n",
       "      <td>1.0</td>\n",
       "      <td>0.0</td>\n",
       "      <td>0.0</td>\n",
       "      <td>0.0</td>\n",
       "      <td>0.0</td>\n",
       "      <td>0.0</td>\n",
       "      <td>1.0</td>\n",
       "      <td>0.0</td>\n",
       "      <td>0.0</td>\n",
       "    </tr>\n",
       "    <tr>\n",
       "      <th>2</th>\n",
       "      <td>4.0</td>\n",
       "      <td>22.0</td>\n",
       "      <td>2.5</td>\n",
       "      <td>0.0</td>\n",
       "      <td>1.0</td>\n",
       "      <td>16.0</td>\n",
       "      <td>3.0</td>\n",
       "      <td>5.0</td>\n",
       "      <td>1.400000</td>\n",
       "      <td>True</td>\n",
       "      <td>0.0</td>\n",
       "      <td>1.0</td>\n",
       "      <td>0.0</td>\n",
       "      <td>0.0</td>\n",
       "      <td>0.0</td>\n",
       "      <td>0.0</td>\n",
       "      <td>0.0</td>\n",
       "      <td>0.0</td>\n",
       "      <td>1.0</td>\n",
       "      <td>0.0</td>\n",
       "    </tr>\n",
       "    <tr>\n",
       "      <th>3</th>\n",
       "      <td>4.0</td>\n",
       "      <td>37.0</td>\n",
       "      <td>16.5</td>\n",
       "      <td>4.0</td>\n",
       "      <td>3.0</td>\n",
       "      <td>16.0</td>\n",
       "      <td>5.0</td>\n",
       "      <td>5.0</td>\n",
       "      <td>0.727273</td>\n",
       "      <td>True</td>\n",
       "      <td>0.0</td>\n",
       "      <td>0.0</td>\n",
       "      <td>0.0</td>\n",
       "      <td>1.0</td>\n",
       "      <td>0.0</td>\n",
       "      <td>0.0</td>\n",
       "      <td>0.0</td>\n",
       "      <td>0.0</td>\n",
       "      <td>1.0</td>\n",
       "      <td>0.0</td>\n",
       "    </tr>\n",
       "    <tr>\n",
       "      <th>4</th>\n",
       "      <td>5.0</td>\n",
       "      <td>27.0</td>\n",
       "      <td>9.0</td>\n",
       "      <td>1.0</td>\n",
       "      <td>1.0</td>\n",
       "      <td>14.0</td>\n",
       "      <td>3.0</td>\n",
       "      <td>4.0</td>\n",
       "      <td>4.666666</td>\n",
       "      <td>True</td>\n",
       "      <td>0.0</td>\n",
       "      <td>1.0</td>\n",
       "      <td>0.0</td>\n",
       "      <td>0.0</td>\n",
       "      <td>0.0</td>\n",
       "      <td>0.0</td>\n",
       "      <td>0.0</td>\n",
       "      <td>1.0</td>\n",
       "      <td>0.0</td>\n",
       "      <td>0.0</td>\n",
       "    </tr>\n",
       "  </tbody>\n",
       "</table>\n",
       "</div>"
      ],
      "text/plain": [
       "   rate_marriage   age  yrs_married  children  religious  educ  occupation  \\\n",
       "0            3.0  32.0          9.0       3.0        3.0  17.0         2.0   \n",
       "1            3.0  27.0         13.0       3.0        1.0  14.0         3.0   \n",
       "2            4.0  22.0          2.5       0.0        1.0  16.0         3.0   \n",
       "3            4.0  37.0         16.5       4.0        3.0  16.0         5.0   \n",
       "4            5.0  27.0          9.0       1.0        1.0  14.0         3.0   \n",
       "\n",
       "   occupation_husb   affairs affair_binary  occ__2.0  occ__3.0  occ__4.0  \\\n",
       "0              5.0  0.111111          True       1.0       0.0       0.0   \n",
       "1              4.0  3.230769          True       0.0       1.0       0.0   \n",
       "2              5.0  1.400000          True       0.0       1.0       0.0   \n",
       "3              5.0  0.727273          True       0.0       0.0       0.0   \n",
       "4              4.0  4.666666          True       0.0       1.0       0.0   \n",
       "\n",
       "   occ__5.0  occ__6.0  occ_husb__2.0  occ_husb__3.0  occ_husb__4.0  \\\n",
       "0       0.0       0.0            0.0            0.0            0.0   \n",
       "1       0.0       0.0            0.0            0.0            1.0   \n",
       "2       0.0       0.0            0.0            0.0            0.0   \n",
       "3       1.0       0.0            0.0            0.0            0.0   \n",
       "4       0.0       0.0            0.0            0.0            1.0   \n",
       "\n",
       "   occ_husb__5.0  occ_husb__6.0  \n",
       "0            1.0            0.0  \n",
       "1            0.0            0.0  \n",
       "2            1.0            0.0  \n",
       "3            1.0            0.0  \n",
       "4            0.0            0.0  "
      ]
     },
     "execution_count": 147,
     "metadata": {},
     "output_type": "execute_result"
    }
   ],
   "source": [
    "occuptation_dummies = pd.get_dummies(affairs_df['occupation_husb'], prefix='occ_husb_').iloc[:, 1:]\n",
    "\n",
    "# concatenate the dummy variable columns onto the original DataFrame (axis=0 means rows, axis=1 means columns)\n",
    "affairs_df = pd.concat([affairs_df, occuptation_dummies], axis=1)\n",
    "affairs_df.head()"
   ]
  },
  {
   "cell_type": "code",
   "execution_count": 148,
   "metadata": {
    "collapsed": true
   },
   "outputs": [],
   "source": [
    "# remove appropiate columns for feature set\n",
    "affairs_X = affairs_df.drop(['affairs', 'affair_binary', 'occupation', 'occupation_husb'], axis=1)\n",
    "affairs_y = affairs_df['affair_binary']"
   ]
  },
  {
   "cell_type": "code",
   "execution_count": 149,
   "metadata": {
    "collapsed": false
   },
   "outputs": [
    {
     "data": {
      "text/plain": [
       "0.72588752748978946"
      ]
     },
     "execution_count": 149,
     "metadata": {},
     "output_type": "execute_result"
    }
   ],
   "source": [
    "model = LogisticRegression()\n",
    "model = model.fit(affairs_X, affairs_y)\n",
    "\n",
    "# check the accuracy on the training set\n",
    "model.score(affairs_X, affairs_y)"
   ]
  },
  {
   "cell_type": "code",
   "execution_count": 151,
   "metadata": {
    "collapsed": false
   },
   "outputs": [
    {
     "data": {
      "text/html": [
       "<div>\n",
       "<table border=\"1\" class=\"dataframe\">\n",
       "  <thead>\n",
       "    <tr style=\"text-align: right;\">\n",
       "      <th></th>\n",
       "      <th>features</th>\n",
       "      <th>coef</th>\n",
       "    </tr>\n",
       "  </thead>\n",
       "  <tbody>\n",
       "    <tr>\n",
       "      <th>0</th>\n",
       "      <td>rate_marriage</td>\n",
       "      <td>[-0.697845453825]</td>\n",
       "    </tr>\n",
       "    <tr>\n",
       "      <th>1</th>\n",
       "      <td>age</td>\n",
       "      <td>[-0.0563368031972]</td>\n",
       "    </tr>\n",
       "    <tr>\n",
       "      <th>2</th>\n",
       "      <td>yrs_married</td>\n",
       "      <td>[0.103893444136]</td>\n",
       "    </tr>\n",
       "    <tr>\n",
       "      <th>3</th>\n",
       "      <td>children</td>\n",
       "      <td>[0.0181853982481]</td>\n",
       "    </tr>\n",
       "    <tr>\n",
       "      <th>4</th>\n",
       "      <td>religious</td>\n",
       "      <td>[-0.368506616998]</td>\n",
       "    </tr>\n",
       "    <tr>\n",
       "      <th>5</th>\n",
       "      <td>educ</td>\n",
       "      <td>[0.00864804494766]</td>\n",
       "    </tr>\n",
       "    <tr>\n",
       "      <th>6</th>\n",
       "      <td>occ__2.0</td>\n",
       "      <td>[0.298118794658]</td>\n",
       "    </tr>\n",
       "    <tr>\n",
       "      <th>7</th>\n",
       "      <td>occ__3.0</td>\n",
       "      <td>[0.608150180777]</td>\n",
       "    </tr>\n",
       "    <tr>\n",
       "      <th>8</th>\n",
       "      <td>occ__4.0</td>\n",
       "      <td>[0.346511273036]</td>\n",
       "    </tr>\n",
       "    <tr>\n",
       "      <th>9</th>\n",
       "      <td>occ__5.0</td>\n",
       "      <td>[0.942259498161]</td>\n",
       "    </tr>\n",
       "    <tr>\n",
       "      <th>10</th>\n",
       "      <td>occ__6.0</td>\n",
       "      <td>[0.918150144304]</td>\n",
       "    </tr>\n",
       "    <tr>\n",
       "      <th>11</th>\n",
       "      <td>occ_husb__2.0</td>\n",
       "      <td>[0.219957140288]</td>\n",
       "    </tr>\n",
       "    <tr>\n",
       "      <th>12</th>\n",
       "      <td>occ_husb__3.0</td>\n",
       "      <td>[0.32476602929]</td>\n",
       "    </tr>\n",
       "    <tr>\n",
       "      <th>13</th>\n",
       "      <td>occ_husb__4.0</td>\n",
       "      <td>[0.189354154353]</td>\n",
       "    </tr>\n",
       "    <tr>\n",
       "      <th>14</th>\n",
       "      <td>occ_husb__5.0</td>\n",
       "      <td>[0.21309298898]</td>\n",
       "    </tr>\n",
       "    <tr>\n",
       "      <th>15</th>\n",
       "      <td>occ_husb__6.0</td>\n",
       "      <td>[0.214179979671]</td>\n",
       "    </tr>\n",
       "  </tbody>\n",
       "</table>\n",
       "</div>"
      ],
      "text/plain": [
       "         features                coef\n",
       "0   rate_marriage   [-0.697845453825]\n",
       "1             age  [-0.0563368031972]\n",
       "2     yrs_married    [0.103893444136]\n",
       "3        children   [0.0181853982481]\n",
       "4       religious   [-0.368506616998]\n",
       "5            educ  [0.00864804494766]\n",
       "6        occ__2.0    [0.298118794658]\n",
       "7        occ__3.0    [0.608150180777]\n",
       "8        occ__4.0    [0.346511273036]\n",
       "9        occ__5.0    [0.942259498161]\n",
       "10       occ__6.0    [0.918150144304]\n",
       "11  occ_husb__2.0    [0.219957140288]\n",
       "12  occ_husb__3.0     [0.32476602929]\n",
       "13  occ_husb__4.0    [0.189354154353]\n",
       "14  occ_husb__5.0     [0.21309298898]\n",
       "15  occ_husb__6.0    [0.214179979671]"
      ]
     },
     "execution_count": 151,
     "metadata": {},
     "output_type": "execute_result"
    }
   ],
   "source": [
    "pd.DataFrame(zip(affairs_X.columns, np.transpose(model.coef_)), columns = ['features', 'coef'])"
   ]
  },
  {
   "cell_type": "code",
   "execution_count": null,
   "metadata": {
    "collapsed": true
   },
   "outputs": [],
   "source": [
    "# compare KNN to LR"
   ]
  },
  {
   "cell_type": "code",
   "execution_count": 152,
   "metadata": {
    "collapsed": false
   },
   "outputs": [
    {
     "data": {
      "text/plain": [
       "0.68630248906529234"
      ]
     },
     "execution_count": 152,
     "metadata": {},
     "output_type": "execute_result"
    }
   ],
   "source": [
    "knn = KNeighborsClassifier(n_neighbors=7)\n",
    "cross_val_score(knn, affairs_X, affairs_y, cv=5, scoring='accuracy').mean()"
   ]
  },
  {
   "cell_type": "code",
   "execution_count": 153,
   "metadata": {
    "collapsed": false
   },
   "outputs": [
    {
     "data": {
      "text/plain": [
       "0.72558005785768587"
      ]
     },
     "execution_count": 153,
     "metadata": {},
     "output_type": "execute_result"
    }
   ],
   "source": [
    "logreg = LogisticRegression()\n",
    "cross_val_score(logreg, affairs_X, affairs_y, cv=5, scoring='accuracy').mean()"
   ]
  },
  {
   "cell_type": "code",
   "execution_count": null,
   "metadata": {
    "collapsed": false
   },
   "outputs": [],
   "source": []
  },
  {
   "cell_type": "code",
   "execution_count": null,
   "metadata": {
    "collapsed": false
   },
   "outputs": [],
   "source": []
  },
  {
   "cell_type": "code",
   "execution_count": null,
   "metadata": {
    "collapsed": false
   },
   "outputs": [],
   "source": []
  },
  {
   "cell_type": "code",
   "execution_count": null,
   "metadata": {
    "collapsed": true
   },
   "outputs": [],
   "source": []
  },
  {
   "cell_type": "code",
   "execution_count": 162,
   "metadata": {
    "collapsed": true
   },
   "outputs": [],
   "source": [
    "# When we are investigating individual correlations between features and categorical responses\n",
    "# Logistic regression has a good shot :)\n",
    "\n",
    "# KNN relies on the entire n-space to make predictions while LR uses the model parameters to focus\n",
    "# on one or more particular features\n",
    "\n",
    "# LR has concept of \"importance\" of features"
   ]
  },
  {
   "cell_type": "code",
   "execution_count": null,
   "metadata": {
    "collapsed": true
   },
   "outputs": [],
   "source": []
  },
  {
   "cell_type": "code",
   "execution_count": null,
   "metadata": {
    "collapsed": true
   },
   "outputs": [],
   "source": []
  },
  {
   "cell_type": "code",
   "execution_count": null,
   "metadata": {
    "collapsed": true
   },
   "outputs": [],
   "source": [
    "# Final Thought Experiment\n",
    "\n",
    "# Why might KNN (a kind of look alike model) not perform well here?"
   ]
  },
  {
   "cell_type": "code",
   "execution_count": null,
   "metadata": {
    "collapsed": false
   },
   "outputs": [],
   "source": []
  },
  {
   "cell_type": "code",
   "execution_count": null,
   "metadata": {
    "collapsed": true
   },
   "outputs": [],
   "source": []
  },
  {
   "cell_type": "code",
   "execution_count": null,
   "metadata": {
    "collapsed": true
   },
   "outputs": [],
   "source": []
  }
 ],
 "metadata": {
<<<<<<< HEAD
  "kernelspec": {
   "display_name": "Python [bersonenv]",
   "language": "python",
   "name": "Python [bersonenv]"
=======
  "anaconda-cloud": {},
  "kernelspec": {
   "display_name": "Python [sfdat28]",
   "language": "python",
   "name": "Python [sfdat28]"
>>>>>>> cb83766255735d60d81c4112b7d26b26ef7d2572
  },
  "language_info": {
   "codemirror_mode": {
    "name": "ipython",
    "version": 2
   },
   "file_extension": ".py",
   "mimetype": "text/x-python",
   "name": "python",
   "nbconvert_exporter": "python",
   "pygments_lexer": "ipython2",
   "version": "2.7.12"
  }
 },
 "nbformat": 4,
 "nbformat_minor": 0
}
