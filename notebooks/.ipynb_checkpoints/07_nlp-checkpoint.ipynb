{
 "cells": [
  {
   "cell_type": "markdown",
   "metadata": {},
   "source": [
    "# Natural Language Processing (NLP)"
   ]
  },
  {
   "cell_type": "markdown",
   "metadata": {},
   "source": [
    "## Introduction\n",
    "\n",
    "*Adapted from [NLP Crash Course](http://files.meetup.com/7616132/DC-NLP-2013-09%20Charlie%20Greenbacker.pdf) by Charlie Greenbacker and [Introduction to NLP](http://spark-public.s3.amazonaws.com/nlp/slides/intro.pdf) by Dan Jurafsky*"
   ]
  },
  {
   "cell_type": "markdown",
   "metadata": {},
   "source": [
    "### What is NLP?\n",
    "\n",
    "- Using computers to process (analyze, understand, generate) natural human languages\n",
    "- Most knowledge created by humans is unstructured text, and we need a way to make sense of it\n",
    "- Build probabilistic model using data about a language"
   ]
  },
  {
   "cell_type": "markdown",
   "metadata": {},
   "source": [
    "### What are some of the higher level task areas?\n",
    "\n",
    "- **Information retrieval**: Find relevant results and similar results\n",
    "    - [Google](https://www.google.com/)\n",
    "- **Information extraction**: Structured information from unstructured documents\n",
    "    - [Events from Gmail](https://support.google.com/calendar/answer/6084018?hl=en)\n",
    "- **Machine translation**: One language to another\n",
    "    - [Google Translate](https://translate.google.com/)\n",
    "- **Text simplification**: Preserve the meaning of text, but simplify the grammar and vocabulary\n",
    "    - [Rewordify](https://rewordify.com/)\n",
    "    - [Simple English Wikipedia](https://simple.wikipedia.org/wiki/Main_Page)\n",
    "- **Predictive text input**: Faster or easier typing\n",
    "    - [A friend's application](https://justmarkham.shinyapps.io/textprediction/)\n",
    "    - [A much better application](https://farsite.shinyapps.io/swiftkey-cap/)\n",
    "- **Sentiment analysis**: Attitude of speaker\n",
    "    - [Hater News](http://haternews.herokuapp.com/)\n",
    "- **Automatic summarization**: Extractive or abstractive summarization\n",
    "    - [autotldr](https://www.reddit.com/r/technology/comments/35brc8/21_million_people_still_use_aol_dialup/cr2zzj0)\n",
    "- **Natural Language Generation**: Generate text from data\n",
    "    - [How a computer describes a sports match](http://www.bbc.com/news/technology-34204052)\n",
    "    - [Publishers withdraw more than 120 gibberish papers](http://www.nature.com/news/publishers-withdraw-more-than-120-gibberish-papers-1.14763)\n",
    "- **Speech recognition and generation**: Speech-to-text, text-to-speech\n",
    "    - [Google's Web Speech API demo](https://www.google.com/intl/en/chrome/demos/speech.html)\n",
    "    - [Vocalware Text-to-Speech demo](https://www.vocalware.com/index/demo)\n",
    "- **Question answering**: Determine the intent of the question, match query with knowledge base, evaluate hypotheses\n",
    "    - [How did supercomputer Watson beat Jeopardy champion Ken Jennings?](http://blog.ted.com/how-did-supercomputer-watson-beat-jeopardy-champion-ken-jennings-experts-discuss/)\n",
    "    - [IBM's Watson Trivia Challenge](http://www.nytimes.com/interactive/2010/06/16/magazine/watson-trivia-game.html)\n",
    "    - [The AI Behind Watson](http://www.aaai.org/Magazine/Watson/watson.php)"
   ]
  },
  {
   "cell_type": "markdown",
   "metadata": {},
   "source": [
    "### What are some of the lower level components?\n",
    "\n",
    "- **Tokenization**: breaking text into tokens (words, sentences, n-grams)\n",
    "- **Stopword removal**: a/an/the\n",
    "- **Stemming and lemmatization**: root word\n",
    "- **TF-IDF**: word importance\n",
    "- **Part-of-speech tagging**: noun/verb/adjective\n",
    "- **Named entity recognition**: person/organization/location\n",
    "- **Spelling correction**: \"New Yrok City\"\n",
    "- **Word sense disambiguation**: \"buy a mouse\"\n",
    "- **Segmentation**: \"New York City subway\"\n",
    "- **Language detection**: \"translate this page\"\n",
    "- **Machine learning**"
   ]
  },
  {
   "cell_type": "markdown",
   "metadata": {},
   "source": [
    "### Why is NLP hard?\n",
    "\n",
    "- **Ambiguity**:\n",
    "    - Hospitals are Sued by 7 Foot Doctors\n",
    "    - Juvenile Court to Try Shooting Defendant\n",
    "    - Local High School Dropouts Cut in Half\n",
    "- **Non-standard English**: text messages\n",
    "- **Idioms**: \"throw in the towel\"\n",
    "- **Newly coined words**: \"retweet\"\n",
    "- **Tricky entity names**: \"Where is A Bug's Life playing?\"\n",
    "- **World knowledge**: \"Mary and Sue are sisters\", \"Mary and Sue are mothers\"\n",
    "\n",
    "NLP requires an understanding of the **language** and the **world**."
   ]
  },
  {
   "cell_type": "markdown",
   "metadata": {},
   "source": [
    "## Part 1: Reading in the Yelp Reviews"
   ]
  },
  {
   "cell_type": "markdown",
   "metadata": {},
   "source": [
    "- \"corpus\" = collection of documents\n",
    "- \"corpora\" = plural form of corpus"
   ]
  },
  {
   "cell_type": "code",
   "execution_count": 3,
   "metadata": {
    "collapsed": false
   },
   "outputs": [
    {
     "name": "stderr",
     "output_type": "stream",
     "text": [
      "/Users/sinanozdemir/anaconda/envs/sfdat28/lib/python2.7/site-packages/matplotlib/font_manager.py:273: UserWarning: Matplotlib is building the font cache using fc-list. This may take a moment.\n",
      "  warnings.warn('Matplotlib is building the font cache using fc-list. This may take a moment.')\n"
     ]
    }
   ],
   "source": [
    "import pandas as pd\n",
    "import numpy as np\n",
    "import scipy as sp\n",
    "from sklearn.cross_validation import train_test_split, cross_val_score\n",
    "from sklearn.feature_extraction.text import CountVectorizer, TfidfVectorizer\n",
    "from sklearn.linear_model import LogisticRegression\n",
    "from sklearn import metrics\n",
    "from textblob import TextBlob, Word\n",
    "from nltk.stem.snowball import SnowballStemmer\n",
    "%matplotlib inline"
   ]
  },
  {
   "cell_type": "code",
   "execution_count": 4,
   "metadata": {
    "collapsed": false
   },
   "outputs": [],
   "source": [
    "# read yelp.csv into a DataFrame\n",
    "url = '../data/yelp.csv'\n",
    "yelp = pd.read_csv(url, encoding='unicode-escape')\n",
    "\n"
   ]
  },
  {
   "cell_type": "code",
   "execution_count": 5,
   "metadata": {
    "collapsed": true
   },
   "outputs": [],
   "source": [
    "# EXERCISE create a new DataFrame called yelp_best_worst \n",
    "# that only contains the 5-star and 1-star reviews\n",
    "\n",
    "\n",
    "\n",
    "\n",
    "\n",
    "\n",
    "\n",
    "\n",
    "\n",
    "\n",
    "\n",
    "\n",
    "\n",
    "\n",
    "\n",
    "\n",
    "# ANSWER\n",
    "yelp_best_worst = yelp[(yelp.stars==5) | (yelp.stars==1)]"
   ]
  },
  {
   "cell_type": "code",
   "execution_count": 6,
   "metadata": {
    "collapsed": false
   },
   "outputs": [
    {
     "data": {
      "text/html": [
       "<div>\n",
       "<table border=\"1\" class=\"dataframe\">\n",
       "  <thead>\n",
       "    <tr style=\"text-align: right;\">\n",
       "      <th></th>\n",
       "      <th>business_id</th>\n",
       "      <th>date</th>\n",
       "      <th>review_id</th>\n",
       "      <th>stars</th>\n",
       "      <th>text</th>\n",
       "      <th>type</th>\n",
       "      <th>user_id</th>\n",
       "      <th>cool</th>\n",
       "      <th>useful</th>\n",
       "      <th>funny</th>\n",
       "    </tr>\n",
       "  </thead>\n",
       "  <tbody>\n",
       "    <tr>\n",
       "      <th>0</th>\n",
       "      <td>9yKzy9PApeiPPOUJEtnvkg</td>\n",
       "      <td>2011-01-26</td>\n",
       "      <td>fWKvX83p0-ka4JS3dc6E5A</td>\n",
       "      <td>5</td>\n",
       "      <td>My wife took me here on my birthday for breakf...</td>\n",
       "      <td>review</td>\n",
       "      <td>rLtl8ZkDX5vH5nAx9C3q5Q</td>\n",
       "      <td>2</td>\n",
       "      <td>5</td>\n",
       "      <td>0</td>\n",
       "    </tr>\n",
       "    <tr>\n",
       "      <th>1</th>\n",
       "      <td>ZRJwVLyzEJq1VAihDhYiow</td>\n",
       "      <td>2011-07-27</td>\n",
       "      <td>IjZ33sJrzXqU-0X6U8NwyA</td>\n",
       "      <td>5</td>\n",
       "      <td>I have no idea why some people give bad review...</td>\n",
       "      <td>review</td>\n",
       "      <td>0a2KyEL0d3Yb1V6aivbIuQ</td>\n",
       "      <td>0</td>\n",
       "      <td>0</td>\n",
       "      <td>0</td>\n",
       "    </tr>\n",
       "    <tr>\n",
       "      <th>3</th>\n",
       "      <td>_1QQZuf4zZOyFCvXc0o6Vg</td>\n",
       "      <td>2010-05-27</td>\n",
       "      <td>G-WvGaISbqqaMHlNnByodA</td>\n",
       "      <td>5</td>\n",
       "      <td>Rosie, Dakota, and I LOVE Chaparral Dog Park!!...</td>\n",
       "      <td>review</td>\n",
       "      <td>uZetl9T0NcROGOyFfughhg</td>\n",
       "      <td>1</td>\n",
       "      <td>2</td>\n",
       "      <td>0</td>\n",
       "    </tr>\n",
       "    <tr>\n",
       "      <th>4</th>\n",
       "      <td>6ozycU1RpktNG2-1BroVtw</td>\n",
       "      <td>2012-01-05</td>\n",
       "      <td>1uJFq2r5QfJG_6ExMRCaGw</td>\n",
       "      <td>5</td>\n",
       "      <td>General Manager Scott Petello is a good egg!!!...</td>\n",
       "      <td>review</td>\n",
       "      <td>vYmM4KTsC8ZfQBg-j5MWkw</td>\n",
       "      <td>0</td>\n",
       "      <td>0</td>\n",
       "      <td>0</td>\n",
       "    </tr>\n",
       "    <tr>\n",
       "      <th>6</th>\n",
       "      <td>zp713qNhx8d9KCJJnrw1xA</td>\n",
       "      <td>2010-02-12</td>\n",
       "      <td>riFQ3vxNpP4rWLk_CSri2A</td>\n",
       "      <td>5</td>\n",
       "      <td>Drop what you're doing and drive here. After I...</td>\n",
       "      <td>review</td>\n",
       "      <td>wFweIWhv2fREZV_dYkz_1g</td>\n",
       "      <td>7</td>\n",
       "      <td>7</td>\n",
       "      <td>4</td>\n",
       "    </tr>\n",
       "  </tbody>\n",
       "</table>\n",
       "</div>"
      ],
      "text/plain": [
       "              business_id        date               review_id  stars  \\\n",
       "0  9yKzy9PApeiPPOUJEtnvkg  2011-01-26  fWKvX83p0-ka4JS3dc6E5A      5   \n",
       "1  ZRJwVLyzEJq1VAihDhYiow  2011-07-27  IjZ33sJrzXqU-0X6U8NwyA      5   \n",
       "3  _1QQZuf4zZOyFCvXc0o6Vg  2010-05-27  G-WvGaISbqqaMHlNnByodA      5   \n",
       "4  6ozycU1RpktNG2-1BroVtw  2012-01-05  1uJFq2r5QfJG_6ExMRCaGw      5   \n",
       "6  zp713qNhx8d9KCJJnrw1xA  2010-02-12  riFQ3vxNpP4rWLk_CSri2A      5   \n",
       "\n",
       "                                                text    type  \\\n",
       "0  My wife took me here on my birthday for breakf...  review   \n",
       "1  I have no idea why some people give bad review...  review   \n",
       "3  Rosie, Dakota, and I LOVE Chaparral Dog Park!!...  review   \n",
       "4  General Manager Scott Petello is a good egg!!!...  review   \n",
       "6  Drop what you're doing and drive here. After I...  review   \n",
       "\n",
       "                  user_id  cool  useful  funny  \n",
       "0  rLtl8ZkDX5vH5nAx9C3q5Q     2       5      0  \n",
       "1  0a2KyEL0d3Yb1V6aivbIuQ     0       0      0  \n",
       "3  uZetl9T0NcROGOyFfughhg     1       2      0  \n",
       "4  vYmM4KTsC8ZfQBg-j5MWkw     0       0      0  \n",
       "6  wFweIWhv2fREZV_dYkz_1g     7       7      4  "
      ]
     },
     "execution_count": 6,
     "metadata": {},
     "output_type": "execute_result"
    }
   ],
   "source": [
    "yelp_best_worst.head()"
   ]
  },
  {
   "cell_type": "code",
   "execution_count": 8,
   "metadata": {
    "collapsed": false
   },
   "outputs": [
    {
     "name": "stdout",
     "output_type": "stream",
     "text": [
      "5    3337\n",
      "1     749\n",
      "Name: stars, dtype: int64\n"
     ]
    }
   ],
   "source": [
    "# define X and y\n",
    "X = yelp_best_worst.text\n",
    "y = yelp_best_worst.stars\n",
    "print y.value_counts()\n",
    "\n",
    "# split the new DataFrame into training and testing sets\n",
    "X_train, X_test, y_train, y_test = train_test_split(X, y, random_state=1)"
   ]
  },
  {
   "cell_type": "code",
   "execution_count": 9,
   "metadata": {
    "collapsed": false
   },
   "outputs": [
    {
     "data": {
      "text/plain": [
       "6841    FILLY-B's!!!!!  only 8 reviews?? NINE now!!!\\r...\n",
       "1728    My husband and I absolutely LOVE this restaura...\n",
       "3853    We went today after lunch. I got my usual of l...\n",
       "671     Totally dissapointed.  I had purchased a coupo...\n",
       "4920    Costco Travel - My husband and I recently retu...\n",
       "Name: text, dtype: object"
      ]
     },
     "execution_count": 9,
     "metadata": {},
     "output_type": "execute_result"
    }
   ],
   "source": [
    "X_train.head()"
   ]
  },
  {
   "cell_type": "markdown",
   "metadata": {},
   "source": [
    "## Part 2: Tokenization"
   ]
  },
  {
   "cell_type": "markdown",
   "metadata": {},
   "source": [
    "- **What:** Separate text into units such as sentences or words\n",
    "- **Why:** Gives structure to previously unstructured text\n",
    "- **Notes:** Relatively easy with English language text, not easy with some languages"
   ]
  },
  {
   "cell_type": "code",
   "execution_count": 10,
   "metadata": {
    "collapsed": true
   },
   "outputs": [],
   "source": [
    "# example documents\n",
    "simple_train = ['call you tonight', 'Call me a cab', 'please call me... PLEASE!']"
   ]
  },
  {
   "cell_type": "code",
   "execution_count": 11,
   "metadata": {
    "collapsed": false
   },
   "outputs": [
    {
     "data": {
      "text/html": [
       "<div>\n",
       "<table border=\"1\" class=\"dataframe\">\n",
       "  <thead>\n",
       "    <tr style=\"text-align: right;\">\n",
       "      <th></th>\n",
       "      <th>cab</th>\n",
       "      <th>call</th>\n",
       "      <th>me</th>\n",
       "      <th>please</th>\n",
       "      <th>tonight</th>\n",
       "      <th>you</th>\n",
       "    </tr>\n",
       "  </thead>\n",
       "  <tbody>\n",
       "    <tr>\n",
       "      <th>0</th>\n",
       "      <td>0</td>\n",
       "      <td>1</td>\n",
       "      <td>0</td>\n",
       "      <td>0</td>\n",
       "      <td>1</td>\n",
       "      <td>1</td>\n",
       "    </tr>\n",
       "    <tr>\n",
       "      <th>1</th>\n",
       "      <td>1</td>\n",
       "      <td>1</td>\n",
       "      <td>1</td>\n",
       "      <td>0</td>\n",
       "      <td>0</td>\n",
       "      <td>0</td>\n",
       "    </tr>\n",
       "    <tr>\n",
       "      <th>2</th>\n",
       "      <td>0</td>\n",
       "      <td>1</td>\n",
       "      <td>1</td>\n",
       "      <td>2</td>\n",
       "      <td>0</td>\n",
       "      <td>0</td>\n",
       "    </tr>\n",
       "  </tbody>\n",
       "</table>\n",
       "</div>"
      ],
      "text/plain": [
       "   cab  call  me  please  tonight  you\n",
       "0    0     1   0       0        1    1\n",
       "1    1     1   1       0        0    0\n",
       "2    0     1   1       2        0    0"
      ]
     },
     "execution_count": 11,
     "metadata": {},
     "output_type": "execute_result"
    }
   ],
   "source": [
    "# Term Frequency\n",
    "vect = CountVectorizer()\n",
    "tf = pd.DataFrame(vect.fit_transform(simple_train).toarray(), columns=vect.get_feature_names())\n",
    "tf"
   ]
  },
  {
   "cell_type": "code",
   "execution_count": 12,
   "metadata": {
    "collapsed": false
   },
   "outputs": [
    {
     "data": {
      "text/html": [
       "<div>\n",
       "<table border=\"1\" class=\"dataframe\">\n",
       "  <thead>\n",
       "    <tr style=\"text-align: right;\">\n",
       "      <th></th>\n",
       "      <th>cab</th>\n",
       "      <th>call</th>\n",
       "      <th>me</th>\n",
       "      <th>please</th>\n",
       "      <th>tonight</th>\n",
       "      <th>you</th>\n",
       "    </tr>\n",
       "  </thead>\n",
       "  <tbody>\n",
       "    <tr>\n",
       "      <th>0</th>\n",
       "      <td>1</td>\n",
       "      <td>1</td>\n",
       "      <td>0</td>\n",
       "      <td>1</td>\n",
       "      <td>0</td>\n",
       "      <td>0</td>\n",
       "    </tr>\n",
       "  </tbody>\n",
       "</table>\n",
       "</div>"
      ],
      "text/plain": [
       "   cab  call  me  please  tonight  you\n",
       "0    1     1   0       1        0    0"
      ]
     },
     "execution_count": 12,
     "metadata": {},
     "output_type": "execute_result"
    }
   ],
   "source": [
    "# transforming a new sentence, what do you notice?\n",
    "pd.DataFrame(vect.transform(['please call yourself a cab']).toarray(), columns=vect.get_feature_names())"
   ]
  },
  {
   "cell_type": "code",
   "execution_count": 13,
   "metadata": {
    "collapsed": false
   },
   "outputs": [],
   "source": [
    "# use CountVectorizer to create document-term matrices from X_train and X_test\n",
    "vect = CountVectorizer()\n",
    "X_train_dtm = vect.fit_transform(X_train)\n",
    "X_test_dtm = vect.transform(X_test)"
   ]
  },
  {
   "cell_type": "code",
   "execution_count": 14,
   "metadata": {
    "collapsed": false
   },
   "outputs": [
    {
     "name": "stdout",
     "output_type": "stream",
     "text": [
      "(3064, 16825)\n",
      "(1022, 16825)\n"
     ]
    }
   ],
   "source": [
    "# rows are documents, columns are terms (phrases) (aka \"tokens\" or \"features\")\n",
    "print X_train_dtm.shape\n",
    "print X_test_dtm.shape\n",
    "# Why do they have the same number of features"
   ]
  },
  {
   "cell_type": "code",
   "execution_count": 15,
   "metadata": {
    "collapsed": false
   },
   "outputs": [
    {
     "name": "stdout",
     "output_type": "stream",
     "text": [
      "[u'00', u'000', u'00a', u'00am', u'00pm', u'01', u'02', u'03', u'03342', u'04', u'05', u'06', u'07', u'09', u'0buxoc0crqjpvkezo3bqog', u'0l', u'10', u'100', u'1000', u'1000x', u'1001', u'100th', u'101', u'102', u'105', u'1070', u'108', u'10am', u'10ish', u'10min', u'10mins', u'10minutes', u'10pm', u'10th', u'10x', u'11', u'110', u'1100', u'111', u'111th', u'112', u'115th', u'118', u'11a', u'11am', u'11p', u'11pm', u'12', u'120', u'128i']\n"
     ]
    }
   ],
   "source": [
    "# first 50 features\n",
    "print vect.get_feature_names()[:50]"
   ]
  },
  {
   "cell_type": "code",
   "execution_count": 16,
   "metadata": {
    "collapsed": false
   },
   "outputs": [
    {
     "name": "stdout",
     "output_type": "stream",
     "text": [
      "[u'yyyyy', u'z11', u'za', u'zabba', u'zach', u'zam', u'zanella', u'zankou', u'zappos', u'zatsiki', u'zen', u'zero', u'zest', u'zexperience', u'zha', u'zhou', u'zia', u'zihuatenejo', u'zilch', u'zin', u'zinburger', u'zinburgergeist', u'zinc', u'zinfandel', u'zing', u'zip', u'zipcar', u'zipper', u'zippers', u'zipps', u'ziti', u'zoe', u'zombi', u'zombies', u'zone', u'zones', u'zoning', u'zoo', u'zoyo', u'zucca', u'zucchini', u'zuchinni', u'zumba', u'zupa', u'zuzu', u'zwiebel', u'zzed', u'\\xe9clairs', u'\\xe9cole', u'\\xe9m']\n"
     ]
    }
   ],
   "source": [
    "# last 50 features\n",
    "print vect.get_feature_names()[-50:]"
   ]
  },
  {
   "cell_type": "code",
   "execution_count": 17,
   "metadata": {
    "collapsed": false
   },
   "outputs": [
    {
     "data": {
      "text/plain": [
       "CountVectorizer(analyzer=u'word', binary=False, decode_error=u'strict',\n",
       "        dtype=<type 'numpy.int64'>, encoding=u'utf-8', input=u'content',\n",
       "        lowercase=True, max_df=1.0, max_features=None, min_df=1,\n",
       "        ngram_range=(1, 1), preprocessor=None, stop_words=None,\n",
       "        strip_accents=None, token_pattern=u'(?u)\\\\b\\\\w\\\\w+\\\\b',\n",
       "        tokenizer=None, vocabulary=None)"
      ]
     },
     "execution_count": 17,
     "metadata": {},
     "output_type": "execute_result"
    }
   ],
   "source": [
    "# show vectorizer options\n",
    "vect"
   ]
  },
  {
   "cell_type": "markdown",
   "metadata": {},
   "source": [
    "[CountVectorizer documentation](http://scikit-learn.org/stable/modules/generated/sklearn.feature_extraction.text.CountVectorizer.html)"
   ]
  },
  {
   "cell_type": "markdown",
   "metadata": {},
   "source": [
    "- **lowercase:** boolean, True by default\n",
    "- Convert all characters to lowercase before tokenizing."
   ]
  },
  {
   "cell_type": "code",
   "execution_count": 18,
   "metadata": {
    "collapsed": true
   },
   "outputs": [],
   "source": [
    "# EXERCISE: create a coun vectorizer that doesn't lowercase the words\n",
    "# fit transform X_train and see how many features there are\n",
    "# Hint there should be over 20k\n",
    "\n",
    "\n",
    "\n",
    "\n",
    "\n",
    "\n",
    "\n",
    "\n",
    "\n",
    "\n"
   ]
  },
  {
   "cell_type": "code",
   "execution_count": 19,
   "metadata": {
    "collapsed": false
   },
   "outputs": [
    {
     "data": {
      "text/plain": [
       "(3064, 20838)"
      ]
     },
     "execution_count": 19,
     "metadata": {},
     "output_type": "execute_result"
    }
   ],
   "source": [
    "# ANSWER\n",
    "vect = CountVectorizer(lowercase=False)\n",
    "X_train_dtm = vect.fit_transform(X_train)\n",
    "X_train_dtm.shape # has more features"
   ]
  },
  {
   "cell_type": "markdown",
   "metadata": {},
   "source": [
    "- **ngram_range:** tuple (min_n, max_n)\n",
    "- The lower and upper boundary of the range of n-values for different n-grams to be extracted. All values of n such that min_n <= n <= max_n will be used."
   ]
  },
  {
   "cell_type": "code",
   "execution_count": 20,
   "metadata": {
    "collapsed": false
   },
   "outputs": [
    {
     "data": {
      "text/plain": [
       "(3064, 169847)"
      ]
     },
     "execution_count": 20,
     "metadata": {},
     "output_type": "execute_result"
    }
   ],
   "source": [
    "# include 1-grams and 2-grams\n",
    "vect = CountVectorizer(ngram_range=(1, 2))\n",
    "X_train_dtm = vect.fit_transform(X_train)\n",
    "X_train_dtm.shape"
   ]
  },
  {
   "cell_type": "code",
   "execution_count": 21,
   "metadata": {
    "collapsed": false
   },
   "outputs": [
    {
     "name": "stdout",
     "output_type": "stream",
     "text": [
      "[u'zone out', u'zone when', u'zones', u'zones dolls', u'zoning', u'zoning issues', u'zoo', u'zoo and', u'zoo is', u'zoo not', u'zoo the', u'zoo ve', u'zoyo', u'zoyo for', u'zucca', u'zucca appetizer', u'zucchini', u'zucchini and', u'zucchini bread', u'zucchini broccoli', u'zucchini carrots', u'zucchini fries', u'zucchini pieces', u'zucchini strips', u'zucchini veal', u'zucchini very', u'zucchini with', u'zuchinni', u'zuchinni again', u'zuchinni the', u'zumba', u'zumba class', u'zumba or', u'zumba yogalates', u'zupa', u'zupa flavors', u'zuzu', u'zuzu in', u'zuzu is', u'zuzu the', u'zwiebel', u'zwiebel kr\\xe4uter', u'zzed', u'zzed in', u'\\xe9clairs', u'\\xe9clairs napoleons', u'\\xe9cole', u'\\xe9cole len\\xf4tre', u'\\xe9m', u'\\xe9m all']\n"
     ]
    }
   ],
   "source": [
    "# last 50 features\n",
    "print vect.get_feature_names()[-50:]"
   ]
  },
  {
   "cell_type": "markdown",
   "metadata": {},
   "source": [
    "**Predicting the star rating:**"
   ]
  },
  {
   "cell_type": "code",
   "execution_count": 22,
   "metadata": {
    "collapsed": false
   },
   "outputs": [
    {
     "name": "stdout",
     "output_type": "stream",
     "text": [
      "0.925636007828\n"
     ]
    }
   ],
   "source": [
    "# use default options for CountVectorizer\n",
    "vect = CountVectorizer()\n",
    "\n",
    "# create document-term matrices :: only single words\n",
    "X_train_dtm = vect.fit_transform(X_train)\n",
    "X_test_dtm = vect.transform(X_test)\n",
    "\n",
    "# use logistic regression with document feature matrix, NOT the text column\n",
    "logreg = LogisticRegression()\n",
    "logreg.fit(X_train_dtm, y_train)\n",
    "y_pred_class = logreg.predict(X_test_dtm)\n",
    "\n",
    "# calculate accuracy\n",
    "print metrics.accuracy_score(y_test, y_pred_class)"
   ]
  },
  {
   "cell_type": "code",
   "execution_count": 23,
   "metadata": {
    "collapsed": false
   },
   "outputs": [
    {
     "data": {
      "text/plain": [
       "0.81996086105675148"
      ]
     },
     "execution_count": 23,
     "metadata": {},
     "output_type": "execute_result"
    }
   ],
   "source": [
    "# calculate null accuracy, which is the accuracy of our null model (just guessing the most common thing)\n",
    "y_test_binary = np.where(y_test==5, 1, 0)\n",
    "max(y_test_binary.mean(), 1 - y_test_binary.mean())"
   ]
  },
  {
   "cell_type": "code",
   "execution_count": 24,
   "metadata": {
    "collapsed": false
   },
   "outputs": [],
   "source": [
    "# EXERCISE define a function, tokenize_test,  that does five things:\n",
    "\n",
    "# Has a single input, vect, that is a countvectorizer\n",
    "# instantiates a logistic regression\n",
    "# fit_transforms X using the vectorizer\n",
    "# print the number of features (phrases)\n",
    "# prints the output of a 5 fold cross validation using accuracy as our metric\n",
    "\n",
    "\n",
    "# eg.\n",
    "\n",
    "# vect = CountVectorizer(ngram_range=(1, 2))\n",
    "# tokenize_test(vect)\n",
    "\n",
    "# Should output:\n",
    "# Features:  209471\n",
    "# Accuracy:  0.933431652596\n",
    "\n",
    "\n",
    "\n",
    "\n",
    "\n",
    "\n",
    "\n",
    "\n",
    "\n",
    "\n",
    "\n",
    "\n",
    "\n",
    "\n"
   ]
  },
  {
   "cell_type": "code",
   "execution_count": null,
   "metadata": {
    "collapsed": true
   },
   "outputs": [],
   "source": []
  },
  {
   "cell_type": "code",
   "execution_count": null,
   "metadata": {
    "collapsed": true
   },
   "outputs": [],
   "source": []
  },
  {
   "cell_type": "code",
   "execution_count": null,
   "metadata": {
    "collapsed": true
   },
   "outputs": [],
   "source": []
  },
  {
   "cell_type": "code",
   "execution_count": null,
   "metadata": {
    "collapsed": true
   },
   "outputs": [],
   "source": []
  },
  {
   "cell_type": "code",
   "execution_count": 25,
   "metadata": {
    "collapsed": true
   },
   "outputs": [],
   "source": [
    "# ANSWER\n",
    "def tokenize_test(vect):\n",
    "    logreg = LogisticRegression()\n",
    "    X_dtm = vect.fit_transform(X)\n",
    "    print 'Features: ', X_dtm.shape[1]\n",
    "    print 'Accuracy: ', cross_val_score(logreg, X_dtm, y, cv=5, scoring='accuracy').mean()"
   ]
  },
  {
   "cell_type": "code",
   "execution_count": 26,
   "metadata": {
    "collapsed": false
   },
   "outputs": [
    {
     "name": "stdout",
     "output_type": "stream",
     "text": [
      "Features:  209471\n",
      "Accuracy:  0.933431652596\n"
     ]
    }
   ],
   "source": [
    "# include 1-grams and 2-grams\n",
    "vect = CountVectorizer(ngram_range=(1, 2))\n",
    "tokenize_test(vect)"
   ]
  },
  {
   "cell_type": "markdown",
   "metadata": {},
   "source": [
    "## Part 3: Stopword Removal"
   ]
  },
  {
   "cell_type": "markdown",
   "metadata": {},
   "source": [
    "- **What:** Remove common words that will likely appear in any text\n",
    "- **Why:** They don't tell you much about your text"
   ]
  },
  {
   "cell_type": "code",
   "execution_count": 27,
   "metadata": {
    "collapsed": false
   },
   "outputs": [
    {
     "data": {
      "text/plain": [
       "CountVectorizer(analyzer=u'word', binary=False, decode_error=u'strict',\n",
       "        dtype=<type 'numpy.int64'>, encoding=u'utf-8', input=u'content',\n",
       "        lowercase=True, max_df=1.0, max_features=None, min_df=1,\n",
       "        ngram_range=(1, 2), preprocessor=None, stop_words=None,\n",
       "        strip_accents=None, token_pattern=u'(?u)\\\\b\\\\w\\\\w+\\\\b',\n",
       "        tokenizer=None, vocabulary=None)"
      ]
     },
     "execution_count": 27,
     "metadata": {},
     "output_type": "execute_result"
    }
   ],
   "source": [
    "# show vectorizer options\n",
    "vect"
   ]
  },
  {
   "cell_type": "markdown",
   "metadata": {},
   "source": [
    "- **stop_words:** string {'english'}, list, or None (default)\n",
    "- If 'english', a built-in stop word list for English is used.\n",
    "- If a list, that list is assumed to contain stop words, all of which will be removed from the resulting tokens.\n",
    "- If None, no stop words will be used. max_df can be set to a value in the range [0.7, 1.0) to automatically detect and filter stop words based on intra corpus document frequency of terms."
   ]
  },
  {
   "cell_type": "code",
   "execution_count": 28,
   "metadata": {
    "collapsed": false
   },
   "outputs": [
    {
     "name": "stdout",
     "output_type": "stream",
     "text": [
      "Features:  191339\n",
      "Accuracy:  0.926581494928\n"
     ]
    }
   ],
   "source": [
    "# remove English stop words\n",
    "vect = CountVectorizer(stop_words='english', ngram_range=(1, 2))\n",
    "tokenize_test(vect)\n",
    "# made predictions worse! Why?"
   ]
  },
  {
   "cell_type": "code",
   "execution_count": 29,
   "metadata": {
    "collapsed": false
   },
   "outputs": [
    {
     "name": "stdout",
     "output_type": "stream",
     "text": [
      "frozenset(['all', 'six', 'less', 'being', 'indeed', 'over', 'move', 'anyway', 'four', 'not', 'own', 'through', 'yourselves', 'fify', 'where', 'mill', 'only', 'find', 'before', 'one', 'whose', 'system', 'how', 'somewhere', 'with', 'thick', 'show', 'had', 'enough', 'should', 'to', 'must', 'whom', 'seeming', 'under', 'ours', 'has', 'might', 'thereafter', 'latterly', 'do', 'them', 'his', 'around', 'than', 'get', 'very', 'de', 'none', 'cannot', 'every', 'whether', 'they', 'front', 'during', 'thus', 'now', 'him', 'nor', 'name', 'several', 'hereafter', 'always', 'who', 'cry', 'whither', 'this', 'someone', 'either', 'each', 'become', 'thereupon', 'sometime', 'side', 'two', 'therein', 'twelve', 'because', 'often', 'ten', 'our', 'eg', 'some', 'back', 'up', 'go', 'namely', 'towards', 'are', 'further', 'beyond', 'ourselves', 'yet', 'out', 'even', 'will', 'what', 'still', 'for', 'bottom', 'mine', 'since', 'please', 'forty', 'per', 'its', 'everything', 'behind', 'un', 'above', 'between', 'it', 'neither', 'seemed', 'ever', 'across', 'she', 'somehow', 'be', 'we', 'full', 'never', 'sixty', 'however', 'here', 'otherwise', 'were', 'whereupon', 'nowhere', 'although', 'found', 'alone', 're', 'along', 'fifteen', 'by', 'both', 'about', 'last', 'would', 'anything', 'via', 'many', 'could', 'thence', 'put', 'against', 'keep', 'etc', 'amount', 'became', 'ltd', 'hence', 'onto', 'or', 'con', 'among', 'already', 'co', 'afterwards', 'formerly', 'within', 'seems', 'into', 'others', 'while', 'whatever', 'except', 'down', 'hers', 'everyone', 'done', 'least', 'another', 'whoever', 'moreover', 'couldnt', 'throughout', 'anyhow', 'yourself', 'three', 'from', 'her', 'few', 'together', 'top', 'there', 'due', 'been', 'next', 'anyone', 'eleven', 'much', 'call', 'therefore', 'interest', 'then', 'thru', 'themselves', 'hundred', 'was', 'sincere', 'empty', 'more', 'himself', 'elsewhere', 'mostly', 'on', 'fire', 'am', 'becoming', 'hereby', 'amongst', 'else', 'part', 'everywhere', 'too', 'herself', 'former', 'those', 'he', 'me', 'myself', 'made', 'twenty', 'these', 'bill', 'cant', 'us', 'until', 'besides', 'nevertheless', 'below', 'anywhere', 'nine', 'can', 'of', 'your', 'toward', 'my', 'something', 'and', 'whereafter', 'whenever', 'give', 'almost', 'wherever', 'is', 'describe', 'beforehand', 'herein', 'an', 'as', 'itself', 'at', 'have', 'in', 'seem', 'whence', 'ie', 'any', 'fill', 'again', 'hasnt', 'inc', 'thereby', 'thin', 'no', 'perhaps', 'latter', 'meanwhile', 'when', 'detail', 'same', 'wherein', 'beside', 'also', 'that', 'other', 'take', 'which', 'becomes', 'you', 'if', 'nobody', 'see', 'though', 'may', 'after', 'upon', 'most', 'hereupon', 'eight', 'but', 'serious', 'nothing', 'such', 'why', 'a', 'off', 'whereby', 'third', 'i', 'whole', 'noone', 'sometimes', 'well', 'amoungst', 'yours', 'their', 'rather', 'without', 'so', 'five', 'the', 'first', 'whereas', 'once'])\n"
     ]
    }
   ],
   "source": [
    "# set of stop words\n",
    "print vect.get_stop_words()"
   ]
  },
  {
   "cell_type": "markdown",
   "metadata": {},
   "source": [
    "## Part 4: Other CountVectorizer Options"
   ]
  },
  {
   "cell_type": "markdown",
   "metadata": {},
   "source": [
    "- **max_features:** int or None, default=None\n",
    "- If not None, build a vocabulary that only consider the top max_features ordered by term frequency across the corpus."
   ]
  },
  {
   "cell_type": "code",
   "execution_count": 30,
   "metadata": {
    "collapsed": false
   },
   "outputs": [
    {
     "name": "stdout",
     "output_type": "stream",
     "text": [
      "Features:  100\n",
      "Accuracy:  0.888893346555\n"
     ]
    }
   ],
   "source": [
    "# remove English stop words and only keep 100 features, MUCH FASTER\n",
    "vect = CountVectorizer(stop_words='english', max_features=100)\n",
    "tokenize_test(vect)"
   ]
  },
  {
   "cell_type": "code",
   "execution_count": 31,
   "metadata": {
    "collapsed": false
   },
   "outputs": [
    {
     "name": "stdout",
     "output_type": "stream",
     "text": [
      "[u'amazing', u'area', u'asked', u'atmosphere', u'awesome', u'bad', u'bar', u'best', u'better', u'big', u'came', u'cheese', u'chicken', u'coffee', u'come', u'day', u'definitely', u'delicious', u'did', u'didn', u'dinner', u'don', u'eat', u'excellent', u'experience', u'favorite', u'feel', u'food', u'free', u'fresh', u'friendly', u'friends', u'going', u'good', u'got', u'great', u'happy', u'home', u'hot', u'hour', u'just', u'know', u'like', u'little', u'll', u'location', u'long', u'looking', u'lot', u'love', u'lunch', u'make', u'meal', u'menu', u'minutes', u'need', u'new', u'nice', u'night', u'order', u'ordered', u'people', u'perfect', u'phoenix', u'pizza', u'place', u'pretty', u'price', u'prices', u'really', u'recommend', u'restaurant', u'right', u'said', u'salad', u'sauce', u'say', u'service', u'staff', u'store', u'sure', u'table', u'thing', u'things', u'think', u'time', u'times', u'told', u'took', u'tried', u'try', u've', u'wait', u'want', u'way', u'went', u'wine', u'work', u'worth', u'years']\n"
     ]
    }
   ],
   "source": [
    "# all 100 features\n",
    "print vect.get_feature_names()"
   ]
  },
  {
   "cell_type": "code",
   "execution_count": 32,
   "metadata": {
    "collapsed": false
   },
   "outputs": [
    {
     "name": "stdout",
     "output_type": "stream",
     "text": [
      "Features:  100000\n",
      "Accuracy:  0.93612563031\n"
     ]
    }
   ],
   "source": [
    "# include 1-grams and 2-grams, and limit the number of features\n",
    "vect = CountVectorizer(ngram_range=(1, 2), max_features=100000)\n",
    "tokenize_test(vect)"
   ]
  },
  {
   "cell_type": "markdown",
   "metadata": {},
   "source": [
    "- **min_df:** float in range [0.0, 1.0] or int, default=1\n",
    "- When building the vocabulary ignore terms that have a document frequency strictly lower than the given threshold. This value is also called cut-off in the literature. If float, the parameter represents a proportion of documents, integer absolute counts."
   ]
  },
  {
   "cell_type": "code",
   "execution_count": 33,
   "metadata": {
    "collapsed": false
   },
   "outputs": [
    {
     "name": "stdout",
     "output_type": "stream",
     "text": [
      "Features:  32700\n",
      "Accuracy:  0.93783741955\n"
     ]
    }
   ],
   "source": [
    "# include 1-grams and 2-grams, and only include terms that appear at least 3 times\n",
    "vect = CountVectorizer(ngram_range=(1, 2), min_df=3)\n",
    "tokenize_test(vect)"
   ]
  },
  {
   "cell_type": "markdown",
   "metadata": {},
   "source": [
    "## Part 5: Introduction to TextBlob"
   ]
  },
  {
   "cell_type": "markdown",
   "metadata": {},
   "source": [
    "TextBlob: \"Simplified Text Processing\""
   ]
  },
  {
   "cell_type": "code",
   "execution_count": 34,
   "metadata": {
    "collapsed": false
   },
   "outputs": [
    {
     "name": "stdout",
     "output_type": "stream",
     "text": [
      "My wife took me here on my birthday for breakfast and it was excellent.  The weather was perfect which made sitting outside overlooking their grounds an absolute pleasure.  Our waitress was excellent and our food arrived quickly on the semi-busy Saturday morning.  It looked like the place fills up pretty quickly so the earlier you get here the better.\r\n",
      "\r\n",
      "Do yourself a favor and get their Bloody Mary.  It was phenomenal and simply the best I've ever had.  I'm pretty sure they only use ingredients from their garden and blend them fresh when you order it.  It was amazing.\r\n",
      "\r\n",
      "While EVERYTHING on the menu looks excellent, I had the white truffle scrambled eggs vegetable skillet and it was tasty and delicious.  It came with 2 pieces of their griddled bread with was amazing and it absolutely made the meal complete.  It was the best \"toast\" I've ever had.\r\n",
      "\r\n",
      "Anyway, I can't wait to go back!\n"
     ]
    }
   ],
   "source": [
    "# print the first review\n",
    "print yelp_best_worst.text[0]"
   ]
  },
  {
   "cell_type": "code",
   "execution_count": 35,
   "metadata": {
    "collapsed": false
   },
   "outputs": [],
   "source": [
    "# save it as a TextBlob object\n",
    "review = TextBlob(yelp_best_worst.text[0])"
   ]
  },
  {
   "cell_type": "code",
   "execution_count": 36,
   "metadata": {
    "collapsed": false
   },
   "outputs": [
    {
     "data": {
      "text/plain": [
       "WordList([u'My', u'wife', u'took', u'me', u'here', u'on', u'my', u'birthday', u'for', u'breakfast', u'and', u'it', u'was', u'excellent', u'The', u'weather', u'was', u'perfect', u'which', u'made', u'sitting', u'outside', u'overlooking', u'their', u'grounds', u'an', u'absolute', u'pleasure', u'Our', u'waitress', u'was', u'excellent', u'and', u'our', u'food', u'arrived', u'quickly', u'on', u'the', u'semi-busy', u'Saturday', u'morning', u'It', u'looked', u'like', u'the', u'place', u'fills', u'up', u'pretty', u'quickly', u'so', u'the', u'earlier', u'you', u'get', u'here', u'the', u'better', u'Do', u'yourself', u'a', u'favor', u'and', u'get', u'their', u'Bloody', u'Mary', u'It', u'was', u'phenomenal', u'and', u'simply', u'the', u'best', u'I', u\"'ve\", u'ever', u'had', u'I', u\"'m\", u'pretty', u'sure', u'they', u'only', u'use', u'ingredients', u'from', u'their', u'garden', u'and', u'blend', u'them', u'fresh', u'when', u'you', u'order', u'it', u'It', u'was', u'amazing', u'While', u'EVERYTHING', u'on', u'the', u'menu', u'looks', u'excellent', u'I', u'had', u'the', u'white', u'truffle', u'scrambled', u'eggs', u'vegetable', u'skillet', u'and', u'it', u'was', u'tasty', u'and', u'delicious', u'It', u'came', u'with', u'2', u'pieces', u'of', u'their', u'griddled', u'bread', u'with', u'was', u'amazing', u'and', u'it', u'absolutely', u'made', u'the', u'meal', u'complete', u'It', u'was', u'the', u'best', u'toast', u'I', u\"'ve\", u'ever', u'had', u'Anyway', u'I', u'ca', u\"n't\", u'wait', u'to', u'go', u'back'])"
      ]
     },
     "execution_count": 36,
     "metadata": {},
     "output_type": "execute_result"
    }
   ],
   "source": [
    "# list the words\n",
    "review.words"
   ]
  },
  {
   "cell_type": "code",
   "execution_count": 37,
   "metadata": {
    "collapsed": false
   },
   "outputs": [
    {
     "data": {
      "text/plain": [
       "[Sentence(\"My wife took me here on my birthday for breakfast and it was excellent.\"),\n",
       " Sentence(\"The weather was perfect which made sitting outside overlooking their grounds an absolute pleasure.\"),\n",
       " Sentence(\"Our waitress was excellent and our food arrived quickly on the semi-busy Saturday morning.\"),\n",
       " Sentence(\"It looked like the place fills up pretty quickly so the earlier you get here the better.\"),\n",
       " Sentence(\"Do yourself a favor and get their Bloody Mary.\"),\n",
       " Sentence(\"It was phenomenal and simply the best I've ever had.\"),\n",
       " Sentence(\"I'm pretty sure they only use ingredients from their garden and blend them fresh when you order it.\"),\n",
       " Sentence(\"It was amazing.\"),\n",
       " Sentence(\"While EVERYTHING on the menu looks excellent, I had the white truffle scrambled eggs vegetable skillet and it was tasty and delicious.\"),\n",
       " Sentence(\"It came with 2 pieces of their griddled bread with was amazing and it absolutely made the meal complete.\"),\n",
       " Sentence(\"It was the best \"toast\" I've ever had.\"),\n",
       " Sentence(\"Anyway, I can't wait to go back!\")]"
      ]
     },
     "execution_count": 37,
     "metadata": {},
     "output_type": "execute_result"
    }
   ],
   "source": [
    "# list the sentences\n",
    "review.sentences"
   ]
  },
  {
   "cell_type": "code",
   "execution_count": 38,
   "metadata": {
    "collapsed": false
   },
   "outputs": [
    {
     "data": {
      "text/plain": [
       "TextBlob(\"my wife took me here on my birthday for breakfast and it was excellent.  the weather was perfect which made sitting outside overlooking their grounds an absolute pleasure.  our waitress was excellent and our food arrived quickly on the semi-busy saturday morning.  it looked like the place fills up pretty quickly so the earlier you get here the better.\n",
       "\n",
       "do yourself a favor and get their bloody mary.  it was phenomenal and simply the best i've ever had.  i'm pretty sure they only use ingredients from their garden and blend them fresh when you order it.  it was amazing.\n",
       "\n",
       "while everything on the menu looks excellent, i had the white truffle scrambled eggs vegetable skillet and it was tasty and delicious.  it came with 2 pieces of their griddled bread with was amazing and it absolutely made the meal complete.  it was the best \"toast\" i've ever had.\n",
       "\n",
       "anyway, i can't wait to go back!\")"
      ]
     },
     "execution_count": 38,
     "metadata": {},
     "output_type": "execute_result"
    }
   ],
   "source": [
    "# some string methods are available\n",
    "review.lower()"
   ]
  },
  {
   "cell_type": "markdown",
   "metadata": {},
   "source": [
    "## Part 6: Stemming and Lemmatization"
   ]
  },
  {
   "cell_type": "markdown",
   "metadata": {},
   "source": [
    "**Stemming:**\n",
    "\n",
    "- **What:** Reduce a word to its base/stem/root form\n",
    "- **Why:** Often makes sense to treat related words the same way\n",
    "- **Notes:**\n",
    "    - Uses a \"simple\" and fast rule-based approach\n",
    "    - Stemmed words are usually not shown to users (used for analysis/indexing)\n",
    "    - Some search engines treat words with the same stem as synonyms"
   ]
  },
  {
   "cell_type": "code",
   "execution_count": 39,
   "metadata": {
    "collapsed": false
   },
   "outputs": [
    {
     "name": "stdout",
     "output_type": "stream",
     "text": [
      "[u'my', u'wife', u'took', u'me', u'here', u'on', u'my', u'birthday', u'for', u'breakfast', u'and', u'it', u'was', u'excel', u'the', u'weather', u'was', u'perfect', u'which', u'made', u'sit', u'outsid', u'overlook', u'their', u'ground', u'an', u'absolut', u'pleasur', u'our', u'waitress', u'was', u'excel', u'and', u'our', u'food', u'arriv', u'quick', u'on', u'the', u'semi-busi', u'saturday', u'morn', u'it', u'look', u'like', u'the', u'place', u'fill', u'up', u'pretti', u'quick', u'so', u'the', u'earlier', u'you', u'get', u'here', u'the', u'better', u'do', u'yourself', u'a', u'favor', u'and', u'get', u'their', u'bloodi', u'mari', u'it', u'was', u'phenomen', u'and', u'simpli', u'the', u'best', u'i', u've', u'ever', u'had', u'i', u\"'m\", u'pretti', u'sure', u'they', u'onli', u'use', u'ingredi', u'from', u'their', u'garden', u'and', u'blend', u'them', u'fresh', u'when', u'you', u'order', u'it', u'it', u'was', u'amaz', u'while', u'everyth', u'on', u'the', u'menu', u'look', u'excel', u'i', u'had', u'the', u'white', u'truffl', u'scrambl', u'egg', u'veget', u'skillet', u'and', u'it', u'was', u'tasti', u'and', u'delici', u'it', u'came', u'with', u'2', u'piec', u'of', u'their', u'griddl', u'bread', u'with', u'was', u'amaz', u'and', u'it', u'absolut', u'made', u'the', u'meal', u'complet', u'it', u'was', u'the', u'best', u'toast', u'i', u've', u'ever', u'had', u'anyway', u'i', u'ca', u\"n't\", u'wait', u'to', u'go', u'back']\n"
     ]
    }
   ],
   "source": [
    "# initialize stemmer\n",
    "stemmer = SnowballStemmer('english')\n",
    "\n",
    "# stem each word\n",
    "print [stemmer.stem(word) for word in review.words]"
   ]
  },
  {
   "cell_type": "markdown",
   "metadata": {},
   "source": [
    "**Lemmatization**\n",
    "\n",
    "- **What:** Derive the canonical form ('lemma') of a word\n",
    "- **Why:** Can be better than stemming\n",
    "- **Notes:** Uses a dictionary-based approach (slower than stemming)"
   ]
  },
  {
   "cell_type": "code",
   "execution_count": 40,
   "metadata": {
    "collapsed": true
   },
   "outputs": [],
   "source": [
    "word = Word('wolves')"
   ]
  },
  {
   "cell_type": "code",
   "execution_count": 41,
   "metadata": {
    "collapsed": false
   },
   "outputs": [
    {
     "data": {
      "text/plain": [
       "u'wolv'"
      ]
     },
     "execution_count": 41,
     "metadata": {},
     "output_type": "execute_result"
    }
   ],
   "source": [
    "stemmer.stem(word)"
   ]
  },
  {
   "cell_type": "code",
   "execution_count": 42,
   "metadata": {
    "collapsed": false
   },
   "outputs": [
    {
     "name": "stdout",
     "output_type": "stream",
     "text": [
      "[u'My', u'wife', u'took', u'me', u'here', u'on', u'my', u'birthday', u'for', u'breakfast', u'and', u'it', u'wa', u'excellent', u'The', u'weather', u'wa', u'perfect', u'which', u'made', u'sitting', u'outside', u'overlooking', u'their', u'ground', u'an', u'absolute', u'pleasure', u'Our', u'waitress', u'wa', u'excellent', u'and', u'our', u'food', u'arrived', u'quickly', u'on', u'the', u'semi-busy', u'Saturday', u'morning', u'It', u'looked', u'like', u'the', u'place', u'fill', u'up', u'pretty', u'quickly', u'so', u'the', u'earlier', u'you', u'get', u'here', u'the', u'better', u'Do', u'yourself', u'a', u'favor', u'and', u'get', u'their', u'Bloody', u'Mary', u'It', u'wa', u'phenomenal', u'and', u'simply', u'the', u'best', u'I', u\"'ve\", u'ever', u'had', u'I', u\"'m\", u'pretty', u'sure', u'they', u'only', u'use', u'ingredient', u'from', u'their', u'garden', u'and', u'blend', u'them', u'fresh', u'when', u'you', u'order', u'it', u'It', u'wa', u'amazing', u'While', u'EVERYTHING', u'on', u'the', u'menu', u'look', u'excellent', u'I', u'had', u'the', u'white', u'truffle', u'scrambled', u'egg', u'vegetable', u'skillet', u'and', u'it', u'wa', u'tasty', u'and', u'delicious', u'It', u'came', u'with', u'2', u'piece', u'of', u'their', u'griddled', u'bread', u'with', u'wa', u'amazing', u'and', u'it', u'absolutely', u'made', u'the', u'meal', u'complete', u'It', u'wa', u'the', u'best', u'toast', u'I', u\"'ve\", u'ever', u'had', u'Anyway', u'I', u'ca', u\"n't\", u'wait', u'to', u'go', u'back']\n"
     ]
    }
   ],
   "source": [
    "# assume every word is a noun\n",
    "print [word.lemmatize() for word in review.words]"
   ]
  },
  {
   "cell_type": "code",
   "execution_count": 43,
   "metadata": {
    "collapsed": false
   },
   "outputs": [
    {
     "name": "stdout",
     "output_type": "stream",
     "text": [
      "[u'My', u'wife', u'take', u'me', u'here', u'on', u'my', u'birthday', u'for', u'breakfast', u'and', u'it', u'be', u'excellent', u'The', u'weather', u'be', u'perfect', u'which', u'make', u'sit', u'outside', u'overlook', u'their', u'ground', u'an', u'absolute', u'pleasure', u'Our', u'waitress', u'be', u'excellent', u'and', u'our', u'food', u'arrive', u'quickly', u'on', u'the', u'semi-busy', u'Saturday', u'morning', u'It', u'look', u'like', u'the', u'place', u'fill', u'up', u'pretty', u'quickly', u'so', u'the', u'earlier', u'you', u'get', u'here', u'the', u'better', u'Do', u'yourself', u'a', u'favor', u'and', u'get', u'their', u'Bloody', u'Mary', u'It', u'be', u'phenomenal', u'and', u'simply', u'the', u'best', u'I', u\"'ve\", u'ever', u'have', u'I', u\"'m\", u'pretty', u'sure', u'they', u'only', u'use', u'ingredients', u'from', u'their', u'garden', u'and', u'blend', u'them', u'fresh', u'when', u'you', u'order', u'it', u'It', u'be', u'amaze', u'While', u'EVERYTHING', u'on', u'the', u'menu', u'look', u'excellent', u'I', u'have', u'the', u'white', u'truffle', u'scramble', u'egg', u'vegetable', u'skillet', u'and', u'it', u'be', u'tasty', u'and', u'delicious', u'It', u'come', u'with', u'2', u'piece', u'of', u'their', u'griddle', u'bread', u'with', u'be', u'amaze', u'and', u'it', u'absolutely', u'make', u'the', u'meal', u'complete', u'It', u'be', u'the', u'best', u'toast', u'I', u\"'ve\", u'ever', u'have', u'Anyway', u'I', u'ca', u\"n't\", u'wait', u'to', u'go', u'back']\n"
     ]
    }
   ],
   "source": [
    "# assume every word is a verb\n",
    "print [word.lemmatize(pos='v') for word in review.words]"
   ]
  },
  {
   "cell_type": "code",
   "execution_count": 44,
   "metadata": {
    "collapsed": false
   },
   "outputs": [],
   "source": [
    "# define a function that accepts text and returns a list of lemmas\n",
    "def word_tokenize(text, how='lemma'):\n",
    "    words = TextBlob(text).words\n",
    "    if how == 'lemma':\n",
    "        return [word.lemmatize() for word in words]\n",
    "    elif how == 'stem':\n",
    "        return [stemmer.stem(word) for word in words]"
   ]
  },
  {
   "cell_type": "code",
   "execution_count": 45,
   "metadata": {
    "collapsed": false
   },
   "outputs": [
    {
     "name": "stdout",
     "output_type": "stream",
     "text": [
      "Features:  23856\n",
      "Accuracy:  0.932208859444\n"
     ]
    }
   ],
   "source": [
    "# use word_tokenize LEMMA as the feature extraction function (WARNING: SLOW!)\n",
    "# this will lemmatize each word\n",
    "vect = CountVectorizer(analyzer=word_tokenize(x, how='lemma'))\n",
    "tokenize_test(vect)"
   ]
  },
  {
   "cell_type": "code",
   "execution_count": 46,
   "metadata": {
    "collapsed": false
   },
   "outputs": [
    {
     "name": "stdout",
     "output_type": "stream",
     "text": [
      "Features:  15237\n",
      "Accuracy:  0.938818413169\n"
     ]
    }
   ],
   "source": [
    "# use word_tokenize STEM as the feature extraction function (WARNING: SLOW!)\n",
    "# this will lemmatize each word\n",
    "vect = CountVectorizer(analyzer=lambda x:word_tokenize(x, how='stem'))\n",
    "tokenize_test(vect)"
   ]
  },
  {
   "cell_type": "markdown",
   "metadata": {},
   "source": [
    "## Part 7: Term Frequency-Inverse Document Frequency (TF-IDF)"
   ]
  },
  {
   "cell_type": "markdown",
   "metadata": {},
   "source": [
    "- **What:** Computes \"relative frequency\" that a word appears in a document compared to its frequency across all documents\n",
    "- **Why:** More useful than \"term frequency\" for identifying \"important\" words in each document (high frequency in that document, low frequency in other documents)\n",
    "- **Notes:** Used for search engine scoring, text summarization, document clustering"
   ]
  },
  {
   "cell_type": "code",
   "execution_count": 47,
   "metadata": {
    "collapsed": false
   },
   "outputs": [],
   "source": [
    "# example documents\n",
    "simple_train = ['call you tonight', 'Call me a cab', 'please call me... PLEASE!']"
   ]
  },
  {
   "cell_type": "code",
   "execution_count": 48,
   "metadata": {
    "collapsed": false
   },
   "outputs": [
    {
     "data": {
      "text/html": [
       "<div>\n",
       "<table border=\"1\" class=\"dataframe\">\n",
       "  <thead>\n",
       "    <tr style=\"text-align: right;\">\n",
       "      <th></th>\n",
       "      <th>cab</th>\n",
       "      <th>call</th>\n",
       "      <th>me</th>\n",
       "      <th>please</th>\n",
       "      <th>tonight</th>\n",
       "      <th>you</th>\n",
       "    </tr>\n",
       "  </thead>\n",
       "  <tbody>\n",
       "    <tr>\n",
       "      <th>0</th>\n",
       "      <td>0</td>\n",
       "      <td>1</td>\n",
       "      <td>0</td>\n",
       "      <td>0</td>\n",
       "      <td>1</td>\n",
       "      <td>1</td>\n",
       "    </tr>\n",
       "    <tr>\n",
       "      <th>1</th>\n",
       "      <td>1</td>\n",
       "      <td>1</td>\n",
       "      <td>1</td>\n",
       "      <td>0</td>\n",
       "      <td>0</td>\n",
       "      <td>0</td>\n",
       "    </tr>\n",
       "    <tr>\n",
       "      <th>2</th>\n",
       "      <td>0</td>\n",
       "      <td>1</td>\n",
       "      <td>1</td>\n",
       "      <td>2</td>\n",
       "      <td>0</td>\n",
       "      <td>0</td>\n",
       "    </tr>\n",
       "  </tbody>\n",
       "</table>\n",
       "</div>"
      ],
      "text/plain": [
       "   cab  call  me  please  tonight  you\n",
       "0    0     1   0       0        1    1\n",
       "1    1     1   1       0        0    0\n",
       "2    0     1   1       2        0    0"
      ]
     },
     "execution_count": 48,
     "metadata": {},
     "output_type": "execute_result"
    }
   ],
   "source": [
    "# Term Frequency\n",
    "vect = CountVectorizer()\n",
    "tf = pd.DataFrame(vect.fit_transform(simple_train).toarray(), columns=vect.get_feature_names())\n",
    "tf"
   ]
  },
  {
   "cell_type": "code",
   "execution_count": 49,
   "metadata": {
    "collapsed": false
   },
   "outputs": [
    {
     "data": {
      "text/html": [
       "<div>\n",
       "<table border=\"1\" class=\"dataframe\">\n",
       "  <thead>\n",
       "    <tr style=\"text-align: right;\">\n",
       "      <th></th>\n",
       "      <th>cab</th>\n",
       "      <th>call</th>\n",
       "      <th>me</th>\n",
       "      <th>please</th>\n",
       "      <th>tonight</th>\n",
       "      <th>you</th>\n",
       "    </tr>\n",
       "  </thead>\n",
       "  <tbody>\n",
       "    <tr>\n",
       "      <th>0</th>\n",
       "      <td>1</td>\n",
       "      <td>3</td>\n",
       "      <td>2</td>\n",
       "      <td>1</td>\n",
       "      <td>1</td>\n",
       "      <td>1</td>\n",
       "    </tr>\n",
       "  </tbody>\n",
       "</table>\n",
       "</div>"
      ],
      "text/plain": [
       "   cab  call  me  please  tonight  you\n",
       "0    1     3   2       1        1    1"
      ]
     },
     "execution_count": 49,
     "metadata": {},
     "output_type": "execute_result"
    }
   ],
   "source": [
    "# Document Frequency\n",
    "vect = CountVectorizer(binary=True)\n",
    "df = vect.fit_transform(simple_train).toarray().sum(axis=0)\n",
    "pd.DataFrame(df.reshape(1, 6), columns=vect.get_feature_names())"
   ]
  },
  {
   "cell_type": "code",
   "execution_count": 50,
   "metadata": {
    "collapsed": false
   },
   "outputs": [
    {
     "data": {
      "text/html": [
       "<div>\n",
       "<table border=\"1\" class=\"dataframe\">\n",
       "  <thead>\n",
       "    <tr style=\"text-align: right;\">\n",
       "      <th></th>\n",
       "      <th>cab</th>\n",
       "      <th>call</th>\n",
       "      <th>me</th>\n",
       "      <th>please</th>\n",
       "      <th>tonight</th>\n",
       "      <th>you</th>\n",
       "    </tr>\n",
       "  </thead>\n",
       "  <tbody>\n",
       "    <tr>\n",
       "      <th>0</th>\n",
       "      <td>0.0</td>\n",
       "      <td>0.333333</td>\n",
       "      <td>0.0</td>\n",
       "      <td>0.0</td>\n",
       "      <td>1.0</td>\n",
       "      <td>1.0</td>\n",
       "    </tr>\n",
       "    <tr>\n",
       "      <th>1</th>\n",
       "      <td>1.0</td>\n",
       "      <td>0.333333</td>\n",
       "      <td>0.5</td>\n",
       "      <td>0.0</td>\n",
       "      <td>0.0</td>\n",
       "      <td>0.0</td>\n",
       "    </tr>\n",
       "    <tr>\n",
       "      <th>2</th>\n",
       "      <td>0.0</td>\n",
       "      <td>0.333333</td>\n",
       "      <td>0.5</td>\n",
       "      <td>2.0</td>\n",
       "      <td>0.0</td>\n",
       "      <td>0.0</td>\n",
       "    </tr>\n",
       "  </tbody>\n",
       "</table>\n",
       "</div>"
      ],
      "text/plain": [
       "   cab      call   me  please  tonight  you\n",
       "0  0.0  0.333333  0.0     0.0      1.0  1.0\n",
       "1  1.0  0.333333  0.5     0.0      0.0  0.0\n",
       "2  0.0  0.333333  0.5     2.0      0.0  0.0"
      ]
     },
     "execution_count": 50,
     "metadata": {},
     "output_type": "execute_result"
    }
   ],
   "source": [
    "# Term Frequency-Inverse Document Frequency (simple version)\n",
    "tf/df"
   ]
  },
  {
   "cell_type": "code",
   "execution_count": 51,
   "metadata": {
    "collapsed": false
   },
   "outputs": [
    {
     "data": {
      "text/html": [
       "<div>\n",
       "<table border=\"1\" class=\"dataframe\">\n",
       "  <thead>\n",
       "    <tr style=\"text-align: right;\">\n",
       "      <th></th>\n",
       "      <th>cab</th>\n",
       "      <th>call</th>\n",
       "      <th>me</th>\n",
       "      <th>please</th>\n",
       "      <th>tonight</th>\n",
       "      <th>you</th>\n",
       "    </tr>\n",
       "  </thead>\n",
       "  <tbody>\n",
       "    <tr>\n",
       "      <th>0</th>\n",
       "      <td>0.000000</td>\n",
       "      <td>0.385372</td>\n",
       "      <td>0.000000</td>\n",
       "      <td>0.000000</td>\n",
       "      <td>0.652491</td>\n",
       "      <td>0.652491</td>\n",
       "    </tr>\n",
       "    <tr>\n",
       "      <th>1</th>\n",
       "      <td>0.720333</td>\n",
       "      <td>0.425441</td>\n",
       "      <td>0.547832</td>\n",
       "      <td>0.000000</td>\n",
       "      <td>0.000000</td>\n",
       "      <td>0.000000</td>\n",
       "    </tr>\n",
       "    <tr>\n",
       "      <th>2</th>\n",
       "      <td>0.000000</td>\n",
       "      <td>0.266075</td>\n",
       "      <td>0.342620</td>\n",
       "      <td>0.901008</td>\n",
       "      <td>0.000000</td>\n",
       "      <td>0.000000</td>\n",
       "    </tr>\n",
       "  </tbody>\n",
       "</table>\n",
       "</div>"
      ],
      "text/plain": [
       "        cab      call        me    please   tonight       you\n",
       "0  0.000000  0.385372  0.000000  0.000000  0.652491  0.652491\n",
       "1  0.720333  0.425441  0.547832  0.000000  0.000000  0.000000\n",
       "2  0.000000  0.266075  0.342620  0.901008  0.000000  0.000000"
      ]
     },
     "execution_count": 51,
     "metadata": {},
     "output_type": "execute_result"
    }
   ],
   "source": [
    "# TfidfVectorizer\n",
    "vect = TfidfVectorizer()\n",
    "pd.DataFrame(vect.fit_transform(simple_train).toarray(), columns=vect.get_feature_names())"
   ]
  },
  {
   "cell_type": "markdown",
   "metadata": {},
   "source": [
    "**More details:** [TF-IDF is about what matters](http://planspace.org/20150524-tfidf_is_about_what_matters/)"
   ]
  },
  {
   "cell_type": "code",
   "execution_count": 52,
   "metadata": {
    "collapsed": false
   },
   "outputs": [
    {
     "data": {
      "text/plain": [
       "(10000, 28881)"
      ]
     },
     "execution_count": 52,
     "metadata": {},
     "output_type": "execute_result"
    }
   ],
   "source": [
    "# create a document-term matrix using TF-IDF\n",
    "vect = TfidfVectorizer(stop_words='english')\n",
    "dtm = vect.fit_transform(yelp.text)\n",
    "features = vect.get_feature_names()\n",
    "dtm.shape"
   ]
  },
  {
   "cell_type": "code",
   "execution_count": 53,
   "metadata": {
    "collapsed": false
   },
   "outputs": [
    {
     "name": "stdout",
     "output_type": "stream",
     "text": [
      "Features:  18884\n",
      "Accuracy:  0.873473450843\n"
     ]
    }
   ],
   "source": [
    "vect = TfidfVectorizer(stop_words='english')\n",
    "tokenize_test(vect)"
   ]
  },
  {
   "cell_type": "code",
   "execution_count": null,
   "metadata": {
    "collapsed": false
   },
   "outputs": [],
   "source": []
  },
  {
   "cell_type": "code",
   "execution_count": null,
   "metadata": {
    "collapsed": true
   },
   "outputs": [],
   "source": []
  },
  {
   "cell_type": "markdown",
   "metadata": {},
   "source": [
    "## Part 8: Using TF-IDF to Summarize a Yelp Review\n",
    "\n",
    "Reddit's autotldr uses the [SMMRY](http://smmry.com/about) algorithm, which is based on TF-IDF!"
   ]
  },
  {
   "cell_type": "code",
   "execution_count": null,
   "metadata": {
    "collapsed": true
   },
   "outputs": [],
   "source": []
  },
  {
   "cell_type": "code",
   "execution_count": 54,
   "metadata": {
    "collapsed": false
   },
   "outputs": [],
   "source": [
    "def summarize():\n",
    "    \n",
    "    # choose a random review that is at least 300 characters\n",
    "    review_length = 0\n",
    "    while review_length < 300:\n",
    "        review_id = np.random.randint(0, len(yelp))\n",
    "        review_text = yelp.text[review_id]\n",
    "        review_length = len(review_text)\n",
    "    \n",
    "    # create a dictionary of words and their TF-IDF scores\n",
    "    word_scores = {}\n",
    "    for word in TextBlob(review_text).words:\n",
    "        word = word.lower()\n",
    "        if word in features:\n",
    "            word_scores[word] = dtm[review_id, features.index(word)]\n",
    "    \n",
    "    # print words with the top 5 TF-IDF scores\n",
    "    print 'TOP SCORING WORDS:'\n",
    "    top_scores = sorted(word_scores.items(), key=lambda x: x[1], reverse=True)[:5]\n",
    "    for word, score in top_scores:\n",
    "        print word\n",
    "    \n",
    "    # print 5 random words\n",
    "    print '\\n' + 'RANDOM WORDS:'\n",
    "    random_words = np.random.choice(word_scores.keys(), size=5, replace=False)\n",
    "    for word in random_words:\n",
    "        print word\n",
    "    \n",
    "    # print the review\n",
    "    print '\\n' + review_text"
   ]
  },
  {
   "cell_type": "code",
   "execution_count": 55,
   "metadata": {
    "collapsed": false
   },
   "outputs": [
    {
     "name": "stdout",
     "output_type": "stream",
     "text": [
      "TOP SCORING WORDS:\n",
      "mussels\n",
      "rushed\n",
      "seared\n",
      "dish\n",
      "table\n",
      "\n",
      "RANDOM WORDS:\n",
      "men\n",
      "seared\n",
      "sushi\n",
      "pm\n",
      "thrilled\n",
      "\n",
      "I stopped in with a friend on a Saturday night after a friend had recommended it to me and was totally thrilled we did. We sat at a table for sushi and waited no longer than 10 minutes for a table - amazing for 8 pm on a Saturday in old towne.\r\n",
      "\r\n",
      "Unfortunately, they had sold out of the oysters, but the other dishes we'd ordered were fabulous - starting with a seared tuna dish, then softshell crab roll, rainbow roll, and the green mussels. The seared tuna was cooked and cut perfectly - just the right temperature with a peppery \"rub,\" the rolls were a decent size with thick cuts of fish and plenty of flavorful crab, and the mussels were a tad overcooked for my preference but the creamy texture and buttery flavor still made it a winner. \r\n",
      "\r\n",
      "The thing I appreciated most was actually the service - we weren't rushed or hassled, and the food came out a dish at a time, giving us a chance to eat and enjoy before getting our next dish. At other sushi joints, I am constantly feeling rushed while trying to fit all of the dishes on the table (and I'm not what you'd call a slow eater!). This was a happy medium for me. The server confirmed that we were ready for the bill instead of just dropping it off without asking - it's the little details that make a big difference to me.\r\n",
      "\r\n",
      "My only other con was creepy old men leering at us from the bar...but that's what you get in Scottsdale.\n"
     ]
    }
   ],
   "source": [
    "summarize()"
   ]
  },
  {
   "cell_type": "markdown",
   "metadata": {},
   "source": [
    "## Part 9: Sentiment Analysis"
   ]
  },
  {
   "cell_type": "code",
   "execution_count": 56,
   "metadata": {
    "collapsed": false
   },
   "outputs": [
    {
     "name": "stdout",
     "output_type": "stream",
     "text": [
      "My wife took me here on my birthday for breakfast and it was excellent.  The weather was perfect which made sitting outside overlooking their grounds an absolute pleasure.  Our waitress was excellent and our food arrived quickly on the semi-busy Saturday morning.  It looked like the place fills up pretty quickly so the earlier you get here the better.\r\n",
      "\r\n",
      "Do yourself a favor and get their Bloody Mary.  It was phenomenal and simply the best I've ever had.  I'm pretty sure they only use ingredients from their garden and blend them fresh when you order it.  It was amazing.\r\n",
      "\r\n",
      "While EVERYTHING on the menu looks excellent, I had the white truffle scrambled eggs vegetable skillet and it was tasty and delicious.  It came with 2 pieces of their griddled bread with was amazing and it absolutely made the meal complete.  It was the best \"toast\" I've ever had.\r\n",
      "\r\n",
      "Anyway, I can't wait to go back!\n"
     ]
    }
   ],
   "source": [
    "print review"
   ]
  },
  {
   "cell_type": "code",
   "execution_count": 57,
   "metadata": {
    "collapsed": false
   },
   "outputs": [
    {
     "data": {
      "text/plain": [
       "0.40246913580246907"
      ]
     },
     "execution_count": 57,
     "metadata": {},
     "output_type": "execute_result"
    }
   ],
   "source": [
    "# polarity ranges from -1 (most negative) to 1 (most positive)\n",
    "review.sentiment.polarity"
   ]
  },
  {
   "cell_type": "code",
   "execution_count": 58,
   "metadata": {
    "collapsed": false
   },
   "outputs": [
    {
     "data": {
      "text/html": [
       "<div>\n",
       "<table border=\"1\" class=\"dataframe\">\n",
       "  <thead>\n",
       "    <tr style=\"text-align: right;\">\n",
       "      <th></th>\n",
       "      <th>business_id</th>\n",
       "      <th>date</th>\n",
       "      <th>review_id</th>\n",
       "      <th>stars</th>\n",
       "      <th>text</th>\n",
       "      <th>type</th>\n",
       "      <th>user_id</th>\n",
       "      <th>cool</th>\n",
       "      <th>useful</th>\n",
       "      <th>funny</th>\n",
       "      <th>length</th>\n",
       "    </tr>\n",
       "  </thead>\n",
       "  <tbody>\n",
       "    <tr>\n",
       "      <th>0</th>\n",
       "      <td>9yKzy9PApeiPPOUJEtnvkg</td>\n",
       "      <td>2011-01-26</td>\n",
       "      <td>fWKvX83p0-ka4JS3dc6E5A</td>\n",
       "      <td>5</td>\n",
       "      <td>My wife took me here on my birthday for breakf...</td>\n",
       "      <td>review</td>\n",
       "      <td>rLtl8ZkDX5vH5nAx9C3q5Q</td>\n",
       "      <td>2</td>\n",
       "      <td>5</td>\n",
       "      <td>0</td>\n",
       "      <td>895</td>\n",
       "    </tr>\n",
       "  </tbody>\n",
       "</table>\n",
       "</div>"
      ],
      "text/plain": [
       "              business_id        date               review_id  stars  \\\n",
       "0  9yKzy9PApeiPPOUJEtnvkg  2011-01-26  fWKvX83p0-ka4JS3dc6E5A      5   \n",
       "\n",
       "                                                text    type  \\\n",
       "0  My wife took me here on my birthday for breakf...  review   \n",
       "\n",
       "                  user_id  cool  useful  funny  length  \n",
       "0  rLtl8ZkDX5vH5nAx9C3q5Q     2       5      0     895  "
      ]
     },
     "execution_count": 58,
     "metadata": {},
     "output_type": "execute_result"
    }
   ],
   "source": [
    "# understanding the apply method\n",
    "yelp['length'] = yelp.text.apply(len)\n",
    "yelp.head(1)"
   ]
  },
  {
   "cell_type": "code",
   "execution_count": 59,
   "metadata": {
    "collapsed": false
   },
   "outputs": [
    {
     "data": {
      "text/plain": [
       "<matplotlib.axes._subplots.AxesSubplot at 0x1186a3a50>"
      ]
     },
     "execution_count": 59,
     "metadata": {},
     "output_type": "execute_result"
    },
    {
     "data": {
      "image/png": "iVBORw0KGgoAAAANSUhEUgAAAh8AAAFkCAYAAACAUFlOAAAABHNCSVQICAgIfAhkiAAAAAlwSFlz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\nYII=\n",
      "text/plain": [
       "<matplotlib.figure.Figure at 0x11563a610>"
      ]
     },
     "metadata": {},
     "output_type": "display_data"
    }
   ],
   "source": [
    "# Show a histogram of yelp review lengths\n",
    "\n",
    "yelp['length'].hist()"
   ]
  },
  {
   "cell_type": "code",
   "execution_count": 60,
   "metadata": {
    "collapsed": false
   },
   "outputs": [],
   "source": [
    "# define a function that accepts text and returns the polarity\n",
    "def detect_sentiment(text):\n",
    "    return TextBlob(text).sentiment.polarity"
   ]
  },
  {
   "cell_type": "code",
   "execution_count": 61,
   "metadata": {
    "collapsed": false
   },
   "outputs": [],
   "source": [
    "# create a new DataFrame column for sentiment (WARNING: SLOW!)\n",
    "yelp['sentiment'] = yelp.text.apply(detect_sentiment)"
   ]
  },
  {
   "cell_type": "code",
   "execution_count": 62,
   "metadata": {
    "collapsed": false
   },
   "outputs": [
    {
     "data": {
      "text/plain": [
       "<matplotlib.axes._subplots.AxesSubplot at 0x11b4a6c90>"
      ]
     },
     "execution_count": 62,
     "metadata": {},
     "output_type": "execute_result"
    },
    {
     "data": {
      "image/png": "iVBORw0KGgoAAAANSUhEUgAAAhsAAAGICAYAAADoPSLNAAAABHNCSVQICAgIfAhkiAAAAAlwSFlz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\n",
      "text/plain": [
       "<matplotlib.figure.Figure at 0x114965810>"
      ]
     },
     "metadata": {},
     "output_type": "display_data"
    }
   ],
   "source": [
    "# EXERCISE: make a box plot of sentiment grouped by stars and a histogram of yelp sentiment\n",
    "# You should have five boxplots in the same graph for sentiment for the first graph\n",
    "\n",
    "\n",
    "\n",
    "\n",
    "\n",
    "\n",
    "\n",
    "\n",
    "\n",
    "# ANSWER\n",
    "\n",
    "\n",
    "yelp.boxplot(column='sentiment', by='stars')"
   ]
  },
  {
   "cell_type": "code",
   "execution_count": 63,
   "metadata": {
    "collapsed": false
   },
   "outputs": [
    {
     "data": {
      "text/plain": [
       "<matplotlib.axes._subplots.AxesSubplot at 0x118f84ad0>"
      ]
     },
     "execution_count": 63,
     "metadata": {},
     "output_type": "execute_result"
    },
    {
     "data": {
      "image/png": "iVBORw0KGgoAAAANSUhEUgAAAhkAAAFkCAYAAACNTikJAAAABHNCSVQICAgIfAhkiAAAAAlwSFlz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\n",
      "text/plain": [
       "<matplotlib.figure.Figure at 0x11836f350>"
      ]
     },
     "metadata": {},
     "output_type": "display_data"
    }
   ],
   "source": [
    "yelp['sentiment'].hist() # Mostly positive!"
   ]
  },
  {
   "cell_type": "code",
   "execution_count": 64,
   "metadata": {
    "collapsed": false
   },
   "outputs": [
    {
     "data": {
      "text/plain": [
       "254    Our server Gary was awesome. Food was amazing....\n",
       "347    3 syllables for this place. \\r\\nA-MAZ-ING!\\r\\n...\n",
       "420                                    LOVE the food!!!!\n",
       "459    Love it!!! Wish we still lived in Arizona as C...\n",
       "679                                     Excellent burger\n",
       "Name: text, dtype: object"
      ]
     },
     "execution_count": 64,
     "metadata": {},
     "output_type": "execute_result"
    }
   ],
   "source": [
    "# EXERCISE Show the reviews with most positive sentiment (a score of 1)\n",
    "\n",
    "\n",
    "\n",
    "\n",
    "\n",
    "\n",
    "\n",
    "\n",
    "\n",
    "\n",
    "# Answer \n",
    "\n",
    "yelp[yelp.sentiment == 1].text.head()"
   ]
  },
  {
   "cell_type": "code",
   "execution_count": 65,
   "metadata": {
    "collapsed": false
   },
   "outputs": [
    {
     "data": {
      "text/plain": [
       "773     This was absolutely horrible. I got the suprem...\n",
       "1517                  Nasty workers and over priced trash\n",
       "3266    Absolutely awful... these guys have NO idea wh...\n",
       "4766                                       Very bad food!\n",
       "5812        I wouldn't send my worst enemy to this place.\n",
       "Name: text, dtype: object"
      ]
     },
     "execution_count": 65,
     "metadata": {},
     "output_type": "execute_result"
    }
   ],
   "source": [
    "# reviews with most negative sentiment\n",
    "yelp[yelp.sentiment == -1].text.head()"
   ]
  },
  {
   "cell_type": "code",
   "execution_count": 66,
   "metadata": {
    "collapsed": false
   },
   "outputs": [],
   "source": [
    "# widen the column display\n",
    "pd.set_option('max_colwidth', 500)"
   ]
  },
  {
   "cell_type": "code",
   "execution_count": 67,
   "metadata": {
    "collapsed": false
   },
   "outputs": [
    {
     "data": {
      "text/html": [
       "<div>\n",
       "<table border=\"1\" class=\"dataframe\">\n",
       "  <thead>\n",
       "    <tr style=\"text-align: right;\">\n",
       "      <th></th>\n",
       "      <th>business_id</th>\n",
       "      <th>date</th>\n",
       "      <th>review_id</th>\n",
       "      <th>stars</th>\n",
       "      <th>text</th>\n",
       "      <th>type</th>\n",
       "      <th>user_id</th>\n",
       "      <th>cool</th>\n",
       "      <th>useful</th>\n",
       "      <th>funny</th>\n",
       "      <th>length</th>\n",
       "      <th>sentiment</th>\n",
       "    </tr>\n",
       "  </thead>\n",
       "  <tbody>\n",
       "    <tr>\n",
       "      <th>390</th>\n",
       "      <td>106JT5p8e8Chtd0CZpcARw</td>\n",
       "      <td>2009-08-06</td>\n",
       "      <td>KowGVoP_gygzdSu6Mt3zKQ</td>\n",
       "      <td>5</td>\n",
       "      <td>RIP AZ Coffee Connection.  :(  I stopped by two days ago unaware that they had closed.  I am severely bummed.  This place is irreplaceable!  Damn you, Starbucks and McDonalds!</td>\n",
       "      <td>review</td>\n",
       "      <td>jKeaOrPyJ-dI9SNeVqrbww</td>\n",
       "      <td>1</td>\n",
       "      <td>0</td>\n",
       "      <td>0</td>\n",
       "      <td>175</td>\n",
       "      <td>-0.302083</td>\n",
       "    </tr>\n",
       "  </tbody>\n",
       "</table>\n",
       "</div>"
      ],
      "text/plain": [
       "                business_id        date               review_id  stars  \\\n",
       "390  106JT5p8e8Chtd0CZpcARw  2009-08-06  KowGVoP_gygzdSu6Mt3zKQ      5   \n",
       "\n",
       "                                                                                                                                                                                text  \\\n",
       "390  RIP AZ Coffee Connection.  :(  I stopped by two days ago unaware that they had closed.  I am severely bummed.  This place is irreplaceable!  Damn you, Starbucks and McDonalds!   \n",
       "\n",
       "       type                 user_id  cool  useful  funny  length  sentiment  \n",
       "390  review  jKeaOrPyJ-dI9SNeVqrbww     1       0      0     175  -0.302083  "
      ]
     },
     "execution_count": 67,
     "metadata": {},
     "output_type": "execute_result"
    }
   ],
   "source": [
    "# Where sentiment can go wrong\n",
    "\n",
    "# negative sentiment in a 5-star review\n",
    "yelp[(yelp.stars == 5) & (yelp.sentiment < -0.3)].head(1)"
   ]
  },
  {
   "cell_type": "code",
   "execution_count": 68,
   "metadata": {
    "collapsed": false
   },
   "outputs": [
    {
     "data": {
      "text/html": [
       "<div>\n",
       "<table border=\"1\" class=\"dataframe\">\n",
       "  <thead>\n",
       "    <tr style=\"text-align: right;\">\n",
       "      <th></th>\n",
       "      <th>business_id</th>\n",
       "      <th>date</th>\n",
       "      <th>review_id</th>\n",
       "      <th>stars</th>\n",
       "      <th>text</th>\n",
       "      <th>type</th>\n",
       "      <th>user_id</th>\n",
       "      <th>cool</th>\n",
       "      <th>useful</th>\n",
       "      <th>funny</th>\n",
       "      <th>length</th>\n",
       "      <th>sentiment</th>\n",
       "    </tr>\n",
       "  </thead>\n",
       "  <tbody>\n",
       "    <tr>\n",
       "      <th>1781</th>\n",
       "      <td>53YGfwmbW73JhFiemNeyzQ</td>\n",
       "      <td>2012-06-22</td>\n",
       "      <td>Gi-4O3EhE175vujbFGDIew</td>\n",
       "      <td>1</td>\n",
       "      <td>If you like the stuck up Scottsdale vibe this is a good place for you. The food isn't impressive. Nice outdoor seating.</td>\n",
       "      <td>review</td>\n",
       "      <td>Hqgx3IdJAAaoQjvrUnbNvw</td>\n",
       "      <td>0</td>\n",
       "      <td>1</td>\n",
       "      <td>2</td>\n",
       "      <td>119</td>\n",
       "      <td>0.766667</td>\n",
       "    </tr>\n",
       "  </tbody>\n",
       "</table>\n",
       "</div>"
      ],
      "text/plain": [
       "                 business_id        date               review_id  stars  \\\n",
       "1781  53YGfwmbW73JhFiemNeyzQ  2012-06-22  Gi-4O3EhE175vujbFGDIew      1   \n",
       "\n",
       "                                                                                                                         text  \\\n",
       "1781  If you like the stuck up Scottsdale vibe this is a good place for you. The food isn't impressive. Nice outdoor seating.   \n",
       "\n",
       "        type                 user_id  cool  useful  funny  length  sentiment  \n",
       "1781  review  Hqgx3IdJAAaoQjvrUnbNvw     0       1      2     119   0.766667  "
      ]
     },
     "execution_count": 68,
     "metadata": {},
     "output_type": "execute_result"
    }
   ],
   "source": [
    "# positive sentiment in a 1-star review\n",
    "yelp[(yelp.stars == 1) & (yelp.sentiment > 0.5)].head(1)"
   ]
  },
  {
   "cell_type": "code",
   "execution_count": 69,
   "metadata": {
    "collapsed": false
   },
   "outputs": [],
   "source": [
    "# reset the column display width\n",
    "pd.reset_option('max_colwidth')"
   ]
  },
  {
   "cell_type": "markdown",
   "metadata": {},
   "source": [
    "## Bonus: Adding Features to a Document-Term Matrix"
   ]
  },
  {
   "cell_type": "code",
   "execution_count": 70,
   "metadata": {
    "collapsed": true
   },
   "outputs": [],
   "source": [
    "# create a DataFrame that only contains the 5-star and 1-star reviews\n",
    "yelp_best_worst = yelp[(yelp.stars==5) | (yelp.stars==1)]\n",
    "\n",
    "# define X and y\n",
    "feature_cols = ['text', 'sentiment', 'cool', 'useful', 'funny']\n",
    "X = yelp_best_worst[feature_cols]\n",
    "y = yelp_best_worst.stars\n",
    "\n",
    "# split into training and testing sets\n",
    "X_train, X_test, y_train, y_test = train_test_split(X, y, random_state=1)"
   ]
  },
  {
   "cell_type": "code",
   "execution_count": 71,
   "metadata": {
    "collapsed": false
   },
   "outputs": [
    {
     "name": "stdout",
     "output_type": "stream",
     "text": [
      "(3064, 16825)\n",
      "(1022, 16825)\n"
     ]
    }
   ],
   "source": [
    "# use CountVectorizer with text column only\n",
    "vect = CountVectorizer()\n",
    "X_train_dtm = vect.fit_transform(X_train.text)\n",
    "X_test_dtm = vect.transform(X_test.text)\n",
    "print X_train_dtm.shape\n",
    "print X_test_dtm.shape"
   ]
  },
  {
   "cell_type": "code",
   "execution_count": 72,
   "metadata": {
    "collapsed": false
   },
   "outputs": [
    {
     "data": {
      "text/html": [
       "<div>\n",
       "<table border=\"1\" class=\"dataframe\">\n",
       "  <thead>\n",
       "    <tr style=\"text-align: right;\">\n",
       "      <th></th>\n",
       "      <th>sentiment</th>\n",
       "      <th>cool</th>\n",
       "      <th>useful</th>\n",
       "      <th>funny</th>\n",
       "    </tr>\n",
       "  </thead>\n",
       "  <tbody>\n",
       "    <tr>\n",
       "      <th>6841</th>\n",
       "      <td>0.197778</td>\n",
       "      <td>0</td>\n",
       "      <td>0</td>\n",
       "      <td>1</td>\n",
       "    </tr>\n",
       "    <tr>\n",
       "      <th>1728</th>\n",
       "      <td>0.412500</td>\n",
       "      <td>0</td>\n",
       "      <td>0</td>\n",
       "      <td>0</td>\n",
       "    </tr>\n",
       "    <tr>\n",
       "      <th>3853</th>\n",
       "      <td>0.398148</td>\n",
       "      <td>0</td>\n",
       "      <td>0</td>\n",
       "      <td>0</td>\n",
       "    </tr>\n",
       "    <tr>\n",
       "      <th>671</th>\n",
       "      <td>0.129219</td>\n",
       "      <td>0</td>\n",
       "      <td>0</td>\n",
       "      <td>0</td>\n",
       "    </tr>\n",
       "    <tr>\n",
       "      <th>4920</th>\n",
       "      <td>0.473611</td>\n",
       "      <td>0</td>\n",
       "      <td>0</td>\n",
       "      <td>0</td>\n",
       "    </tr>\n",
       "  </tbody>\n",
       "</table>\n",
       "</div>"
      ],
      "text/plain": [
       "      sentiment  cool  useful  funny\n",
       "6841   0.197778     0       0      1\n",
       "1728   0.412500     0       0      0\n",
       "3853   0.398148     0       0      0\n",
       "671    0.129219     0       0      0\n",
       "4920   0.473611     0       0      0"
      ]
     },
     "execution_count": 72,
     "metadata": {},
     "output_type": "execute_result"
    }
   ],
   "source": [
    "# the other four feature columns that I want to use to predict stars, not just text\n",
    "X_train.drop('text', axis=1).head()"
   ]
  },
  {
   "cell_type": "code",
   "execution_count": 73,
   "metadata": {
    "collapsed": false
   },
   "outputs": [
    {
     "data": {
      "text/plain": [
       "(3064, 4)"
      ]
     },
     "execution_count": 73,
     "metadata": {},
     "output_type": "execute_result"
    }
   ],
   "source": [
    "# cast other feature columns to float and convert to a sparse matrix\n",
    "# Why a sparse matrix, because the other matrix is sparse and the data types must match up\n",
    "extra = sp.sparse.csr_matrix(X_train.drop('text', axis=1).astype(float))\n",
    "extra.shape"
   ]
  },
  {
   "cell_type": "code",
   "execution_count": 74,
   "metadata": {
    "collapsed": false
   },
   "outputs": [
    {
     "data": {
      "text/plain": [
       "(3064, 16829)"
      ]
     },
     "execution_count": 74,
     "metadata": {},
     "output_type": "execute_result"
    }
   ],
   "source": [
    "# combine sparse matrices\n",
    "X_train_dtm_extra = sp.sparse.hstack((X_train_dtm, extra))\n",
    "X_train_dtm_extra.shape"
   ]
  },
  {
   "cell_type": "code",
   "execution_count": 75,
   "metadata": {
    "collapsed": false
   },
   "outputs": [
    {
     "data": {
      "text/plain": [
       "(1022, 16829)"
      ]
     },
     "execution_count": 75,
     "metadata": {},
     "output_type": "execute_result"
    }
   ],
   "source": [
    "# repeat for testing set\n",
    "extra = sp.sparse.csr_matrix(X_test.drop('text', axis=1).astype(float))\n",
    "X_test_dtm_extra = sp.sparse.hstack((X_test_dtm, extra))\n",
    "X_test_dtm_extra.shape"
   ]
  },
  {
   "cell_type": "code",
   "execution_count": 76,
   "metadata": {
    "collapsed": false
   },
   "outputs": [
    {
     "name": "stdout",
     "output_type": "stream",
     "text": [
      "0.925636007828\n"
     ]
    }
   ],
   "source": [
    "# use logistic regression with text column only\n",
    "logreg = LogisticRegression()\n",
    "logreg.fit(X_train_dtm, y_train)\n",
    "y_pred_class = logreg.predict(X_test_dtm)\n",
    "print metrics.accuracy_score(y_test, y_pred_class)"
   ]
  },
  {
   "cell_type": "code",
   "execution_count": 77,
   "metadata": {
    "collapsed": false
   },
   "outputs": [
    {
     "name": "stdout",
     "output_type": "stream",
     "text": [
      "0.937377690802\n"
     ]
    }
   ],
   "source": [
    "# use logistic regression with all features\n",
    "logreg = LogisticRegression()\n",
    "logreg.fit(X_train_dtm_extra, y_train)\n",
    "y_pred_class = logreg.predict(X_test_dtm_extra)\n",
    "print metrics.accuracy_score(y_test, y_pred_class)"
   ]
  },
  {
   "cell_type": "markdown",
   "metadata": {},
   "source": [
    "## Bonus: Fun TextBlob Features"
   ]
  },
  {
   "cell_type": "code",
   "execution_count": 78,
   "metadata": {
    "collapsed": false
   },
   "outputs": [
    {
     "data": {
      "text/plain": [
       "TextBlob(\"15 minutes late\")"
      ]
     },
     "execution_count": 78,
     "metadata": {},
     "output_type": "execute_result"
    }
   ],
   "source": [
    "# spelling correction\n",
    "TextBlob('15 minuets late').correct()"
   ]
  },
  {
   "cell_type": "code",
   "execution_count": 79,
   "metadata": {
    "collapsed": false
   },
   "outputs": [
    {
     "data": {
      "text/plain": [
       "[('part', 0.9929478138222849), (u'parrot', 0.007052186177715092)]"
      ]
     },
     "execution_count": 79,
     "metadata": {},
     "output_type": "execute_result"
    }
   ],
   "source": [
    "# spellcheck\n",
    "Word('parot').spellcheck()"
   ]
  },
  {
   "cell_type": "code",
   "execution_count": 80,
   "metadata": {
    "collapsed": false
   },
   "outputs": [
    {
     "data": {
      "text/plain": [
       "[u'tip laterally',\n",
       " u'enclose with a bank',\n",
       " u'do business with a bank or keep an account at a bank',\n",
       " u'act as the banker in a game or in gambling',\n",
       " u'be in the banking business',\n",
       " u'put into a bank account',\n",
       " u'cover with ashes so to control the rate of burning',\n",
       " u'have confidence or faith in']"
      ]
     },
     "execution_count": 80,
     "metadata": {},
     "output_type": "execute_result"
    }
   ],
   "source": [
    "# definitions\n",
    "Word('bank').define('v')"
   ]
  },
  {
   "cell_type": "code",
   "execution_count": null,
   "metadata": {
    "collapsed": false
   },
   "outputs": [],
   "source": []
  },
  {
   "cell_type": "markdown",
   "metadata": {},
   "source": []
  },
  {
   "cell_type": "code",
   "execution_count": null,
   "metadata": {
    "collapsed": false
   },
   "outputs": [],
   "source": []
  },
  {
   "cell_type": "code",
   "execution_count": null,
   "metadata": {
    "collapsed": true
   },
   "outputs": [],
   "source": []
  },
  {
   "cell_type": "markdown",
   "metadata": {},
   "source": [
    "## Conclusion\n",
    "\n",
    "- NLP is a gigantic field\n",
    "- Understanding the basics broadens the types of data you can work with\n",
    "- Simple techniques go a long way\n",
    "- Use scikit-learn for NLP whenever possible"
   ]
  },
  {
   "cell_type": "code",
   "execution_count": null,
   "metadata": {
    "collapsed": true
   },
   "outputs": [],
   "source": []
  }
 ],
 "metadata": {
  "anaconda-cloud": {},
  "kernelspec": {
<<<<<<< HEAD
   "display_name": "Python [bersonenv]",
   "language": "python",
   "name": "Python [bersonenv]"
=======
   "display_name": "Python [conda env:sfdat28]",
   "language": "python",
   "name": "conda-env-sfdat28-py"
>>>>>>> cb83766255735d60d81c4112b7d26b26ef7d2572
  },
  "language_info": {
   "codemirror_mode": {
    "name": "ipython",
    "version": 2
   },
   "file_extension": ".py",
   "mimetype": "text/x-python",
   "name": "python",
   "nbconvert_exporter": "python",
   "pygments_lexer": "ipython2",
   "version": "2.7.12"
  }
 },
 "nbformat": 4,
 "nbformat_minor": 0
}
