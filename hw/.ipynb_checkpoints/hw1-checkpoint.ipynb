{
 "cells": [
  {
   "cell_type": "code",
   "execution_count": 121,
   "metadata": {
    "collapsed": true
   },
   "outputs": [],
   "source": [
    "import pandas as pd\n",
    "# pd.set_option('max_colwidth', 50)\n",
    "# set this if you need to"
   ]
  },
  {
   "cell_type": "markdown",
   "metadata": {},
   "source": [
    "The Health Department has developed an inspection report and scoring system. \n",
    "After conducting an inspection of the facility, the Health Inspector calculates a score based on the violations observed. \n",
    "Violations can fall into:\n",
    "- **high risk category**: records specific violations that directly relate to the transmission of food borne illnesses,the adulteration of food products and the contamination of food-contact surfaces.\n",
    "- **moderate risk category**: records specific violations that are of a moderate risk to the public health and safety.\n",
    "- **low risk category**: records violations that are low risk or have no immediate risk to the public health and safety."
   ]
  },
  {
   "cell_type": "code",
   "execution_count": 122,
   "metadata": {
    "collapsed": false
   },
   "outputs": [
    {
     "data": {
      "text/html": [
       "<div>\n",
       "<table border=\"1\" class=\"dataframe\">\n",
       "  <thead>\n",
       "    <tr style=\"text-align: right;\">\n",
       "      <th></th>\n",
       "      <th>business_id</th>\n",
       "      <th>name</th>\n",
       "      <th>address</th>\n",
       "      <th>city</th>\n",
       "      <th>postal_code</th>\n",
       "      <th>latitude</th>\n",
       "      <th>longitude</th>\n",
       "      <th>phone_number</th>\n",
       "      <th>TaxCode</th>\n",
       "      <th>business_certificate</th>\n",
       "      <th>application_date</th>\n",
       "      <th>owner_name</th>\n",
       "      <th>owner_address</th>\n",
       "      <th>owner_city</th>\n",
       "      <th>owner_state</th>\n",
       "      <th>owner_zip</th>\n",
       "    </tr>\n",
       "  </thead>\n",
       "  <tbody>\n",
       "    <tr>\n",
       "      <th>0</th>\n",
       "      <td>10</td>\n",
       "      <td>Tiramisu Kitchen</td>\n",
       "      <td>033 Belden Pl</td>\n",
       "      <td>San Francisco</td>\n",
       "      <td>94104</td>\n",
       "      <td>37.791116</td>\n",
       "      <td>-122.403816</td>\n",
       "      <td>NaN</td>\n",
       "      <td>H24</td>\n",
       "      <td>779059.0</td>\n",
       "      <td>NaN</td>\n",
       "      <td>Tiramisu LLC</td>\n",
       "      <td>33 Belden St</td>\n",
       "      <td>San Francisco</td>\n",
       "      <td>CA</td>\n",
       "      <td>94104</td>\n",
       "    </tr>\n",
       "  </tbody>\n",
       "</table>\n",
       "</div>"
      ],
      "text/plain": [
       "   business_id              name        address           city postal_code  \\\n",
       "0           10  Tiramisu Kitchen  033 Belden Pl  San Francisco       94104   \n",
       "\n",
       "    latitude   longitude phone_number TaxCode  business_certificate  \\\n",
       "0  37.791116 -122.403816          NaN     H24              779059.0   \n",
       "\n",
       "  application_date    owner_name owner_address     owner_city owner_state  \\\n",
       "0              NaN  Tiramisu LLC  33 Belden St  San Francisco          CA   \n",
       "\n",
       "  owner_zip  \n",
       "0     94104  "
      ]
     },
     "execution_count": 122,
     "metadata": {},
     "output_type": "execute_result"
    }
   ],
   "source": [
    "businesses = pd.read_csv('./data/businesses_plus.csv', parse_dates=True, dtype={'phone_number': str})\n",
    "businesses.head(1)\n",
    "# dtype casts the column as a specific data type"
   ]
  },
  {
   "cell_type": "code",
   "execution_count": 123,
   "metadata": {
    "collapsed": false
   },
   "outputs": [
    {
     "data": {
      "text/html": [
       "<div>\n",
       "<table border=\"1\" class=\"dataframe\">\n",
       "  <thead>\n",
       "    <tr style=\"text-align: right;\">\n",
       "      <th></th>\n",
       "      <th>business_id</th>\n",
       "      <th>Score</th>\n",
       "      <th>date</th>\n",
       "      <th>type</th>\n",
       "      <th>inspections_id</th>\n",
       "    </tr>\n",
       "  </thead>\n",
       "  <tbody>\n",
       "    <tr>\n",
       "      <th>0</th>\n",
       "      <td>10</td>\n",
       "      <td>NaN</td>\n",
       "      <td>20140807</td>\n",
       "      <td>Reinspection/Followup</td>\n",
       "      <td>0</td>\n",
       "    </tr>\n",
       "    <tr>\n",
       "      <th>1</th>\n",
       "      <td>10</td>\n",
       "      <td>94.0</td>\n",
       "      <td>20140729</td>\n",
       "      <td>Routine - Unscheduled</td>\n",
       "      <td>1</td>\n",
       "    </tr>\n",
       "    <tr>\n",
       "      <th>2</th>\n",
       "      <td>10</td>\n",
       "      <td>NaN</td>\n",
       "      <td>20140124</td>\n",
       "      <td>Reinspection/Followup</td>\n",
       "      <td>2</td>\n",
       "    </tr>\n",
       "    <tr>\n",
       "      <th>3</th>\n",
       "      <td>10</td>\n",
       "      <td>92.0</td>\n",
       "      <td>20140114</td>\n",
       "      <td>Routine - Unscheduled</td>\n",
       "      <td>3</td>\n",
       "    </tr>\n",
       "    <tr>\n",
       "      <th>4</th>\n",
       "      <td>19</td>\n",
       "      <td>94.0</td>\n",
       "      <td>20141110</td>\n",
       "      <td>Routine - Unscheduled</td>\n",
       "      <td>4</td>\n",
       "    </tr>\n",
       "  </tbody>\n",
       "</table>\n",
       "</div>"
      ],
      "text/plain": [
       "   business_id  Score      date                   type  inspections_id\n",
       "0           10    NaN  20140807  Reinspection/Followup               0\n",
       "1           10   94.0  20140729  Routine - Unscheduled               1\n",
       "2           10    NaN  20140124  Reinspection/Followup               2\n",
       "3           10   92.0  20140114  Routine - Unscheduled               3\n",
       "4           19   94.0  20141110  Routine - Unscheduled               4"
      ]
     },
     "execution_count": 123,
     "metadata": {},
     "output_type": "execute_result"
    }
   ],
   "source": [
    "inspections = pd.read_csv('./data/inspections_plus.csv', parse_dates=True)\n",
    "inspections.head()\n",
    "inspections['inspections_id']=inspections.index\n",
    "inspections.head()"
   ]
  },
  {
   "cell_type": "code",
   "execution_count": 124,
   "metadata": {
    "collapsed": false
   },
   "outputs": [
    {
     "data": {
      "text/html": [
       "<div>\n",
       "<table border=\"1\" class=\"dataframe\">\n",
       "  <thead>\n",
       "    <tr style=\"text-align: right;\">\n",
       "      <th></th>\n",
       "      <th>business_id</th>\n",
       "      <th>date</th>\n",
       "      <th>ViolationTypeID</th>\n",
       "      <th>risk_category</th>\n",
       "      <th>description</th>\n",
       "    </tr>\n",
       "  </thead>\n",
       "  <tbody>\n",
       "    <tr>\n",
       "      <th>0</th>\n",
       "      <td>10</td>\n",
       "      <td>20140114</td>\n",
       "      <td>103154</td>\n",
       "      <td>Low Risk</td>\n",
       "      <td>Unclean or degraded floors walls or ceilings</td>\n",
       "    </tr>\n",
       "    <tr>\n",
       "      <th>1</th>\n",
       "      <td>10</td>\n",
       "      <td>20140114</td>\n",
       "      <td>103119</td>\n",
       "      <td>Moderate Risk</td>\n",
       "      <td>Inadequate and inaccessible handwashing facili...</td>\n",
       "    </tr>\n",
       "    <tr>\n",
       "      <th>2</th>\n",
       "      <td>10</td>\n",
       "      <td>20140114</td>\n",
       "      <td>103145</td>\n",
       "      <td>Low Risk</td>\n",
       "      <td>Improper storage of equipment utensils or linens</td>\n",
       "    </tr>\n",
       "    <tr>\n",
       "      <th>3</th>\n",
       "      <td>10</td>\n",
       "      <td>20140729</td>\n",
       "      <td>103129</td>\n",
       "      <td>Moderate Risk</td>\n",
       "      <td>Insufficient hot water or running water</td>\n",
       "    </tr>\n",
       "    <tr>\n",
       "      <th>4</th>\n",
       "      <td>10</td>\n",
       "      <td>20140729</td>\n",
       "      <td>103144</td>\n",
       "      <td>Low Risk</td>\n",
       "      <td>Unapproved or unmaintained equipment or utensils</td>\n",
       "    </tr>\n",
       "  </tbody>\n",
       "</table>\n",
       "</div>"
      ],
      "text/plain": [
       "   business_id      date  ViolationTypeID  risk_category  \\\n",
       "0           10  20140114           103154       Low Risk   \n",
       "1           10  20140114           103119  Moderate Risk   \n",
       "2           10  20140114           103145       Low Risk   \n",
       "3           10  20140729           103129  Moderate Risk   \n",
       "4           10  20140729           103144       Low Risk   \n",
       "\n",
       "                                         description  \n",
       "0       Unclean or degraded floors walls or ceilings  \n",
       "1  Inadequate and inaccessible handwashing facili...  \n",
       "2   Improper storage of equipment utensils or linens  \n",
       "3            Insufficient hot water or running water  \n",
       "4   Unapproved or unmaintained equipment or utensils  "
      ]
     },
     "execution_count": 124,
     "metadata": {},
     "output_type": "execute_result"
    }
   ],
   "source": [
    "violations = pd.read_csv('./data/violations_plus.csv', parse_dates=True)\n",
    "violations.head()"
   ]
  },
  {
   "cell_type": "code",
   "execution_count": 125,
   "metadata": {
    "collapsed": false
   },
   "outputs": [
    {
     "data": {
      "text/html": [
       "<div>\n",
       "<table border=\"1\" class=\"dataframe\">\n",
       "  <thead>\n",
       "    <tr style=\"text-align: right;\">\n",
       "      <th></th>\n",
       "      <th>business_id</th>\n",
       "      <th>Score</th>\n",
       "      <th>date</th>\n",
       "      <th>type</th>\n",
       "      <th>inspections_id</th>\n",
       "      <th>ViolationTypeID</th>\n",
       "      <th>risk_category</th>\n",
       "      <th>description</th>\n",
       "      <th>name</th>\n",
       "      <th>address</th>\n",
       "      <th>...</th>\n",
       "      <th>longitude</th>\n",
       "      <th>phone_number</th>\n",
       "      <th>TaxCode</th>\n",
       "      <th>business_certificate</th>\n",
       "      <th>application_date</th>\n",
       "      <th>owner_name</th>\n",
       "      <th>owner_address</th>\n",
       "      <th>owner_city</th>\n",
       "      <th>owner_state</th>\n",
       "      <th>owner_zip</th>\n",
       "    </tr>\n",
       "  </thead>\n",
       "  <tbody>\n",
       "    <tr>\n",
       "      <th>0</th>\n",
       "      <td>10</td>\n",
       "      <td>92.0</td>\n",
       "      <td>20140114</td>\n",
       "      <td>Routine - Unscheduled</td>\n",
       "      <td>3</td>\n",
       "      <td>103154.0</td>\n",
       "      <td>Low Risk</td>\n",
       "      <td>Unclean or degraded floors walls or ceilings</td>\n",
       "      <td>Tiramisu Kitchen</td>\n",
       "      <td>033 Belden Pl</td>\n",
       "      <td>...</td>\n",
       "      <td>-122.403816</td>\n",
       "      <td>NaN</td>\n",
       "      <td>H24</td>\n",
       "      <td>779059.0</td>\n",
       "      <td>NaN</td>\n",
       "      <td>Tiramisu LLC</td>\n",
       "      <td>33 Belden St</td>\n",
       "      <td>San Francisco</td>\n",
       "      <td>CA</td>\n",
       "      <td>94104</td>\n",
       "    </tr>\n",
       "    <tr>\n",
       "      <th>1</th>\n",
       "      <td>10</td>\n",
       "      <td>92.0</td>\n",
       "      <td>20140114</td>\n",
       "      <td>Routine - Unscheduled</td>\n",
       "      <td>3</td>\n",
       "      <td>103119.0</td>\n",
       "      <td>Moderate Risk</td>\n",
       "      <td>Inadequate and inaccessible handwashing facili...</td>\n",
       "      <td>Tiramisu Kitchen</td>\n",
       "      <td>033 Belden Pl</td>\n",
       "      <td>...</td>\n",
       "      <td>-122.403816</td>\n",
       "      <td>NaN</td>\n",
       "      <td>H24</td>\n",
       "      <td>779059.0</td>\n",
       "      <td>NaN</td>\n",
       "      <td>Tiramisu LLC</td>\n",
       "      <td>33 Belden St</td>\n",
       "      <td>San Francisco</td>\n",
       "      <td>CA</td>\n",
       "      <td>94104</td>\n",
       "    </tr>\n",
       "    <tr>\n",
       "      <th>2</th>\n",
       "      <td>10</td>\n",
       "      <td>92.0</td>\n",
       "      <td>20140114</td>\n",
       "      <td>Routine - Unscheduled</td>\n",
       "      <td>3</td>\n",
       "      <td>103145.0</td>\n",
       "      <td>Low Risk</td>\n",
       "      <td>Improper storage of equipment utensils or linens</td>\n",
       "      <td>Tiramisu Kitchen</td>\n",
       "      <td>033 Belden Pl</td>\n",
       "      <td>...</td>\n",
       "      <td>-122.403816</td>\n",
       "      <td>NaN</td>\n",
       "      <td>H24</td>\n",
       "      <td>779059.0</td>\n",
       "      <td>NaN</td>\n",
       "      <td>Tiramisu LLC</td>\n",
       "      <td>33 Belden St</td>\n",
       "      <td>San Francisco</td>\n",
       "      <td>CA</td>\n",
       "      <td>94104</td>\n",
       "    </tr>\n",
       "    <tr>\n",
       "      <th>3</th>\n",
       "      <td>10</td>\n",
       "      <td>NaN</td>\n",
       "      <td>20140124</td>\n",
       "      <td>Reinspection/Followup</td>\n",
       "      <td>2</td>\n",
       "      <td>NaN</td>\n",
       "      <td>NaN</td>\n",
       "      <td>NaN</td>\n",
       "      <td>Tiramisu Kitchen</td>\n",
       "      <td>033 Belden Pl</td>\n",
       "      <td>...</td>\n",
       "      <td>-122.403816</td>\n",
       "      <td>NaN</td>\n",
       "      <td>H24</td>\n",
       "      <td>779059.0</td>\n",
       "      <td>NaN</td>\n",
       "      <td>Tiramisu LLC</td>\n",
       "      <td>33 Belden St</td>\n",
       "      <td>San Francisco</td>\n",
       "      <td>CA</td>\n",
       "      <td>94104</td>\n",
       "    </tr>\n",
       "    <tr>\n",
       "      <th>4</th>\n",
       "      <td>10</td>\n",
       "      <td>94.0</td>\n",
       "      <td>20140729</td>\n",
       "      <td>Routine - Unscheduled</td>\n",
       "      <td>1</td>\n",
       "      <td>103129.0</td>\n",
       "      <td>Moderate Risk</td>\n",
       "      <td>Insufficient hot water or running water</td>\n",
       "      <td>Tiramisu Kitchen</td>\n",
       "      <td>033 Belden Pl</td>\n",
       "      <td>...</td>\n",
       "      <td>-122.403816</td>\n",
       "      <td>NaN</td>\n",
       "      <td>H24</td>\n",
       "      <td>779059.0</td>\n",
       "      <td>NaN</td>\n",
       "      <td>Tiramisu LLC</td>\n",
       "      <td>33 Belden St</td>\n",
       "      <td>San Francisco</td>\n",
       "      <td>CA</td>\n",
       "      <td>94104</td>\n",
       "    </tr>\n",
       "  </tbody>\n",
       "</table>\n",
       "<p>5 rows × 23 columns</p>\n",
       "</div>"
      ],
      "text/plain": [
       "   business_id  Score      date                   type  inspections_id  \\\n",
       "0           10   92.0  20140114  Routine - Unscheduled               3   \n",
       "1           10   92.0  20140114  Routine - Unscheduled               3   \n",
       "2           10   92.0  20140114  Routine - Unscheduled               3   \n",
       "3           10    NaN  20140124  Reinspection/Followup               2   \n",
       "4           10   94.0  20140729  Routine - Unscheduled               1   \n",
       "\n",
       "   ViolationTypeID  risk_category  \\\n",
       "0         103154.0       Low Risk   \n",
       "1         103119.0  Moderate Risk   \n",
       "2         103145.0       Low Risk   \n",
       "3              NaN            NaN   \n",
       "4         103129.0  Moderate Risk   \n",
       "\n",
       "                                         description              name  \\\n",
       "0       Unclean or degraded floors walls or ceilings  Tiramisu Kitchen   \n",
       "1  Inadequate and inaccessible handwashing facili...  Tiramisu Kitchen   \n",
       "2   Improper storage of equipment utensils or linens  Tiramisu Kitchen   \n",
       "3                                                NaN  Tiramisu Kitchen   \n",
       "4            Insufficient hot water or running water  Tiramisu Kitchen   \n",
       "\n",
       "         address    ...      longitude phone_number  TaxCode  \\\n",
       "0  033 Belden Pl    ...    -122.403816          NaN      H24   \n",
       "1  033 Belden Pl    ...    -122.403816          NaN      H24   \n",
       "2  033 Belden Pl    ...    -122.403816          NaN      H24   \n",
       "3  033 Belden Pl    ...    -122.403816          NaN      H24   \n",
       "4  033 Belden Pl    ...    -122.403816          NaN      H24   \n",
       "\n",
       "   business_certificate application_date    owner_name  owner_address  \\\n",
       "0              779059.0              NaN  Tiramisu LLC   33 Belden St   \n",
       "1              779059.0              NaN  Tiramisu LLC   33 Belden St   \n",
       "2              779059.0              NaN  Tiramisu LLC   33 Belden St   \n",
       "3              779059.0              NaN  Tiramisu LLC   33 Belden St   \n",
       "4              779059.0              NaN  Tiramisu LLC   33 Belden St   \n",
       "\n",
       "      owner_city owner_state owner_zip  \n",
       "0  San Francisco          CA     94104  \n",
       "1  San Francisco          CA     94104  \n",
       "2  San Francisco          CA     94104  \n",
       "3  San Francisco          CA     94104  \n",
       "4  San Francisco          CA     94104  \n",
       "\n",
       "[5 rows x 23 columns]"
      ]
     },
     "execution_count": 125,
     "metadata": {},
     "output_type": "execute_result"
    }
   ],
   "source": [
    "# 1 Combine the three dataframes into one data frame called restaurant_scores\n",
    "# Hint: http://pandas.pydata.org/pandas-docs/stable/merging.html\n",
    "\n",
    "restaurant_scores = pd.merge(businesses, inspections, on='business_id', how='inner')\n",
    "restaurant_scores = pd.merge(restaurant_scores, violations, on='business_id', how='inner')\n",
    "restaurant_scores.head()"
   ]
  },
  {
   "cell_type": "code",
   "execution_count": 126,
   "metadata": {
    "collapsed": false
   },
   "outputs": [
    {
     "data": {
      "text/plain": [
       "23"
      ]
     },
     "execution_count": 126,
     "metadata": {},
     "output_type": "execute_result"
    }
   ],
   "source": [
    "len(restaurant_scores.columns)"
   ]
  },
  {
   "cell_type": "code",
   "execution_count": 129,
   "metadata": {
    "collapsed": false
   },
   "outputs": [
    {
     "data": {
      "text/html": [
       "<div>\n",
       "<table border=\"1\" class=\"dataframe\">\n",
       "  <thead>\n",
       "    <tr style=\"text-align: right;\">\n",
       "      <th></th>\n",
       "      <th>business_id</th>\n",
       "      <th>Score</th>\n",
       "      <th>date</th>\n",
       "      <th>type</th>\n",
       "      <th>inspections_id</th>\n",
       "      <th>ViolationTypeID</th>\n",
       "      <th>risk_category</th>\n",
       "      <th>description</th>\n",
       "      <th>name</th>\n",
       "      <th>address</th>\n",
       "      <th>...</th>\n",
       "      <th>TaxCode</th>\n",
       "      <th>business_certificate</th>\n",
       "      <th>application_date</th>\n",
       "      <th>owner_name</th>\n",
       "      <th>owner_address</th>\n",
       "      <th>owner_city</th>\n",
       "      <th>owner_state</th>\n",
       "      <th>owner_zip</th>\n",
       "      <th>new_date</th>\n",
       "      <th>month</th>\n",
       "    </tr>\n",
       "  </thead>\n",
       "  <tbody>\n",
       "    <tr>\n",
       "      <th>0</th>\n",
       "      <td>10</td>\n",
       "      <td>92.0</td>\n",
       "      <td>20140114</td>\n",
       "      <td>Routine - Unscheduled</td>\n",
       "      <td>3</td>\n",
       "      <td>103154.0</td>\n",
       "      <td>Low Risk</td>\n",
       "      <td>Unclean or degraded floors walls or ceilings</td>\n",
       "      <td>Tiramisu Kitchen</td>\n",
       "      <td>033 Belden Pl</td>\n",
       "      <td>...</td>\n",
       "      <td>H24</td>\n",
       "      <td>779059.0</td>\n",
       "      <td>NaN</td>\n",
       "      <td>Tiramisu LLC</td>\n",
       "      <td>33 Belden St</td>\n",
       "      <td>San Francisco</td>\n",
       "      <td>CA</td>\n",
       "      <td>94104</td>\n",
       "      <td>2014-01-14</td>\n",
       "      <td>1</td>\n",
       "    </tr>\n",
       "    <tr>\n",
       "      <th>1</th>\n",
       "      <td>10</td>\n",
       "      <td>92.0</td>\n",
       "      <td>20140114</td>\n",
       "      <td>Routine - Unscheduled</td>\n",
       "      <td>3</td>\n",
       "      <td>103119.0</td>\n",
       "      <td>Moderate Risk</td>\n",
       "      <td>Inadequate and inaccessible handwashing facili...</td>\n",
       "      <td>Tiramisu Kitchen</td>\n",
       "      <td>033 Belden Pl</td>\n",
       "      <td>...</td>\n",
       "      <td>H24</td>\n",
       "      <td>779059.0</td>\n",
       "      <td>NaN</td>\n",
       "      <td>Tiramisu LLC</td>\n",
       "      <td>33 Belden St</td>\n",
       "      <td>San Francisco</td>\n",
       "      <td>CA</td>\n",
       "      <td>94104</td>\n",
       "      <td>2014-01-14</td>\n",
       "      <td>1</td>\n",
       "    </tr>\n",
       "    <tr>\n",
       "      <th>2</th>\n",
       "      <td>10</td>\n",
       "      <td>92.0</td>\n",
       "      <td>20140114</td>\n",
       "      <td>Routine - Unscheduled</td>\n",
       "      <td>3</td>\n",
       "      <td>103145.0</td>\n",
       "      <td>Low Risk</td>\n",
       "      <td>Improper storage of equipment utensils or linens</td>\n",
       "      <td>Tiramisu Kitchen</td>\n",
       "      <td>033 Belden Pl</td>\n",
       "      <td>...</td>\n",
       "      <td>H24</td>\n",
       "      <td>779059.0</td>\n",
       "      <td>NaN</td>\n",
       "      <td>Tiramisu LLC</td>\n",
       "      <td>33 Belden St</td>\n",
       "      <td>San Francisco</td>\n",
       "      <td>CA</td>\n",
       "      <td>94104</td>\n",
       "      <td>2014-01-14</td>\n",
       "      <td>1</td>\n",
       "    </tr>\n",
       "    <tr>\n",
       "      <th>3</th>\n",
       "      <td>10</td>\n",
       "      <td>NaN</td>\n",
       "      <td>20140124</td>\n",
       "      <td>Reinspection/Followup</td>\n",
       "      <td>2</td>\n",
       "      <td>NaN</td>\n",
       "      <td>NaN</td>\n",
       "      <td>NaN</td>\n",
       "      <td>Tiramisu Kitchen</td>\n",
       "      <td>033 Belden Pl</td>\n",
       "      <td>...</td>\n",
       "      <td>H24</td>\n",
       "      <td>779059.0</td>\n",
       "      <td>NaN</td>\n",
       "      <td>Tiramisu LLC</td>\n",
       "      <td>33 Belden St</td>\n",
       "      <td>San Francisco</td>\n",
       "      <td>CA</td>\n",
       "      <td>94104</td>\n",
       "      <td>2014-01-24</td>\n",
       "      <td>1</td>\n",
       "    </tr>\n",
       "    <tr>\n",
       "      <th>4</th>\n",
       "      <td>10</td>\n",
       "      <td>94.0</td>\n",
       "      <td>20140729</td>\n",
       "      <td>Routine - Unscheduled</td>\n",
       "      <td>1</td>\n",
       "      <td>103129.0</td>\n",
       "      <td>Moderate Risk</td>\n",
       "      <td>Insufficient hot water or running water</td>\n",
       "      <td>Tiramisu Kitchen</td>\n",
       "      <td>033 Belden Pl</td>\n",
       "      <td>...</td>\n",
       "      <td>H24</td>\n",
       "      <td>779059.0</td>\n",
       "      <td>NaN</td>\n",
       "      <td>Tiramisu LLC</td>\n",
       "      <td>33 Belden St</td>\n",
       "      <td>San Francisco</td>\n",
       "      <td>CA</td>\n",
       "      <td>94104</td>\n",
       "      <td>2014-07-29</td>\n",
       "      <td>7</td>\n",
       "    </tr>\n",
       "  </tbody>\n",
       "</table>\n",
       "<p>5 rows × 25 columns</p>\n",
       "</div>"
      ],
      "text/plain": [
       "   business_id  Score      date                   type  inspections_id  \\\n",
       "0           10   92.0  20140114  Routine - Unscheduled               3   \n",
       "1           10   92.0  20140114  Routine - Unscheduled               3   \n",
       "2           10   92.0  20140114  Routine - Unscheduled               3   \n",
       "3           10    NaN  20140124  Reinspection/Followup               2   \n",
       "4           10   94.0  20140729  Routine - Unscheduled               1   \n",
       "\n",
       "   ViolationTypeID  risk_category  \\\n",
       "0         103154.0       Low Risk   \n",
       "1         103119.0  Moderate Risk   \n",
       "2         103145.0       Low Risk   \n",
       "3              NaN            NaN   \n",
       "4         103129.0  Moderate Risk   \n",
       "\n",
       "                                         description              name  \\\n",
       "0       Unclean or degraded floors walls or ceilings  Tiramisu Kitchen   \n",
       "1  Inadequate and inaccessible handwashing facili...  Tiramisu Kitchen   \n",
       "2   Improper storage of equipment utensils or linens  Tiramisu Kitchen   \n",
       "3                                                NaN  Tiramisu Kitchen   \n",
       "4            Insufficient hot water or running water  Tiramisu Kitchen   \n",
       "\n",
       "         address  ...  TaxCode business_certificate  application_date  \\\n",
       "0  033 Belden Pl  ...      H24             779059.0               NaN   \n",
       "1  033 Belden Pl  ...      H24             779059.0               NaN   \n",
       "2  033 Belden Pl  ...      H24             779059.0               NaN   \n",
       "3  033 Belden Pl  ...      H24             779059.0               NaN   \n",
       "4  033 Belden Pl  ...      H24             779059.0               NaN   \n",
       "\n",
       "     owner_name owner_address     owner_city  owner_state owner_zip  \\\n",
       "0  Tiramisu LLC  33 Belden St  San Francisco           CA     94104   \n",
       "1  Tiramisu LLC  33 Belden St  San Francisco           CA     94104   \n",
       "2  Tiramisu LLC  33 Belden St  San Francisco           CA     94104   \n",
       "3  Tiramisu LLC  33 Belden St  San Francisco           CA     94104   \n",
       "4  Tiramisu LLC  33 Belden St  San Francisco           CA     94104   \n",
       "\n",
       "    new_date month  \n",
       "0 2014-01-14     1  \n",
       "1 2014-01-14     1  \n",
       "2 2014-01-14     1  \n",
       "3 2014-01-24     1  \n",
       "4 2014-07-29     7  \n",
       "\n",
       "[5 rows x 25 columns]"
      ]
     },
     "execution_count": 129,
     "metadata": {},
     "output_type": "execute_result"
    }
   ],
   "source": [
    "restaurant_scores['new_date']=pd.to_datetime(restaurant_scores.date,format='%Y%m%d')\n",
    "restaurant_scores['month'] = restaurant_scores.new_date.apply(lambda x:x.month)\n",
    "restaurant_scores.head()\n",
    "# restaurant_scores.groupby(['date'])\n",
    "# freq = restaurant_scores.date_y.apply(lambda x:str(x)[:6])\n",
    "# freq.value_counts().head()"
   ]
  },
  {
   "cell_type": "code",
   "execution_count": 131,
   "metadata": {
    "collapsed": false
   },
   "outputs": [
    {
     "data": {
      "text/plain": [
       "<matplotlib.axes._subplots.AxesSubplot at 0xa7f1b00>"
      ]
     },
     "execution_count": 131,
     "metadata": {},
     "output_type": "execute_result"
    },
    {
     "data": {
      "image/png": "[encoded data removed]",
      "text/plain": [
       "<matplotlib.figure.Figure at 0x96305f8>"
      ]
     },
     "metadata": {},
     "output_type": "display_data"
    }
   ],
   "source": [
    "restaurant_scores.groupby('month').inspections_id.nunique().plot(kind='bar')\n",
    "\n",
    "# df = pd.DataFrame(freq)\n",
    "# # df.reset_index(inplace=True)\n",
    "# df.head()"
   ]
  },
  {
   "cell_type": "code",
   "execution_count": null,
   "metadata": {
    "collapsed": true
   },
   "outputs": [],
   "source": [
    "# which 10 businesses have the most inspections\n",
    "\n",
    "newframe=pd.DataFrame(restaurant_scores.business_id.value_counts(ascending=False)).reset_index()\n",
    "newframe.head()"
   ]
  },
  {
   "cell_type": "code",
   "execution_count": 90,
   "metadata": {
    "collapsed": false
   },
   "outputs": [
    {
     "ename": "ValueError",
     "evalue": "Length of values does not match length of index",
     "output_type": "error",
     "traceback": [
      "\u001b[0;31m\u001b[0m",
      "\u001b[0;31mValueError\u001b[0mTraceback (most recent call last)",
      "\u001b[0;32m<ipython-input-90-22eabc44a323>\u001b[0m in \u001b[0;36m<module>\u001b[0;34m()\u001b[0m\n\u001b[0;32m----> 1\u001b[0;31m \u001b[0mdf\u001b[0m\u001b[1;33m[\u001b[0m\u001b[1;34m'date'\u001b[0m\u001b[1;33m]\u001b[0m\u001b[1;33m=\u001b[0m\u001b[0mfreq\u001b[0m\u001b[1;33m.\u001b[0m\u001b[0mvalue_counts\u001b[0m\u001b[1;33m(\u001b[0m\u001b[1;33m)\u001b[0m\u001b[1;33m.\u001b[0m\u001b[0mindex\u001b[0m\u001b[1;33m\u001b[0m\u001b[0m\n\u001b[0m",
      "\u001b[0;32mC:\\Users\\Eugene\\Anaconda2\\envs\\bersonenv\\lib\\site-packages\\pandas\\core\\frame.pyc\u001b[0m in \u001b[0;36m__setitem__\u001b[0;34m(self, key, value)\u001b[0m\n\u001b[1;32m   2355\u001b[0m         \u001b[1;32melse\u001b[0m\u001b[1;33m:\u001b[0m\u001b[1;33m\u001b[0m\u001b[0m\n\u001b[1;32m   2356\u001b[0m             \u001b[1;31m# set column\u001b[0m\u001b[1;33m\u001b[0m\u001b[1;33m\u001b[0m\u001b[0m\n\u001b[0;32m-> 2357\u001b[0;31m             \u001b[0mself\u001b[0m\u001b[1;33m.\u001b[0m\u001b[0m_set_item\u001b[0m\u001b[1;33m(\u001b[0m\u001b[0mkey\u001b[0m\u001b[1;33m,\u001b[0m \u001b[0mvalue\u001b[0m\u001b[1;33m)\u001b[0m\u001b[1;33m\u001b[0m\u001b[0m\n\u001b[0m\u001b[1;32m   2358\u001b[0m \u001b[1;33m\u001b[0m\u001b[0m\n\u001b[1;32m   2359\u001b[0m     \u001b[1;32mdef\u001b[0m \u001b[0m_setitem_slice\u001b[0m\u001b[1;33m(\u001b[0m\u001b[0mself\u001b[0m\u001b[1;33m,\u001b[0m \u001b[0mkey\u001b[0m\u001b[1;33m,\u001b[0m \u001b[0mvalue\u001b[0m\u001b[1;33m)\u001b[0m\u001b[1;33m:\u001b[0m\u001b[1;33m\u001b[0m\u001b[0m\n",
      "\u001b[0;32mC:\\Users\\Eugene\\Anaconda2\\envs\\bersonenv\\lib\\site-packages\\pandas\\core\\frame.pyc\u001b[0m in \u001b[0;36m_set_item\u001b[0;34m(self, key, value)\u001b[0m\n\u001b[1;32m   2421\u001b[0m \u001b[1;33m\u001b[0m\u001b[0m\n\u001b[1;32m   2422\u001b[0m         \u001b[0mself\u001b[0m\u001b[1;33m.\u001b[0m\u001b[0m_ensure_valid_index\u001b[0m\u001b[1;33m(\u001b[0m\u001b[0mvalue\u001b[0m\u001b[1;33m)\u001b[0m\u001b[1;33m\u001b[0m\u001b[0m\n\u001b[0;32m-> 2423\u001b[0;31m         \u001b[0mvalue\u001b[0m \u001b[1;33m=\u001b[0m \u001b[0mself\u001b[0m\u001b[1;33m.\u001b[0m\u001b[0m_sanitize_column\u001b[0m\u001b[1;33m(\u001b[0m\u001b[0mkey\u001b[0m\u001b[1;33m,\u001b[0m \u001b[0mvalue\u001b[0m\u001b[1;33m)\u001b[0m\u001b[1;33m\u001b[0m\u001b[0m\n\u001b[0m\u001b[1;32m   2424\u001b[0m         \u001b[0mNDFrame\u001b[0m\u001b[1;33m.\u001b[0m\u001b[0m_set_item\u001b[0m\u001b[1;33m(\u001b[0m\u001b[0mself\u001b[0m\u001b[1;33m,\u001b[0m \u001b[0mkey\u001b[0m\u001b[1;33m,\u001b[0m \u001b[0mvalue\u001b[0m\u001b[1;33m)\u001b[0m\u001b[1;33m\u001b[0m\u001b[0m\n\u001b[1;32m   2425\u001b[0m \u001b[1;33m\u001b[0m\u001b[0m\n",
      "\u001b[0;32mC:\\Users\\Eugene\\Anaconda2\\envs\\bersonenv\\lib\\site-packages\\pandas\\core\\frame.pyc\u001b[0m in \u001b[0;36m_sanitize_column\u001b[0;34m(self, key, value)\u001b[0m\n\u001b[1;32m   2576\u001b[0m \u001b[1;33m\u001b[0m\u001b[0m\n\u001b[1;32m   2577\u001b[0m             \u001b[1;31m# turn me into an ndarray\u001b[0m\u001b[1;33m\u001b[0m\u001b[1;33m\u001b[0m\u001b[0m\n\u001b[0;32m-> 2578\u001b[0;31m             \u001b[0mvalue\u001b[0m \u001b[1;33m=\u001b[0m \u001b[0m_sanitize_index\u001b[0m\u001b[1;33m(\u001b[0m\u001b[0mvalue\u001b[0m\u001b[1;33m,\u001b[0m \u001b[0mself\u001b[0m\u001b[1;33m.\u001b[0m\u001b[0mindex\u001b[0m\u001b[1;33m,\u001b[0m \u001b[0mcopy\u001b[0m\u001b[1;33m=\u001b[0m\u001b[0mFalse\u001b[0m\u001b[1;33m)\u001b[0m\u001b[1;33m\u001b[0m\u001b[0m\n\u001b[0m\u001b[1;32m   2579\u001b[0m             \u001b[1;32mif\u001b[0m \u001b[1;32mnot\u001b[0m \u001b[0misinstance\u001b[0m\u001b[1;33m(\u001b[0m\u001b[0mvalue\u001b[0m\u001b[1;33m,\u001b[0m \u001b[1;33m(\u001b[0m\u001b[0mnp\u001b[0m\u001b[1;33m.\u001b[0m\u001b[0mndarray\u001b[0m\u001b[1;33m,\u001b[0m \u001b[0mIndex\u001b[0m\u001b[1;33m)\u001b[0m\u001b[1;33m)\u001b[0m\u001b[1;33m:\u001b[0m\u001b[1;33m\u001b[0m\u001b[0m\n\u001b[1;32m   2580\u001b[0m                 \u001b[1;32mif\u001b[0m \u001b[0misinstance\u001b[0m\u001b[1;33m(\u001b[0m\u001b[0mvalue\u001b[0m\u001b[1;33m,\u001b[0m \u001b[0mlist\u001b[0m\u001b[1;33m)\u001b[0m \u001b[1;32mand\u001b[0m \u001b[0mlen\u001b[0m\u001b[1;33m(\u001b[0m\u001b[0mvalue\u001b[0m\u001b[1;33m)\u001b[0m \u001b[1;33m>\u001b[0m \u001b[1;36m0\u001b[0m\u001b[1;33m:\u001b[0m\u001b[1;33m\u001b[0m\u001b[0m\n",
      "\u001b[0;32mC:\\Users\\Eugene\\Anaconda2\\envs\\bersonenv\\lib\\site-packages\\pandas\\core\\series.pyc\u001b[0m in \u001b[0;36m_sanitize_index\u001b[0;34m(data, index, copy)\u001b[0m\n\u001b[1;32m   2768\u001b[0m \u001b[1;33m\u001b[0m\u001b[0m\n\u001b[1;32m   2769\u001b[0m     \u001b[1;32mif\u001b[0m \u001b[0mlen\u001b[0m\u001b[1;33m(\u001b[0m\u001b[0mdata\u001b[0m\u001b[1;33m)\u001b[0m \u001b[1;33m!=\u001b[0m \u001b[0mlen\u001b[0m\u001b[1;33m(\u001b[0m\u001b[0mindex\u001b[0m\u001b[1;33m)\u001b[0m\u001b[1;33m:\u001b[0m\u001b[1;33m\u001b[0m\u001b[0m\n\u001b[0;32m-> 2770\u001b[0;31m         \u001b[1;32mraise\u001b[0m \u001b[0mValueError\u001b[0m\u001b[1;33m(\u001b[0m\u001b[1;34m'Length of values does not match length of '\u001b[0m \u001b[1;34m'index'\u001b[0m\u001b[1;33m)\u001b[0m\u001b[1;33m\u001b[0m\u001b[0m\n\u001b[0m\u001b[1;32m   2771\u001b[0m \u001b[1;33m\u001b[0m\u001b[0m\n\u001b[1;32m   2772\u001b[0m     \u001b[1;32mif\u001b[0m \u001b[0misinstance\u001b[0m\u001b[1;33m(\u001b[0m\u001b[0mdata\u001b[0m\u001b[1;33m,\u001b[0m \u001b[0mPeriodIndex\u001b[0m\u001b[1;33m)\u001b[0m\u001b[1;33m:\u001b[0m\u001b[1;33m\u001b[0m\u001b[0m\n",
      "\u001b[0;31mValueError\u001b[0m: Length of values does not match length of index"
     ]
    }
   ],
   "source": [
    "df['date']=freq.value_counts().index"
   ]
  },
  {
   "cell_type": "code",
   "execution_count": 30,
   "metadata": {
    "collapsed": false
   },
   "outputs": [
    {
     "data": {
      "text/html": [
       "<div>\n",
       "<table border=\"1\" class=\"dataframe\">\n",
       "  <thead>\n",
       "    <tr style=\"text-align: right;\">\n",
       "      <th></th>\n",
       "      <th>insp_type</th>\n",
       "      <th>count</th>\n",
       "    </tr>\n",
       "  </thead>\n",
       "  <tbody>\n",
       "    <tr>\n",
       "      <th>0</th>\n",
       "      <td>Routine - Unscheduled</td>\n",
       "      <td>128015</td>\n",
       "    </tr>\n",
       "    <tr>\n",
       "      <th>1</th>\n",
       "      <td>Reinspection/Followup</td>\n",
       "      <td>67793</td>\n",
       "    </tr>\n",
       "    <tr>\n",
       "      <th>2</th>\n",
       "      <td>Complaint</td>\n",
       "      <td>18157</td>\n",
       "    </tr>\n",
       "    <tr>\n",
       "      <th>3</th>\n",
       "      <td>New Ownership</td>\n",
       "      <td>8646</td>\n",
       "    </tr>\n",
       "    <tr>\n",
       "      <th>4</th>\n",
       "      <td>Non-inspection site visit</td>\n",
       "      <td>7683</td>\n",
       "    </tr>\n",
       "  </tbody>\n",
       "</table>\n",
       "</div>"
      ],
      "text/plain": [
       "                   insp_type   count\n",
       "0      Routine - Unscheduled  128015\n",
       "1      Reinspection/Followup   67793\n",
       "2                  Complaint   18157\n",
       "3              New Ownership    8646\n",
       "4  Non-inspection site visit    7683"
      ]
     },
     "execution_count": 30,
     "metadata": {},
     "output_type": "execute_result"
    }
   ],
   "source": [
    "# 3 Group and count the inspections by type\n",
    "newframe1 = pd.DataFrame(restaurant_scores.type.value_counts(ascending=False)).reset_index()\n",
    "newframe1.rename(columns={'index': 'insp_type','type':'count'}, inplace=True)\n",
    "newframe1.head()"
   ]
  },
  {
   "cell_type": "code",
   "execution_count": null,
   "metadata": {
    "collapsed": false
   },
   "outputs": [],
   "source": []
  },
  {
   "cell_type": "code",
   "execution_count": 96,
   "metadata": {
    "collapsed": false
   },
   "outputs": [
    {
     "ename": "AttributeError",
     "evalue": "'DataFrame' object has no attribute 'value_counts'",
     "output_type": "error",
     "traceback": [
      "\u001b[0;31m\u001b[0m",
      "\u001b[0;31mAttributeError\u001b[0mTraceback (most recent call last)",
      "\u001b[0;32m<ipython-input-96-99a710b881a5>\u001b[0m in \u001b[0;36m<module>\u001b[0;34m()\u001b[0m\n\u001b[1;32m      6\u001b[0m \u001b[1;32mimport\u001b[0m \u001b[0mmatplotlib\u001b[0m\u001b[1;33m.\u001b[0m\u001b[0mpyplot\u001b[0m \u001b[1;32mas\u001b[0m \u001b[0mplt\u001b[0m\u001b[1;33m\u001b[0m\u001b[0m\n\u001b[1;32m      7\u001b[0m \u001b[0mget_ipython\u001b[0m\u001b[1;33m(\u001b[0m\u001b[1;33m)\u001b[0m\u001b[1;33m.\u001b[0m\u001b[0mmagic\u001b[0m\u001b[1;33m(\u001b[0m\u001b[1;34mu'matplotlib inline'\u001b[0m\u001b[1;33m)\u001b[0m\u001b[1;33m\u001b[0m\u001b[0m\n\u001b[0;32m----> 8\u001b[0;31m \u001b[0mdf\u001b[0m\u001b[1;33m.\u001b[0m\u001b[0mvalue_counts\u001b[0m\u001b[1;33m(\u001b[0m\u001b[1;33m)\u001b[0m\u001b[1;33m.\u001b[0m\u001b[0mplot\u001b[0m\u001b[1;33m(\u001b[0m\u001b[0mkind\u001b[0m\u001b[1;33m=\u001b[0m\u001b[1;34m'scatter'\u001b[0m\u001b[1;33m)\u001b[0m\u001b[1;33m\u001b[0m\u001b[0m\n\u001b[0m",
      "\u001b[0;32mC:\\Users\\Eugene\\Anaconda2\\envs\\bersonenv\\lib\\site-packages\\pandas\\core\\generic.pyc\u001b[0m in \u001b[0;36m__getattr__\u001b[0;34m(self, name)\u001b[0m\n\u001b[1;32m   2670\u001b[0m             \u001b[1;32mif\u001b[0m \u001b[0mname\u001b[0m \u001b[1;32min\u001b[0m \u001b[0mself\u001b[0m\u001b[1;33m.\u001b[0m\u001b[0m_info_axis\u001b[0m\u001b[1;33m:\u001b[0m\u001b[1;33m\u001b[0m\u001b[0m\n\u001b[1;32m   2671\u001b[0m                 \u001b[1;32mreturn\u001b[0m \u001b[0mself\u001b[0m\u001b[1;33m[\u001b[0m\u001b[0mname\u001b[0m\u001b[1;33m]\u001b[0m\u001b[1;33m\u001b[0m\u001b[0m\n\u001b[0;32m-> 2672\u001b[0;31m             \u001b[1;32mreturn\u001b[0m \u001b[0mobject\u001b[0m\u001b[1;33m.\u001b[0m\u001b[0m__getattribute__\u001b[0m\u001b[1;33m(\u001b[0m\u001b[0mself\u001b[0m\u001b[1;33m,\u001b[0m \u001b[0mname\u001b[0m\u001b[1;33m)\u001b[0m\u001b[1;33m\u001b[0m\u001b[0m\n\u001b[0m\u001b[1;32m   2673\u001b[0m \u001b[1;33m\u001b[0m\u001b[0m\n\u001b[1;32m   2674\u001b[0m     \u001b[1;32mdef\u001b[0m \u001b[0m__setattr__\u001b[0m\u001b[1;33m(\u001b[0m\u001b[0mself\u001b[0m\u001b[1;33m,\u001b[0m \u001b[0mname\u001b[0m\u001b[1;33m,\u001b[0m \u001b[0mvalue\u001b[0m\u001b[1;33m)\u001b[0m\u001b[1;33m:\u001b[0m\u001b[1;33m\u001b[0m\u001b[0m\n",
      "\u001b[0;31mAttributeError\u001b[0m: 'DataFrame' object has no attribute 'value_counts'"
     ]
    }
   ],
   "source": [
    "# 4 Create a plot that shows number of inspections per month\n",
    "# Bonus for creating a heatmap\n",
    "# http://stanford.edu/~mwaskom/software/seaborn/generated/seaborn.heatmap.html?highlight=heatmap\n",
    "\n",
    "import numpy as np\n",
    "import matplotlib.pyplot as plt\n",
    "%matplotlib inline\n",
    "df.value_counts().plot(kind='scatter')"
   ]
  },
  {
   "cell_type": "code",
   "execution_count": null,
   "metadata": {
    "collapsed": true
   },
   "outputs": [],
   "source": [
    "# 5 Which zip code contains the most high risk violations?"
   ]
  },
  {
   "cell_type": "code",
   "execution_count": null,
   "metadata": {
    "collapsed": true
   },
   "outputs": [],
   "source": [
    "# 6 If inspection is prompted by a change in restaurant ownership, \n",
    "# is the inspection more likely to be categorized as higher or lower risk?"
   ]
  },
  {
   "cell_type": "code",
   "execution_count": null,
   "metadata": {
    "collapsed": true
   },
   "outputs": [],
   "source": [
    "# 7 Examining the descriptions, what is the most common violation?"
   ]
  },
  {
   "cell_type": "code",
   "execution_count": null,
   "metadata": {
    "collapsed": true
   },
   "outputs": [],
   "source": [
    "# 8 Create a hist of the scores with 10 bins"
   ]
  },
  {
   "cell_type": "code",
   "execution_count": null,
   "metadata": {
    "collapsed": true
   },
   "outputs": [],
   "source": [
    "# 9 Can you predict risk category based on the other features in this dataset?"
   ]
  },
  {
   "cell_type": "code",
   "execution_count": null,
   "metadata": {
    "collapsed": true
   },
   "outputs": [],
   "source": [
    "# 10 Extra Credit:\n",
    "# Use Instagram location API to find pictures taken at the lat, long of the most High Risk restaurant\n",
    "# https://www.instagram.com/developer/endpoints/locations/"
   ]
  },
  {
   "cell_type": "code",
   "execution_count": null,
   "metadata": {
    "collapsed": true
   },
   "outputs": [],
   "source": [
    "############################\n",
    "### A Little More Morbid ###\n",
    "############################"
   ]
  },
  {
   "cell_type": "code",
   "execution_count": null,
   "metadata": {
    "collapsed": false
   },
   "outputs": [],
   "source": [
    "killings = pd.read_csv('./data/police-killings.csv')\n",
    "killings.head()"
   ]
  },
  {
   "cell_type": "code",
   "execution_count": null,
   "metadata": {
    "collapsed": true
   },
   "outputs": [],
   "source": [
    "# 1. Make the following changed to column names:\n",
    "# lawenforcementagency -> agency\n",
    "# raceethnicity        -> race"
   ]
  },
  {
   "cell_type": "code",
   "execution_count": null,
   "metadata": {
    "collapsed": true
   },
   "outputs": [],
   "source": [
    "# 2. Show the count of missing values in each column"
   ]
  },
  {
   "cell_type": "code",
   "execution_count": null,
   "metadata": {
    "collapsed": true
   },
   "outputs": [],
   "source": [
    "# 3. replace each null value in the dataframe with the string \"Unknown\""
   ]
  },
  {
   "cell_type": "code",
   "execution_count": null,
   "metadata": {
    "collapsed": true
   },
   "outputs": [],
   "source": [
    "# 4. How many killings were there so far in 2015?"
   ]
  },
  {
   "cell_type": "code",
   "execution_count": null,
   "metadata": {
    "collapsed": true
   },
   "outputs": [],
   "source": [
    "# 5. Of all killings, how many were male and how many female?"
   ]
  },
  {
   "cell_type": "code",
   "execution_count": null,
   "metadata": {
    "collapsed": true
   },
   "outputs": [],
   "source": [
    "# 6. How many killings were of unarmed people?"
   ]
  },
  {
   "cell_type": "code",
   "execution_count": null,
   "metadata": {
    "collapsed": true
   },
   "outputs": [],
   "source": [
    "# 7. What percentage of all killings were unarmed?"
   ]
  },
  {
   "cell_type": "code",
   "execution_count": null,
   "metadata": {
    "collapsed": true
   },
   "outputs": [],
   "source": [
    "# 8. What are the 5 states with the most killings?"
   ]
  },
  {
   "cell_type": "code",
   "execution_count": null,
   "metadata": {
    "collapsed": true
   },
   "outputs": [],
   "source": [
    "# 9. Show a value counts of deaths for each race"
   ]
  },
  {
   "cell_type": "code",
   "execution_count": null,
   "metadata": {
    "collapsed": true
   },
   "outputs": [],
   "source": [
    "# 10. Display a histogram of ages of all killings"
   ]
  },
  {
   "cell_type": "code",
   "execution_count": null,
   "metadata": {
    "collapsed": true
   },
   "outputs": [],
   "source": [
    "# 11. Show 6 histograms of ages by race"
   ]
  },
  {
   "cell_type": "code",
   "execution_count": null,
   "metadata": {
    "collapsed": true
   },
   "outputs": [],
   "source": [
    "# 12. What is the average age of death by race?"
   ]
  },
  {
   "cell_type": "code",
   "execution_count": null,
   "metadata": {
    "collapsed": true
   },
   "outputs": [],
   "source": [
    "# 13. Show a bar chart with counts of deaths every month"
   ]
  },
  {
   "cell_type": "code",
   "execution_count": null,
   "metadata": {
    "collapsed": true
   },
   "outputs": [],
   "source": [
    "###################\n",
    "### Less Morbid ###\n",
    "###################"
   ]
  },
  {
   "cell_type": "code",
   "execution_count": null,
   "metadata": {
    "collapsed": false
   },
   "outputs": [],
   "source": [
    "majors = pd.read_csv('./data/college-majors.csv')\n",
    "majors.head()"
   ]
  },
  {
   "cell_type": "code",
   "execution_count": null,
   "metadata": {
    "collapsed": true
   },
   "outputs": [],
   "source": [
    "# 1. Delete the columns (employed_full_time_year_round, major_code)"
   ]
  },
  {
   "cell_type": "code",
   "execution_count": null,
   "metadata": {
    "collapsed": true
   },
   "outputs": [],
   "source": [
    "# 2. Show the cout of missing values in each column"
   ]
  },
  {
   "cell_type": "code",
   "execution_count": null,
   "metadata": {
    "collapsed": true
   },
   "outputs": [],
   "source": [
    "# 3. What are the top 10 highest paying majors?"
   ]
  },
  {
   "cell_type": "code",
   "execution_count": null,
   "metadata": {
    "collapsed": true
   },
   "outputs": [],
   "source": [
    "# 4. Plot the data from the last question in a bar chart, include proper title, and labels!"
   ]
  },
  {
   "cell_type": "code",
   "execution_count": null,
   "metadata": {
    "collapsed": true
   },
   "outputs": [],
   "source": [
    "# 5. What is the average median salary for each major category?"
   ]
  },
  {
   "cell_type": "code",
   "execution_count": null,
   "metadata": {
    "collapsed": true
   },
   "outputs": [],
   "source": [
    "# 6. Show only the top 5 paying major categories"
   ]
  },
  {
   "cell_type": "code",
   "execution_count": null,
   "metadata": {
    "collapsed": true
   },
   "outputs": [],
   "source": [
    "# 7. Plot a histogram of the distribution of median salaries"
   ]
  },
  {
   "cell_type": "code",
   "execution_count": null,
   "metadata": {
    "collapsed": true
   },
   "outputs": [],
   "source": [
    "# 8. Plot a histogram of the distribution of median salaries by major category"
   ]
  },
  {
   "cell_type": "code",
   "execution_count": null,
   "metadata": {
    "collapsed": true
   },
   "outputs": [],
   "source": [
    "# 9. What are the top 10 most UNemployed majors?"
   ]
  },
  {
   "cell_type": "code",
   "execution_count": null,
   "metadata": {
    "collapsed": true
   },
   "outputs": [],
   "source": [
    "# What are the unemployment rates?"
   ]
  },
  {
   "cell_type": "code",
   "execution_count": null,
   "metadata": {
    "collapsed": true
   },
   "outputs": [],
   "source": [
    "# 10. What are the top 10 most UNemployed majors CATEGORIES? Use the mean for each category\n",
    "# What are the unemployment rates?"
   ]
  },
  {
   "cell_type": "code",
   "execution_count": null,
   "metadata": {
    "collapsed": true
   },
   "outputs": [],
   "source": [
    "# 11. the total and employed column refer to the people that were surveyed.\n",
    "# Create a new column showing the emlpoyment rate of the people surveyed for each major\n",
    "# call it \"sample_employment_rate\"\n",
    "# Example the first row has total: 128148 and employed: 90245. it's \n",
    "# sample_employment_rate should be 90245.0 / 128148.0 = .7042"
   ]
  },
  {
   "cell_type": "code",
   "execution_count": null,
   "metadata": {
    "collapsed": true
   },
   "outputs": [],
   "source": [
    "# 12. Create a \"sample_unemployment_rate\" column\n",
    "# this column should be 1 - \"sample_employment_rate\""
   ]
  },
  {
   "cell_type": "code",
   "execution_count": null,
   "metadata": {
    "collapsed": true
   },
   "outputs": [],
   "source": []
  }
 ],
 "metadata": {
  "anaconda-cloud": {},
  "kernelspec": {
   "display_name": "Python [bersonenv]",
   "language": "python",
   "name": "Python [bersonenv]"
  },
  "language_info": {
   "codemirror_mode": {
    "name": "ipython",
    "version": 2
   },
   "file_extension": ".py",
   "mimetype": "text/x-python",
   "name": "python",
   "nbconvert_exporter": "python",
   "pygments_lexer": "ipython2",
   "version": "2.7.12"
  }
 },
 "nbformat": 4,
 "nbformat_minor": 0
}
